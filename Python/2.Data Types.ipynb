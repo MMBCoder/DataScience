{
 "cells": [
  {
   "cell_type": "markdown",
   "metadata": {},
   "source": [
    " <img src='../Pierian_Data_Logo.png' /></a>"
   ]
  },
  {
   "cell_type": "markdown",
   "metadata": {},
   "source": [
    "**Data Types** <br>\n",
    "1. Numbers <br>\n",
    "2. Strings<br>\n",
    "3. Lists<br>\n",
    "4. Dictionaries<br>\n",
    "5. Booleans<br>\n",
    "6. Tuples <br>\n",
    "7. Sets<br>"
   ]
  },
  {
   "cell_type": "markdown",
   "metadata": {},
   "source": [
    "**Numbers:-** \n",
    "1. Addition(+)<br>\n",
    "2. Subtraction(-)<br>\n",
    "3. Multiplication (****)<br>***\n",
    "4. Division (/)<br>\n",
    "5. Remainder(%)<br>\n",
    "6. Power(**)<br>\n",
    "7. Expression<br>\n",
    "8. Variable Assignment<br>\n"
   ]
  },
  {
   "cell_type": "code",
   "execution_count": 4,
   "metadata": {},
   "outputs": [
    {
     "name": "stdout",
     "output_type": "stream",
     "text": [
      "Sum of 1+2= 3\n",
      "Subtraction of 4-1= 3\n",
      "Multiplication of 3*4= 12\n",
      "Division of 12/3= 4.0\n",
      "Remainder of 14%3= 2\n",
      "Power of 3**4= 81\n",
      "Value of expression 3+4*2+6-1= 16\n",
      "Value of expression (3+4)*(2+6-1)= 49\n"
     ]
    }
   ],
   "source": [
    "print(\"Sum of 1+2=\",1+2)#Addition\n",
    "print(\"Subtraction of 4-1=\",4-1)#Subtraction(-)\n",
    "print(\"Multiplication of 3*4=\",3*4)#3.Multiplication (*)\n",
    "print(\"Division of 12/3=\",12/3)#4.Division (/)\n",
    "print(\"Remainder of 14%3=\",14%3)#5.Remainder(%)\n",
    "print(\"Power of 3**4=\",3**4)#6.Power(**)\n",
    "print(\"Value of expression 3+4*2+6-1=\",3+4*2+6-1)#7.Expression\n",
    "print(\"Value of expression (3+4)*(2+6-1)=\",(3+4)*(2+6-1))"
   ]
  },
  {
   "cell_type": "markdown",
   "metadata": {},
   "source": [
    "**Printing**"
   ]
  },
  {
   "cell_type": "code",
   "execution_count": 29,
   "metadata": {},
   "outputs": [
    {
     "data": {
      "text/plain": [
       "'hello'"
      ]
     },
     "execution_count": 29,
     "metadata": {},
     "output_type": "execute_result"
    }
   ],
   "source": [
    "var='hello'\n",
    "#Print var variable as text. \n",
    "var"
   ]
  },
  {
   "cell_type": "code",
   "execution_count": 32,
   "metadata": {},
   "outputs": [
    {
     "name": "stdout",
     "output_type": "stream",
     "text": [
      "hello!\n",
      "hello!\n"
     ]
    }
   ],
   "source": [
    "#Print statement print only string,remove quote\n",
    "print('hello!')\n",
    "print(\"hello!\")"
   ]
  },
  {
   "cell_type": "markdown",
   "metadata": {},
   "source": [
    "**Variable Assignment** <br>\n",
    "* Variable can't start with number or special character except Underscores _ <br>\n",
    "* It is Case sensitive\n",
    "\n",
    "Syntax: Variable_name=value"
   ]
  },
  {
   "cell_type": "code",
   "execution_count": 17,
   "metadata": {},
   "outputs": [
    {
     "name": "stdout",
     "output_type": "stream",
     "text": [
      "4\n",
      "5\n"
     ]
    }
   ],
   "source": [
    "x=4\n",
    "y=5\n",
    "print(x)\n",
    "print(y)"
   ]
  },
  {
   "cell_type": "code",
   "execution_count": 18,
   "metadata": {},
   "outputs": [
    {
     "data": {
      "text/plain": [
       "9"
      ]
     },
     "execution_count": 18,
     "metadata": {},
     "output_type": "execute_result"
    }
   ],
   "source": [
    "#Variable_name=Expression\n",
    "z=x+y\n",
    "z"
   ]
  },
  {
   "cell_type": "code",
   "execution_count": 21,
   "metadata": {},
   "outputs": [
    {
     "data": {
      "text/plain": [
       "15"
      ]
     },
     "execution_count": 21,
     "metadata": {},
     "output_type": "execute_result"
    }
   ],
   "source": [
    "#Reassign/update Variable\n",
    "z=z+2\n",
    "z"
   ]
  },
  {
   "cell_type": "markdown",
   "metadata": {},
   "source": [
    "**String :-** \n",
    "1. String assigned in Single Quote<br>\n",
    "2. String assigned in double Quote<br>\n",
    "3. Single quote kept in double quote<br>\n",
    "4. Macro Variable Assignment & Print String<br>\n",
    "5. Index in the String<br>"
   ]
  },
  {
   "cell_type": "code",
   "execution_count": 22,
   "metadata": {},
   "outputs": [
    {
     "data": {
      "text/plain": [
       "'My Name is Shashi Kumar'"
      ]
     },
     "execution_count": 22,
     "metadata": {},
     "output_type": "execute_result"
    }
   ],
   "source": [
    "# 1. String assigned in Single Quote\n",
    "'My Name is Shashi Kumar'"
   ]
  },
  {
   "cell_type": "code",
   "execution_count": 26,
   "metadata": {},
   "outputs": [
    {
     "data": {
      "text/plain": [
       "'My Name is Shashi Kumar'"
      ]
     },
     "execution_count": 26,
     "metadata": {},
     "output_type": "execute_result"
    }
   ],
   "source": [
    "# 2. String assigned in double Quote\n",
    "\"My Name is Shashi Kumar\""
   ]
  },
  {
   "cell_type": "code",
   "execution_count": 28,
   "metadata": {},
   "outputs": [
    {
     "data": {
      "text/plain": [
       "\"My Name is 'Shashi Kumar'\""
      ]
     },
     "execution_count": 28,
     "metadata": {},
     "output_type": "execute_result"
    }
   ],
   "source": [
    "# 3. Single quote kept in double quote\n",
    "\"My Name is 'Shashi Kumar'\""
   ]
  },
  {
   "cell_type": "code",
   "execution_count": 34,
   "metadata": {},
   "outputs": [],
   "source": [
    "#4. Assign varible treat as macro variable\n",
    "Country='USA'\n",
    "Country_Code=840"
   ]
  },
  {
   "cell_type": "code",
   "execution_count": 42,
   "metadata": {},
   "outputs": [
    {
     "name": "stdout",
     "output_type": "stream",
     "text": [
      "His Country is USA and country code is 840\n"
     ]
    }
   ],
   "source": [
    "#Positional parameter:-\n",
    "#Macro varible assign respective to position\n",
    "print('His Country is {} and country code is {}'.format(Country,Country_Code))"
   ]
  },
  {
   "cell_type": "code",
   "execution_count": 45,
   "metadata": {},
   "outputs": [
    {
     "name": "stdout",
     "output_type": "stream",
     "text": [
      "His Country is USA and country code is 840\n"
     ]
    }
   ],
   "source": [
    "#Keyword Parameter:-\n",
    "#Macro varible assign respective to keyword\n",
    "print('His Country is {cnt} and country code is {code}'.format(cnt=Country,code=Country_Code))"
   ]
  },
  {
   "cell_type": "code",
   "execution_count": 44,
   "metadata": {},
   "outputs": [
    {
     "name": "stdout",
     "output_type": "stream",
     "text": [
      "His Country is USA and country code is 840\n"
     ]
    }
   ],
   "source": [
    "#keyword position can be change\n",
    "print('His Country is {cnt} and country code is {code}'.format(code=Country_Code,cnt=Country))"
   ]
  },
  {
   "cell_type": "markdown",
   "metadata": {},
   "source": [
    "**Index**"
   ]
  },
  {
   "cell_type": "code",
   "execution_count": 47,
   "metadata": {},
   "outputs": [
    {
     "data": {
      "text/plain": [
       "'Python'"
      ]
     },
     "execution_count": 47,
     "metadata": {},
     "output_type": "execute_result"
    }
   ],
   "source": [
    "#Assign & print Variable\n",
    "var='Python'\n",
    "var"
   ]
  },
  {
   "cell_type": "markdown",
   "metadata": {},
   "source": [
    "**Index:Extract 'n' character from String.** <br>\n",
    "Syntex: variable_name[Starting Position:End Position] <br>\n",
    "Note:- \n",
    "1. Charater Start from 0 (i.e position sequence: 'python'=[p=0,y=1,t=2,h=3,0=4,n=5)<br>\n",
    "String : P Y T H O N <br>\n",
    "Index  : 0 1 2 3 4 5\n",
    "2. Starting Position included <br>\n",
    "3. End Position excluded <br>"
   ]
  },
  {
   "cell_type": "code",
   "execution_count": 48,
   "metadata": {},
   "outputs": [
    {
     "data": {
      "text/plain": [
       "'P'"
      ]
     },
     "execution_count": 48,
     "metadata": {},
     "output_type": "execute_result"
    }
   ],
   "source": [
    "#Extract First charcter from the string\n",
    "var[0]"
   ]
  },
  {
   "cell_type": "code",
   "execution_count": 49,
   "metadata": {},
   "outputs": [
    {
     "data": {
      "text/plain": [
       "'Pyt'"
      ]
     },
     "execution_count": 49,
     "metadata": {},
     "output_type": "execute_result"
    }
   ],
   "source": [
    "#Extract first 3 charcter from the string\n",
    "var[0:3]"
   ]
  },
  {
   "cell_type": "code",
   "execution_count": 52,
   "metadata": {},
   "outputs": [
    {
     "data": {
      "text/plain": [
       "'tho'"
      ]
     },
     "execution_count": 52,
     "metadata": {},
     "output_type": "execute_result"
    }
   ],
   "source": [
    "#Extract charcter 3rd  to 5th position characters from the string\n",
    "var[2:5]"
   ]
  },
  {
   "cell_type": "markdown",
   "metadata": {},
   "source": [
    "**String Concatenation (+)** <br>\n",
    "'+' symbol concatenate the words"
   ]
  },
  {
   "cell_type": "code",
   "execution_count": 102,
   "metadata": {},
   "outputs": [
    {
     "name": "stdout",
     "output_type": "stream",
     "text": [
      "I love Python.\n"
     ]
    }
   ],
   "source": [
    "print('I ' + 'love ' + 'Python.')"
   ]
  },
  {
   "cell_type": "code",
   "execution_count": 103,
   "metadata": {},
   "outputs": [
    {
     "name": "stdout",
     "output_type": "stream",
     "text": [
      "I love Python.\n"
     ]
    }
   ],
   "source": [
    "first = 'I'\n",
    "second = 'love'\n",
    "third = 'Python'\n",
    "sentence = first + ' ' + second + ' ' +third + '.'\n",
    "print(sentence)"
   ]
  },
  {
   "cell_type": "markdown",
   "metadata": {},
   "source": [
    "**Repeating Strings**"
   ]
  },
  {
   "cell_type": "code",
   "execution_count": 104,
   "metadata": {},
   "outputs": [
    {
     "name": "stdout",
     "output_type": "stream",
     "text": [
      "----------\n",
      "happy happy happy \n"
     ]
    }
   ],
   "source": [
    "print('-' * 10)\n",
    "happiness = 'happy ' * 3\n",
    "print(happiness)"
   ]
  },
  {
   "cell_type": "markdown",
   "metadata": {},
   "source": [
    "**Formatting Strings**"
   ]
  },
  {
   "cell_type": "code",
   "execution_count": 113,
   "metadata": {},
   "outputs": [
    {
     "name": "stdout",
     "output_type": "stream",
     "text": [
      "I love Python.\n",
      "I love Python.\n",
      "I love Python. Python loves me.\n"
     ]
    }
   ],
   "source": [
    "print('I {} Python.'.format('love')) #first {} replace by first value of format function\n",
    "print('{} {} {}'.format('I', 'love', 'Python.'))#first {} replace by first value of format function,\n",
    "                                                #2nd {} replace by 2nd value of format function......\n",
    "\n",
    "print('I {0} {1}. {1} {0}s me.'.format('love', 'Python'))\n",
    "#Explicity specified which position of parameter will be useful for format field by providing number in {}\n",
    "#{0} replaced by first parameter of format field.{1} replaced by 2nd parameter of format field"
   ]
  },
  {
   "cell_type": "code",
   "execution_count": 108,
   "metadata": {},
   "outputs": [
    {
     "name": "stdout",
     "output_type": "stream",
     "text": [
      "I love Python.\n"
     ]
    }
   ],
   "source": [
    "first = 'I'\n",
    "second = 'love'\n",
    "third = 'Python'\n",
    "print('{} {} {}.'.format(first, second, third))"
   ]
  },
  {
   "cell_type": "code",
   "execution_count": 117,
   "metadata": {},
   "outputs": [
    {
     "name": "stdout",
     "output_type": "stream",
     "text": [
      "Fruit    | Quantity\n",
      "Apple    |        3\n",
      "Orange   |       10\n"
     ]
    }
   ],
   "source": [
    "print('{0:8} | {1:8}'.format('Fruit', 'Quantity'))\n",
    "print('{0:8} | {1:8}'.format('Apple', 3))\n",
    "print('{0:8} | {1:8}'.format('Orange', 10))"
   ]
  },
  {
   "cell_type": "markdown",
   "metadata": {},
   "source": [
    "**Formatting Strings Alignment**<br>\n",
    "1.<:left<br>\n",
    "2.^:Right<br>\n",
    "3.>: Centre"
   ]
  },
  {
   "cell_type": "code",
   "execution_count": 114,
   "metadata": {},
   "outputs": [
    {
     "name": "stdout",
     "output_type": "stream",
     "text": [
      "Fruit    | Quantity4\n",
      "Apple    | 3       \n",
      "Oranges  | 10      \n"
     ]
    }
   ],
   "source": [
    "print('{0:8} | {1:<8}'.format('Fruit', 'Quantity4'))#< denotes vales left aligned\n",
    "print('{0:8} | {1:<8}'.format('Apple', 3))\n",
    "print('{0:8} | {1:<8}'.format('Oranges', 10))"
   ]
  },
  {
   "cell_type": "code",
   "execution_count": 119,
   "metadata": {},
   "outputs": [
    {
     "name": "stdout",
     "output_type": "stream",
     "text": [
      "Fruit    | Quantity\n",
      "Apple    | 2.33    \n",
      "Oranges  | 10.00   \n"
     ]
    }
   ],
   "source": [
    "# f :Float\n",
    "# .Nf  N = The number of decimal places\n",
    "print('{0:8} | {1:<8}'.format('Fruit', 'Quantity'))\n",
    "print('{0:8} | {1:<8.2f}'.format('Apple', 2.33333))#.2f:return value upto 2 decimal place,< denotes left align\n",
    "print('{0:8} | {1:<8.2f}'.format('Oranges', 10))"
   ]
  },
  {
   "cell_type": "markdown",
   "metadata": {},
   "source": [
    "**Exercise 1:**<br>\n",
    "Let's assume you are planning to use your Python skills to build a social networking service.You decide to host your application on servers running in the cloud. You pick a hosting providerthat charges $0.51 per hour. You will launch your service using one server and want to know how much it will cost to operate per day and per month.<br>\n",
    "\n",
    "Write a Python program that displays the answers to the following questions:<br>\n",
    "How much does it cost to operate one server per day?,<br>\n",
    "How much does it cost to operate one server per month?"
   ]
  },
  {
   "cell_type": "code",
   "execution_count": 9,
   "metadata": {},
   "outputs": [
    {
     "name": "stdout",
     "output_type": "stream",
     "text": [
      "cost to operate one server per day= 12.24\n",
      "cost to operate one server per month= 367.2\n"
     ]
    }
   ],
   "source": [
    "Charge=0.51\n",
    "cost_per_day=Charge*24\n",
    "cost_per_month=cost_per_day*30\n",
    "print(\"cost to operate one server per day=\",cost_per_day)\n",
    "print(\"cost to operate one server per month=\",cost_per_month)\n"
   ]
  },
  {
   "cell_type": "markdown",
   "metadata": {},
   "source": [
    "**Exercise 2:**<br>\n",
    "Building on the previous example, let's also assume that you have saved dollar 918 to fund your new adventure. You wonder \n",
    "how many days you can keep one server running before your money runs out. Of course, you hope your social\n",
    "network becomes popular and requires 20 servers tokeep up with the demand. How much will it cost to operate at that point?<br>\n",
    "\n",
    "Write a Python program that displays the answers to the following questions:<br>\n",
    "How much does it cost to operate one server per day?<br>\n",
    "How much does it cost to operate one server per month?<br>\n",
    "How much does it cost to operate twenty servers per day?<br>\n",
    "How much does it cost to operate twenty servers per month?<br>\n",
    "How many days can I operate one server with $918?\n"
   ]
  },
  {
   "cell_type": "code",
   "execution_count": 11,
   "metadata": {},
   "outputs": [
    {
     "name": "stdout",
     "output_type": "stream",
     "text": [
      "cost to operate one server per day= 12.24\n",
      "cost to operate one server per month= 367.2\n",
      "cost to operate twenty servers per day= 244.8\n",
      " cost to operate twenty servers per month= 7344.0\n",
      " days can I operate one server with $918= 75.0\n"
     ]
    }
   ],
   "source": [
    "print(\"cost to operate one server per day=\",cost_per_day)\n",
    "print(\"cost to operate one server per month=\",cost_per_month)\n",
    "print(\"cost to operate twenty servers per day=\",cost_per_day*20)\n",
    "print(\" cost to operate twenty servers per month=\",cost_per_month*20)\n",
    "print(\" days can I operate one server with $918=\",918/cost_per_day)"
   ]
  },
  {
   "cell_type": "markdown",
   "metadata": {},
   "source": [
    "**List[,]:-** A list is a data type that holds an ordered collection of items.The items can be of various data types.<br>\n",
    "1. Assign Varible as numeric list <br>\n",
    "2. Assign Varible as character list<br>\n",
    "3. Assign Varible as numeric+character list<br>\n",
    "\n",
    "4. Nested list<br>\n"
   ]
  },
  {
   "cell_type": "code",
   "execution_count": 13,
   "metadata": {},
   "outputs": [
    {
     "data": {
      "text/plain": [
       "[1, 3, 5, 7]"
      ]
     },
     "execution_count": 13,
     "metadata": {},
     "output_type": "execute_result"
    }
   ],
   "source": [
    "#1.Assign Varible as numeric list \n",
    "num=[1,3,5,7]\n",
    "num"
   ]
  },
  {
   "cell_type": "code",
   "execution_count": 14,
   "metadata": {},
   "outputs": [
    {
     "data": {
      "text/plain": [
       "['a', 'b', 'c']"
      ]
     },
     "execution_count": 14,
     "metadata": {},
     "output_type": "execute_result"
    }
   ],
   "source": [
    "# 2.Assign Varible as character list \n",
    "char=['a','b','c']\n",
    "char"
   ]
  },
  {
   "cell_type": "code",
   "execution_count": 15,
   "metadata": {},
   "outputs": [
    {
     "data": {
      "text/plain": [
       "[1, 2, 'a']"
      ]
     },
     "execution_count": 15,
     "metadata": {},
     "output_type": "execute_result"
    }
   ],
   "source": [
    "#3.Assign Varible as numeric+character list\n",
    "num_char=[1,2,'a']\n",
    "num_char"
   ]
  },
  {
   "cell_type": "code",
   "execution_count": 33,
   "metadata": {},
   "outputs": [
    {
     "name": "stdout",
     "output_type": "stream",
     "text": [
      "No cats found.\n"
     ]
    }
   ],
   "source": [
    "#Exception Handling\n",
    "animals = ['man', 'bear', 'pig']\n",
    "\n",
    "try:\n",
    " cat_index = animals.index('cat')\n",
    "except:\n",
    " cat_index = 'No cats found.'\n",
    "print(cat_index)"
   ]
  },
  {
   "cell_type": "code",
   "execution_count": 89,
   "metadata": {},
   "outputs": [
    {
     "data": {
      "text/plain": [
       "[2, 'a']"
      ]
     },
     "execution_count": 89,
     "metadata": {},
     "output_type": "execute_result"
    }
   ],
   "source": [
    "#Index : print 3rd to 5th values of list\n",
    "num_char[2:4] "
   ]
  },
  {
   "cell_type": "code",
   "execution_count": 90,
   "metadata": {},
   "outputs": [
    {
     "data": {
      "text/plain": [
       "'c'"
      ]
     },
     "execution_count": 90,
     "metadata": {},
     "output_type": "execute_result"
    }
   ],
   "source": [
    "#Index : print last values from the list\n",
    "#Negative indexing means starting from the end of the list.\n",
    "num_char[-1]"
   ]
  },
  {
   "cell_type": "code",
   "execution_count": 95,
   "metadata": {},
   "outputs": [
    {
     "data": {
      "text/plain": [
       "[2, 'a']"
      ]
     },
     "execution_count": 95,
     "metadata": {},
     "output_type": "execute_result"
    }
   ],
   "source": [
    "#negative Index : print last to 3rd last values from the list\n",
    "#This example returns the items from index -3 (included) to index -1 (excluded)\n",
    "num_char[-3:-1]"
   ]
  },
  {
   "cell_type": "markdown",
   "metadata": {},
   "source": [
    "**Nested List** <br>\n",
    "List inside the other lists"
   ]
  },
  {
   "cell_type": "code",
   "execution_count": 99,
   "metadata": {},
   "outputs": [],
   "source": [
    "#nest=[list1[lit2[list3]]]\n",
    "nest = [1,2,3,[4,5,['King','Boy']]]"
   ]
  },
  {
   "cell_type": "code",
   "execution_count": 100,
   "metadata": {},
   "outputs": [
    {
     "data": {
      "text/plain": [
       "5"
      ]
     },
     "execution_count": 100,
     "metadata": {},
     "output_type": "execute_result"
    }
   ],
   "source": [
    "# Extract 2nd value from list 2\n",
    "nest[3][1]"
   ]
  },
  {
   "cell_type": "code",
   "execution_count": 101,
   "metadata": {},
   "outputs": [
    {
     "data": {
      "text/plain": [
       "'Boy'"
      ]
     },
     "execution_count": 101,
     "metadata": {},
     "output_type": "execute_result"
    }
   ],
   "source": [
    "# Extract 2nd value from list 3\n",
    "#variblename[position of 2rd list in 1nd list][position of 3rd list in 2nd list][position in 3rd list]\n",
    "nest[3][2][1]"
   ]
  },
  {
   "cell_type": "markdown",
   "metadata": {},
   "source": [
    "## Dictionaries"
   ]
  },
  {
   "cell_type": "markdown",
   "metadata": {},
   "source": [
    "Hold key-value pairs called items.<br>\n",
    "dictionary_name = {key_1: value_1, key_N: value_N}<br>\n",
    "dictionary_name['key_1']=value_1<br>\n",
    "dictionary_name['key_N']=value_N"
   ]
  },
  {
   "cell_type": "code",
   "execution_count": 35,
   "metadata": {},
   "outputs": [],
   "source": [
    "#Assign Dictionary\n",
    "d={'k1':[1,2,3],'k2':[4,5,6]}"
   ]
  },
  {
   "cell_type": "code",
   "execution_count": 36,
   "metadata": {},
   "outputs": [
    {
     "data": {
      "text/plain": [
       "[1, 2, 3]"
      ]
     },
     "execution_count": 36,
     "metadata": {},
     "output_type": "execute_result"
    }
   ],
   "source": [
    "#find the value of first key\n",
    "d['k1']"
   ]
  },
  {
   "cell_type": "code",
   "execution_count": 37,
   "metadata": {},
   "outputs": [
    {
     "data": {
      "text/plain": [
       "2"
      ]
     },
     "execution_count": 37,
     "metadata": {},
     "output_type": "execute_result"
    }
   ],
   "source": [
    "#find the 1st index of key1\n",
    "#dictionary_name[keyname][index]\n",
    "d['k1'][1]"
   ]
  },
  {
   "cell_type": "code",
   "execution_count": 38,
   "metadata": {},
   "outputs": [
    {
     "data": {
      "text/plain": [
       "{'k1': [1, 2, 3], 'k2': [4, 5, 6], 'k3': [7, 8, 9]}"
      ]
     },
     "execution_count": 38,
     "metadata": {},
     "output_type": "execute_result"
    }
   ],
   "source": [
    "#Add item in the dictionary\n",
    "d['k3']=[7,8,9]\n",
    "d"
   ]
  },
  {
   "cell_type": "code",
   "execution_count": 39,
   "metadata": {},
   "outputs": [
    {
     "data": {
      "text/plain": [
       "{'k1': [1, 2, 3], 'k2': [4, 5, 6]}"
      ]
     },
     "execution_count": 39,
     "metadata": {},
     "output_type": "execute_result"
    }
   ],
   "source": [
    "#delete item in the dictionary:del keyword\n",
    "del d['k3']\n",
    "d"
   ]
  },
  {
   "cell_type": "code",
   "execution_count": 43,
   "metadata": {},
   "outputs": [
    {
     "data": {
      "text/plain": [
       "2"
      ]
     },
     "execution_count": 43,
     "metadata": {},
     "output_type": "execute_result"
    }
   ],
   "source": [
    "#determine the number of items in the dictionary\n",
    "len(d)"
   ]
  },
  {
   "cell_type": "markdown",
   "metadata": {},
   "source": [
    "## Nested Dictionaries"
   ]
  },
  {
   "cell_type": "code",
   "execution_count": 47,
   "metadata": {},
   "outputs": [],
   "source": [
    "d={'k1':{'innerkey':[1,2,3]}}"
   ]
  },
  {
   "cell_type": "code",
   "execution_count": 48,
   "metadata": {},
   "outputs": [
    {
     "data": {
      "text/plain": [
       "{'innerkey': [1, 2, 3]}"
      ]
     },
     "execution_count": 48,
     "metadata": {},
     "output_type": "execute_result"
    }
   ],
   "source": [
    "#find the value of first key\n",
    "d['k1']"
   ]
  },
  {
   "cell_type": "code",
   "execution_count": 49,
   "metadata": {},
   "outputs": [
    {
     "data": {
      "text/plain": [
       "2"
      ]
     },
     "execution_count": 49,
     "metadata": {},
     "output_type": "execute_result"
    }
   ],
   "source": [
    "d['k1']['innerkey'][1]"
   ]
  },
  {
   "cell_type": "code",
   "execution_count": null,
   "metadata": {},
   "outputs": [],
   "source": [
    "Difference between List & Tuple\n",
    "1.Tuples are immutable while lists are mutable.\n",
    "2."
   ]
  },
  {
   "cell_type": "markdown",
   "metadata": {},
   "source": [
    "## Set"
   ]
  },
  {
   "cell_type": "markdown",
   "metadata": {},
   "source": [
    "Set: It is a collection of unique elements."
   ]
  },
  {
   "cell_type": "code",
   "execution_count": 51,
   "metadata": {},
   "outputs": [
    {
     "data": {
      "text/plain": [
       "{1, 2, 3, 4}"
      ]
     },
     "execution_count": 51,
     "metadata": {},
     "output_type": "execute_result"
    }
   ],
   "source": [
    "s={1,2,3,4}\n",
    "s"
   ]
  },
  {
   "cell_type": "code",
   "execution_count": 52,
   "metadata": {},
   "outputs": [
    {
     "data": {
      "text/plain": [
       "{1, 2, 3, 4}"
      ]
     },
     "execution_count": 52,
     "metadata": {},
     "output_type": "execute_result"
    }
   ],
   "source": [
    "s={1,1,2,2,2,2,3,4,4,4,4}\n",
    "s"
   ]
  },
  {
   "cell_type": "code",
   "execution_count": 53,
   "metadata": {},
   "outputs": [
    {
     "data": {
      "text/plain": [
       "{1, 2, 3, 4}"
      ]
     },
     "execution_count": 53,
     "metadata": {},
     "output_type": "execute_result"
    }
   ],
   "source": [
    "#Convert List to set\n",
    "set([1,1,2,2,2,2,3,4,4,4,4])"
   ]
  },
  {
   "cell_type": "code",
   "execution_count": 54,
   "metadata": {},
   "outputs": [
    {
     "data": {
      "text/plain": [
       "{1, 2, 3, 4, 99}"
      ]
     },
     "execution_count": 54,
     "metadata": {},
     "output_type": "execute_result"
    }
   ],
   "source": [
    "#Add value in the Set\n",
    "s.add(99)\n",
    "s"
   ]
  },
  {
   "cell_type": "code",
   "execution_count": null,
   "metadata": {},
   "outputs": [],
   "source": []
  }
 ],
 "metadata": {
  "kernelspec": {
   "display_name": "Python 3",
   "language": "python",
   "name": "python3"
  },
  "language_info": {
   "codemirror_mode": {
    "name": "ipython",
    "version": 3
   },
   "file_extension": ".py",
   "mimetype": "text/x-python",
   "name": "python",
   "nbconvert_exporter": "python",
   "pygments_lexer": "ipython3",
   "version": "3.7.7"
  }
 },
 "nbformat": 4,
 "nbformat_minor": 4
}
