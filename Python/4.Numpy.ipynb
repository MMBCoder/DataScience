{
 "cells": [
  {
   "cell_type": "markdown",
   "metadata": {},
   "source": [
    "## NumPy"
   ]
  },
  {
   "cell_type": "markdown",
   "metadata": {},
   "source": [
    "NumPy provides an N-dimensional array type, the ndarray, which describes a collection of “items” of the same type. The items can be indexed using for example N integers.\n",
    "\n",
    "All ndarrays are homogenous: every item takes up the same size block of memory, and all blocks are interpreted in exactly the same way. How each item in the array is to be interpreted is specified by a separate data-type object, one of which is associated with every array. In addition to basic types (integers, floats, etc.), the data type objects can also represent data structures."
   ]
  },
  {
   "cell_type": "code",
   "execution_count": 4,
   "metadata": {},
   "outputs": [],
   "source": [
    "#install numpy package\n",
    "#!pip install numpy\n",
    "import numpy as np"
   ]
  },
  {
   "cell_type": "markdown",
   "metadata": {},
   "source": [
    "## 1) Array Creation"
   ]
  },
  {
   "cell_type": "markdown",
   "metadata": {},
   "source": [
    "### 1.1 From function"
   ]
  },
  {
   "cell_type": "code",
   "execution_count": 12,
   "metadata": {},
   "outputs": [
    {
     "name": "stdout",
     "output_type": "stream",
     "text": [
      "Array1:= [ 0  2  4  6  8 10]\n",
      "Float Array:= [ 4.  6.  8. 10.]\n",
      "Type:= <class 'numpy.ndarray'>\n"
     ]
    }
   ],
   "source": [
    "#np.arange([start,] stop[, step,], dtype=None)\n",
    "list_arr=np.arange(0,11,2)\n",
    "list_arr2=np.arange(4,11,step=2,dtype=float)\n",
    "print(\"Array1:=\",list_arr)\n",
    "print(\"Float Array:=\",list_arr2)\n",
    "print(\"Type:=\",type(list_arr))"
   ]
  },
  {
   "cell_type": "markdown",
   "metadata": {},
   "source": [
    "### 1.2 From List "
   ]
  },
  {
   "cell_type": "code",
   "execution_count": 14,
   "metadata": {},
   "outputs": [
    {
     "name": "stdout",
     "output_type": "stream",
     "text": [
      "List: [1, 2, 3, 4, 5]\n",
      "Convert list to Array: [1 2 3 4 5]\n"
     ]
    }
   ],
   "source": [
    "# Convert list to array\n",
    "my_list=[1,2,3,4,5]\n",
    "my_arr=np.array(my_list)\n",
    "print(\"List:\",my_list)\n",
    "print(\"Convert list to Array:\",my_arr)"
   ]
  },
  {
   "cell_type": "code",
   "execution_count": 20,
   "metadata": {},
   "outputs": [
    {
     "name": "stdout",
     "output_type": "stream",
     "text": [
      "List: [[1, 2], [3, 4, 5]]\n",
      "Convert list to Array: [list([1, 2]) list([3, 4, 5])]\n",
      "Numpy array should be homogeneous\n"
     ]
    }
   ],
   "source": [
    "# Convert 2d-list to array\n",
    "my_list2d=[[1,2],[3,4,5]]\n",
    "my_arr2d=np.array(my_list2d)\n",
    "print(\"List:\",my_list2d)\n",
    "print(\"Convert list to Array:\",my_arr2d)\n",
    "print(\"Numpy array should be homogeneous\")"
   ]
  },
  {
   "cell_type": "code",
   "execution_count": 25,
   "metadata": {},
   "outputs": [
    {
     "name": "stdout",
     "output_type": "stream",
     "text": [
      "List: [[1, 2, 8], [3, 4, 5]]\n",
      "Convert list to Array: [[1 2 8]\n",
      " [3 4 5]]\n",
      "All list have same length\n"
     ]
    }
   ],
   "source": [
    "# Convert 2d-list to array\n",
    "my2_list2d=[[1,2,8],[3,4,5]]\n",
    "my2_arr2d=np.array(my2_list2d)\n",
    "print(\"List:\",my2_list2d)\n",
    "print(\"Convert list to Array:\",my2_arr2d)\n",
    "print(\"All list have same length\")"
   ]
  },
  {
   "cell_type": "code",
   "execution_count": 27,
   "metadata": {},
   "outputs": [
    {
     "name": "stdout",
     "output_type": "stream",
     "text": [
      "List: [[1, 2, 8], [3, 4, 5], ['a', 'b', 'c']]\n",
      "Convert list to Array: [['1' '2' '8']\n",
      " ['3' '4' '5']\n",
      " ['a' 'b' 'c']]\n",
      "All list have same length,list may be integer or character\n"
     ]
    }
   ],
   "source": [
    "# Convert 2d-list to array\n",
    "my2_list2d=[[1,2,8],[3,4,5],[\"a\",'b','c']]\n",
    "my2_arr2d=np.array(my2_list2d)\n",
    "print(\"List:\",my2_list2d)\n",
    "print(\"Convert list to Array:\",my2_arr2d)\n",
    "print(\"All list have same length,list may be integer or character\")"
   ]
  },
  {
   "cell_type": "markdown",
   "metadata": {},
   "source": [
    "### 1.3 Character array"
   ]
  },
  {
   "cell_type": "code",
   "execution_count": 36,
   "metadata": {},
   "outputs": [
    {
     "name": "stdout",
     "output_type": "stream",
     "text": [
      "Chharacter Array:= [[b'a' b'a' b'a']\n",
      " [b'a' b'a' b'a']\n",
      " [b'a' b'a' b'a']]\n",
      "default length of character(itemsize)=1\n"
     ]
    }
   ],
   "source": [
    "charar = np.chararray((3,3))\n",
    "charar[:] = 'abc'\n",
    "print(\"Chharacter Array:=\",charar)\n",
    "print(\"default length of character(itemsize)=1\")"
   ]
  },
  {
   "cell_type": "code",
   "execution_count": 38,
   "metadata": {},
   "outputs": [
    {
     "name": "stdout",
     "output_type": "stream",
     "text": [
      "length of character(itemsize)=5\n"
     ]
    },
    {
     "data": {
      "text/plain": [
       "chararray([[b'abc', b'abc', b'abc'],\n",
       "           [b'abc', b'abc', b'abc'],\n",
       "           [b'abc', b'abc', b'abc']], dtype='|S5')"
      ]
     },
     "execution_count": 38,
     "metadata": {},
     "output_type": "execute_result"
    }
   ],
   "source": [
    "print(\"length of character(itemsize)=5\")\n",
    "charar = np.chararray(charar.shape, itemsize=5)\n",
    "charar[:] = 'abc'\n",
    "charar"
   ]
  },
  {
   "cell_type": "markdown",
   "metadata": {},
   "source": [
    "### 1.4 Some others arrays"
   ]
  },
  {
   "cell_type": "code",
   "execution_count": 39,
   "metadata": {},
   "outputs": [
    {
     "data": {
      "text/plain": [
       "array([0., 0., 0., 0.])"
      ]
     },
     "execution_count": 39,
     "metadata": {},
     "output_type": "execute_result"
    }
   ],
   "source": [
    "#Zero matrix\n",
    "np.zeros(4)\n"
   ]
  },
  {
   "cell_type": "code",
   "execution_count": 40,
   "metadata": {},
   "outputs": [
    {
     "data": {
      "text/plain": [
       "array([[0., 0., 0.],\n",
       "       [0., 0., 0.],\n",
       "       [0., 0., 0.]])"
      ]
     },
     "execution_count": 40,
     "metadata": {},
     "output_type": "execute_result"
    }
   ],
   "source": [
    "#Zero matrix 3X3\n",
    "#zeros(shape, dtype=float, order='C')\n",
    "np.zeros((3,3))"
   ]
  },
  {
   "cell_type": "code",
   "execution_count": 53,
   "metadata": {},
   "outputs": [
    {
     "data": {
      "text/plain": [
       "array([1., 1., 1.])"
      ]
     },
     "execution_count": 53,
     "metadata": {},
     "output_type": "execute_result"
    }
   ],
   "source": [
    "#ones(shape, dtype=None, order='C')\n",
    "np.ones(3)"
   ]
  },
  {
   "cell_type": "code",
   "execution_count": 54,
   "metadata": {},
   "outputs": [
    {
     "data": {
      "text/plain": [
       "array([[1., 1., 1.],\n",
       "       [1., 1., 1.],\n",
       "       [1., 1., 1.]])"
      ]
     },
     "execution_count": 54,
     "metadata": {},
     "output_type": "execute_result"
    }
   ],
   "source": [
    "#one matrix 3x3\n",
    "np.ones((3,3))"
   ]
  },
  {
   "cell_type": "code",
   "execution_count": 41,
   "metadata": {},
   "outputs": [
    {
     "data": {
      "text/plain": [
       "array([[1., 0., 0.],\n",
       "       [0., 1., 0.],\n",
       "       [0., 0., 1.]])"
      ]
     },
     "execution_count": 41,
     "metadata": {},
     "output_type": "execute_result"
    }
   ],
   "source": [
    "#Identity matrix\n",
    "np.eye(3)"
   ]
  },
  {
   "cell_type": "code",
   "execution_count": 42,
   "metadata": {},
   "outputs": [
    {
     "data": {
      "text/plain": [
       "array([  0.,  25.,  50.,  75., 100.])"
      ]
     },
     "execution_count": 42,
     "metadata": {},
     "output_type": "execute_result"
    }
   ],
   "source": [
    "#linspace(start, stop, num=50, endpoint=True, retstep=False, dtype=None, axis=0)\n",
    "#Return evenly spaced numbers over a specified interval.\n",
    "np.linspace(0,100,5)"
   ]
  },
  {
   "cell_type": "code",
   "execution_count": 49,
   "metadata": {},
   "outputs": [
    {
     "name": "stdout",
     "output_type": "stream",
     "text": [
      "Arrange :Return evenly spaced values within a given interval\n",
      "linspace :Return evenly spaced numbers over a specified interval.\n",
      "Arrange:- [ 0  2  4  6  8 10]\n",
      "linspace:- [ 0. 11.]\n"
     ]
    }
   ],
   "source": [
    "#arange vs linspace\n",
    "print(\"Arrange :Return evenly spaced values within a given interval\")\n",
    "print(\"linspace :Return evenly spaced numbers over a specified interval.\")\n",
    "print(\"Arrange:-\",np.arange(start=0,stop=11,step=2)) #default step=1\n",
    "print(\"linspace:-\",np.linspace(start=0,stop=11,num=2))#default num=50\n"
   ]
  },
  {
   "cell_type": "code",
   "execution_count": 55,
   "metadata": {},
   "outputs": [
    {
     "data": {
      "text/plain": [
       "array([0.93032483, 0.93966808, 0.45923146, 0.59259354])"
      ]
     },
     "execution_count": 55,
     "metadata": {},
     "output_type": "execute_result"
    }
   ],
   "source": [
    "#random sample values between [0,1] in uniform distribution: 1 dimension\n",
    "np.random.rand(4)"
   ]
  },
  {
   "cell_type": "code",
   "execution_count": 56,
   "metadata": {},
   "outputs": [
    {
     "data": {
      "text/plain": [
       "array([[0.15753092, 0.53090276, 0.80436684],\n",
       "       [0.84090029, 0.46736963, 0.3610907 ],\n",
       "       [0.11331221, 0.25455296, 0.41113375]])"
      ]
     },
     "execution_count": 56,
     "metadata": {},
     "output_type": "execute_result"
    }
   ],
   "source": [
    "#random sample values between [0,1] in uniform distribution:-2Dimension\n",
    "np.random.rand(3,3)"
   ]
  },
  {
   "cell_type": "code",
   "execution_count": 57,
   "metadata": {},
   "outputs": [
    {
     "data": {
      "text/plain": [
       "array([ 0.30485635, -0.09628324,  0.54596304, -0.50846178])"
      ]
     },
     "execution_count": 57,
     "metadata": {},
     "output_type": "execute_result"
    }
   ],
   "source": [
    "#in normal distribution(not uniform distribution)\n",
    "np.random.randn(4)"
   ]
  },
  {
   "cell_type": "code",
   "execution_count": 62,
   "metadata": {},
   "outputs": [
    {
     "name": "stdout",
     "output_type": "stream",
     "text": [
      "Random integer array values from 1 to 10 with size=8\n"
     ]
    },
    {
     "data": {
      "text/plain": [
       "array([6, 8, 9, 6, 6, 2, 1, 1])"
      ]
     },
     "execution_count": 62,
     "metadata": {},
     "output_type": "execute_result"
    }
   ],
   "source": [
    "# random integers\n",
    "print(\"Random integer array values from 1 to 10 with size=8\")\n",
    "np.random.randint(1,10,8)\n"
   ]
  },
  {
   "cell_type": "markdown",
   "metadata": {},
   "source": [
    "## 2) Operations"
   ]
  },
  {
   "cell_type": "markdown",
   "metadata": {},
   "source": [
    "### 2.1 Addition, Subtraction, Multiplication, Division"
   ]
  },
  {
   "cell_type": "code",
   "execution_count": 95,
   "metadata": {},
   "outputs": [
    {
     "name": "stdout",
     "output_type": "stream",
     "text": [
      "arr1: [ 1  2  3  4  5  6  7  8  9 10 11]\n",
      "arr2: [11 12 13 14 15 16 17 18 19 20 21]\n",
      "2d Array=: [[1 2 8]\n",
      " [3 4 5]]\n"
     ]
    }
   ],
   "source": [
    "arr1=np.arange(1,12)\n",
    "arr2=np.arange(11,22)\n",
    "my2_arr2d=np.array([[1,2,8],[3,4,5]])\n",
    "print(\"arr1:\",arr1)\n",
    "print(\"arr2:\",arr2)\n",
    "print(\"2d Array=:\",my2_arr2d)"
   ]
  },
  {
   "cell_type": "code",
   "execution_count": 73,
   "metadata": {},
   "outputs": [
    {
     "name": "stdout",
     "output_type": "stream",
     "text": [
      "arr1: [ 1  2  3  4  5  6  7  8  9 10 11]\n",
      "arr2: [11 12 13 14 15 16 17 18 19 20 21]\n",
      "Addition:= [12 14 16 18 20 22 24 26 28 30 32]\n",
      "Subtraction:= [10 10 10 10 10 10 10 10 10 10 10]\n",
      "Multiplication:= [ 11  24  39  56  75  96 119 144 171 200 231]\n",
      "Division:= [11.          6.          4.33333333  3.5         3.          2.66666667\n",
      "  2.42857143  2.25        2.11111111  2.          1.90909091]\n",
      "Remainder:= [ 0  0  1  2  0  4  3  2  1  0 10]\n"
     ]
    }
   ],
   "source": [
    "# Shape must be same\n",
    "#All Operrations: element by element\n",
    "Add=arr2+arr1\n",
    "Sub=arr2-arr1\n",
    "Mult=arr2*arr1\n",
    "Div=arr2/arr1\n",
    "Rem=arr2%arr1\n",
    "print(\"arr1:\",arr1)\n",
    "print(\"arr2:\",arr2)\n",
    "print(\"Addition:=\",Add)\n",
    "print(\"Subtraction:=\",Sub)\n",
    "print(\"Multiplication:=\",Mult)\n",
    "print(\"Division:=\",Div)\n",
    "print(\"Remainder:=\",Rem)"
   ]
  },
  {
   "cell_type": "code",
   "execution_count": 101,
   "metadata": {},
   "outputs": [
    {
     "name": "stdout",
     "output_type": "stream",
     "text": [
      "Multiplication by 3= [33 36 39 42 45 48 51 54 57 60 63]\n",
      "Power of 2= [121 144 169 196 225 256 289 324 361 400 441]\n",
      "Square:= [3.31662479 3.46410162 3.60555128 3.74165739 3.87298335 4.\n",
      " 4.12310563 4.24264069 4.35889894 4.47213595 4.58257569]\n",
      "Exponential= [5.98741417e+04 1.62754791e+05 4.42413392e+05 1.20260428e+06\n",
      " 3.26901737e+06 8.88611052e+06 2.41549528e+07 6.56599691e+07\n",
      " 1.78482301e+08 4.85165195e+08 1.31881573e+09]\n",
      "Minimum= 11\n",
      "Maximum= 21\n",
      "Dimension:= (2, 3)\n",
      "Reshape 3x2:= [[1 2]\n",
      " [8 3]\n",
      " [4 5]]\n",
      "Type:= int32\n",
      "Index Min value= 0\n",
      "Index Max value= 10\n",
      "Sin = [-0.99999021 -0.53657292  0.42016704  0.99060736  0.65028784 -0.28790332\n",
      " -0.96139749 -0.75098725  0.14987721  0.91294525  0.83665564]\n",
      "Cos = [ 0.0044257   0.84385396  0.90744678  0.13673722 -0.75968791 -0.95765948\n",
      " -0.27516334  0.66031671  0.98870462  0.40808206 -0.54772926]\n"
     ]
    }
   ],
   "source": [
    "\n",
    "#https://docs.scipy.org/doc/numpy/reference/ufuncs.html\n",
    "\n",
    "Mul_all=arr2*3\n",
    "Power=arr2**2\n",
    "sqrt=np.sqrt(arr2)\n",
    "Exp=np.exp(arr2)\n",
    "Min=np.min(arr2)\n",
    "Max=np.max(arr2)\n",
    "Shape=my2_arr2d.shape\n",
    "Reshape=my2_arr2d.reshape(3,2)\n",
    "Type=arr2.dtype\n",
    "arg_min=arr2.argmin()#Return index of min value\n",
    "arg_max=arr2.argmax()#Return index of max value\n",
    "Sin=np.sin(arr2)\n",
    "Cos=np.cos(arr2)\n",
    "\n",
    "print(\"Multiplication by 3=\",Mul_all)\n",
    "print(\"Power of 2=\",Power)\n",
    "print(\"Square:=\",sqrt)\n",
    "print(\"Exponential=\",Exp)\n",
    "print(\"Minimum=\",Min)\n",
    "print(\"Maximum=\",Max)\n",
    "print(\"Dimension:=\",Shape)\n",
    "print(\"Reshape 3x2:=\",Reshape)\n",
    "print(\"Type:=\",Type)\n",
    "print(\"Index Min value=\",arg_min)\n",
    "print(\"Index Max value=\",arg_max)\n",
    "print(\"Sin =\",Sin)\n",
    "print(\"Cos =\",Cos)\n",
    "\n"
   ]
  },
  {
   "cell_type": "code",
   "execution_count": 90,
   "metadata": {},
   "outputs": [
    {
     "name": "stdout",
     "output_type": "stream",
     "text": [
      "arr1: [1 2 3 4 5]\n",
      "arr2: [11 12 13 14 15 16 17 18 19 20 21]\n"
     ]
    }
   ],
   "source": [
    "arr1=np.arange(1,6)\n",
    "arr2=np.arange(11,22)\n",
    "print(\"arr1:\",arr1)\n",
    "print(\"arr2:\",arr2)"
   ]
  },
  {
   "cell_type": "code",
   "execution_count": 94,
   "metadata": {},
   "outputs": [
    {
     "ename": "ValueError",
     "evalue": "operands could not be broadcast together with shapes (11,) (5,) ",
     "output_type": "error",
     "traceback": [
      "\u001b[1;31m---------------------------------------------------------------------------\u001b[0m",
      "\u001b[1;31mValueError\u001b[0m                                Traceback (most recent call last)",
      "\u001b[1;32m<ipython-input-94-15f1097fd832>\u001b[0m in \u001b[0;36m<module>\u001b[1;34m\u001b[0m\n\u001b[0;32m      1\u001b[0m \u001b[1;31m#Both Array have differnt shape so error occurs..\u001b[0m\u001b[1;33m\u001b[0m\u001b[1;33m\u001b[0m\u001b[1;33m\u001b[0m\u001b[0m\n\u001b[1;32m----> 2\u001b[1;33m \u001b[0mAdd\u001b[0m\u001b[1;33m=\u001b[0m\u001b[0marr2\u001b[0m\u001b[1;33m+\u001b[0m\u001b[0marr1\u001b[0m\u001b[1;33m\u001b[0m\u001b[1;33m\u001b[0m\u001b[0m\n\u001b[0m\u001b[0;32m      3\u001b[0m \u001b[1;33m\u001b[0m\u001b[0m\n\u001b[0;32m      4\u001b[0m \u001b[0mprint\u001b[0m\u001b[1;33m(\u001b[0m\u001b[1;34m\"Addition:=\"\u001b[0m\u001b[1;33m,\u001b[0m\u001b[0mAdd\u001b[0m\u001b[1;33m)\u001b[0m\u001b[1;33m\u001b[0m\u001b[1;33m\u001b[0m\u001b[0m\n",
      "\u001b[1;31mValueError\u001b[0m: operands could not be broadcast together with shapes (11,) (5,) "
     ]
    }
   ],
   "source": [
    "#Both Array have differnt shape so error occurs..\n",
    "Add=arr2+arr1\n",
    "print(\"Addition:=\",Add)"
   ]
  },
  {
   "cell_type": "markdown",
   "metadata": {},
   "source": [
    "## Conditional Operations"
   ]
  },
  {
   "cell_type": "code",
   "execution_count": 125,
   "metadata": {},
   "outputs": [
    {
     "data": {
      "text/plain": [
       "array([11, 12, 13, 14, 15, 16, 17, 18, 19, 20])"
      ]
     },
     "execution_count": 125,
     "metadata": {},
     "output_type": "execute_result"
    }
   ],
   "source": [
    "arr=np.arange(11,21)\n",
    "arr"
   ]
  },
  {
   "cell_type": "code",
   "execution_count": 126,
   "metadata": {},
   "outputs": [
    {
     "data": {
      "text/plain": [
       "array([False, False, False,  True,  True,  True,  True,  True,  True,\n",
       "        True])"
      ]
     },
     "execution_count": 126,
     "metadata": {},
     "output_type": "execute_result"
    }
   ],
   "source": [
    "#Boolean Array\n",
    "arr>13"
   ]
  },
  {
   "cell_type": "code",
   "execution_count": 127,
   "metadata": {},
   "outputs": [
    {
     "data": {
      "text/plain": [
       "array([14, 15, 16, 17, 18, 19, 20])"
      ]
     },
     "execution_count": 127,
     "metadata": {},
     "output_type": "execute_result"
    }
   ],
   "source": [
    "#array_name[condition]\n",
    "arr[arr>13]"
   ]
  },
  {
   "cell_type": "code",
   "execution_count": 128,
   "metadata": {},
   "outputs": [
    {
     "data": {
      "text/plain": [
       "(array([3, 4, 5, 6, 7, 8, 9], dtype=int64),)"
      ]
     },
     "execution_count": 128,
     "metadata": {},
     "output_type": "execute_result"
    }
   ],
   "source": [
    "#true condition with index array\n",
    "np.where(arr>13)"
   ]
  },
  {
   "cell_type": "code",
   "execution_count": 129,
   "metadata": {},
   "outputs": [
    {
     "data": {
      "text/plain": [
       "array([14, 15, 16, 17, 18, 19, 20])"
      ]
     },
     "execution_count": 129,
     "metadata": {},
     "output_type": "execute_result"
    }
   ],
   "source": [
    "arr[np.where(arr>13)]"
   ]
  },
  {
   "cell_type": "markdown",
   "metadata": {},
   "source": [
    "## Indexing"
   ]
  },
  {
   "cell_type": "code",
   "execution_count": 108,
   "metadata": {},
   "outputs": [
    {
     "data": {
      "text/plain": [
       "array([ 1,  2,  3,  4,  5,  6,  7,  8,  9, 10])"
      ]
     },
     "execution_count": 108,
     "metadata": {},
     "output_type": "execute_result"
    }
   ],
   "source": [
    "arr=np.arange(1,11)\n",
    "arr"
   ]
  },
  {
   "cell_type": "code",
   "execution_count": 109,
   "metadata": {},
   "outputs": [
    {
     "data": {
      "text/plain": [
       "9"
      ]
     },
     "execution_count": 109,
     "metadata": {},
     "output_type": "execute_result"
    }
   ],
   "source": [
    "#find 9th position of array\n",
    "arr[8]"
   ]
  },
  {
   "cell_type": "code",
   "execution_count": 110,
   "metadata": {},
   "outputs": [
    {
     "data": {
      "text/plain": [
       "array([2, 3, 4, 5])"
      ]
     },
     "execution_count": 110,
     "metadata": {},
     "output_type": "execute_result"
    }
   ],
   "source": [
    "#find 2nd position to 4th  position of array\n",
    "#array[Star:end] #start:included & end:excluded\n",
    "arr[1:5]"
   ]
  },
  {
   "cell_type": "code",
   "execution_count": 111,
   "metadata": {},
   "outputs": [
    {
     "data": {
      "text/plain": [
       "array([1, 2, 3, 4, 5])"
      ]
     },
     "execution_count": 111,
     "metadata": {},
     "output_type": "execute_result"
    }
   ],
   "source": [
    "#find array up to 4th position\n",
    "arr[:5]"
   ]
  },
  {
   "cell_type": "code",
   "execution_count": 112,
   "metadata": {},
   "outputs": [
    {
     "data": {
      "text/plain": [
       "array([ 6,  7,  8,  9, 10])"
      ]
     },
     "execution_count": 112,
     "metadata": {},
     "output_type": "execute_result"
    }
   ],
   "source": [
    "#find array position 4th to last position\n",
    "arr[5:]"
   ]
  },
  {
   "cell_type": "code",
   "execution_count": 130,
   "metadata": {},
   "outputs": [
    {
     "data": {
      "text/plain": [
       "array([[1, 2, 3],\n",
       "       [4, 5, 6],\n",
       "       [7, 8, 9]])"
      ]
     },
     "execution_count": 130,
     "metadata": {},
     "output_type": "execute_result"
    }
   ],
   "source": [
    "#create 2-d array\n",
    "arr_2d=np.array([[1,2,3],[4,5,6],[7,8,9]])\n",
    "arr_2d"
   ]
  },
  {
   "cell_type": "code",
   "execution_count": 131,
   "metadata": {},
   "outputs": [
    {
     "data": {
      "text/plain": [
       "array([1, 2, 3])"
      ]
     },
     "execution_count": 131,
     "metadata": {},
     "output_type": "execute_result"
    }
   ],
   "source": [
    "#Find first array from 2d\n",
    "arr_2d[0]"
   ]
  },
  {
   "cell_type": "code",
   "execution_count": 132,
   "metadata": {},
   "outputs": [
    {
     "data": {
      "text/plain": [
       "2"
      ]
     },
     "execution_count": 132,
     "metadata": {},
     "output_type": "execute_result"
    }
   ],
   "source": [
    "#Find 2nd position from first array \n",
    "array_name[row][column]\n",
    "arr_2d[0][1]"
   ]
  },
  {
   "cell_type": "code",
   "execution_count": 133,
   "metadata": {},
   "outputs": [
    {
     "data": {
      "text/plain": [
       "2"
      ]
     },
     "execution_count": 133,
     "metadata": {},
     "output_type": "execute_result"
    }
   ],
   "source": [
    "#array_name[row,column]\n",
    "arr_2d[0,1]"
   ]
  },
  {
   "cell_type": "markdown",
   "metadata": {},
   "source": [
    "## Replace values from array"
   ]
  },
  {
   "cell_type": "code",
   "execution_count": 134,
   "metadata": {},
   "outputs": [
    {
     "data": {
      "text/plain": [
       "array([ 1,  2,  3,  4,  5,  6,  7,  8,  9, 10])"
      ]
     },
     "execution_count": 134,
     "metadata": {},
     "output_type": "execute_result"
    }
   ],
   "source": [
    "arr=np.arange(1,11)\n",
    "arr"
   ]
  },
  {
   "cell_type": "code",
   "execution_count": 135,
   "metadata": {},
   "outputs": [
    {
     "data": {
      "text/plain": [
       "array([99, 99, 99, 99, 99, 99, 99, 99, 99, 99])"
      ]
     },
     "execution_count": 135,
     "metadata": {},
     "output_type": "execute_result"
    }
   ],
   "source": [
    "#Replace all values with 99\n",
    "arr[:]=99\n",
    "arr"
   ]
  },
  {
   "cell_type": "code",
   "execution_count": 136,
   "metadata": {},
   "outputs": [
    {
     "data": {
      "text/plain": [
       "array([99, 99, 99, 99, 99,  6,  7,  8,  9, 10])"
      ]
     },
     "execution_count": 136,
     "metadata": {},
     "output_type": "execute_result"
    }
   ],
   "source": [
    "arr=np.arange(1,11)\n",
    "#Replace values 1st position to 5th position as 99\n",
    "arr[0:5]=99\n",
    "arr"
   ]
  },
  {
   "cell_type": "markdown",
   "metadata": {},
   "source": [
    "## Array Copy "
   ]
  },
  {
   "cell_type": "code",
   "execution_count": 141,
   "metadata": {},
   "outputs": [
    {
     "data": {
      "text/plain": [
       "array([ 1,  2,  3,  4,  5,  6,  7,  8,  9, 10])"
      ]
     },
     "execution_count": 141,
     "metadata": {},
     "output_type": "execute_result"
    }
   ],
   "source": [
    "arr=np.arange(1,11)\n",
    "arr"
   ]
  },
  {
   "cell_type": "code",
   "execution_count": 142,
   "metadata": {},
   "outputs": [
    {
     "data": {
      "text/plain": [
       "array([1, 2, 3, 4, 5, 6])"
      ]
     },
     "execution_count": 142,
     "metadata": {},
     "output_type": "execute_result"
    }
   ],
   "source": [
    "arr2=arr[0:6]\n",
    "arr2"
   ]
  },
  {
   "cell_type": "code",
   "execution_count": 143,
   "metadata": {},
   "outputs": [
    {
     "data": {
      "text/plain": [
       "array([99, 99, 99, 99, 99, 99])"
      ]
     },
     "execution_count": 143,
     "metadata": {},
     "output_type": "execute_result"
    }
   ],
   "source": [
    "arr2[:]=99\n",
    "arr2"
   ]
  },
  {
   "cell_type": "code",
   "execution_count": 144,
   "metadata": {},
   "outputs": [
    {
     "data": {
      "text/plain": [
       "array([99, 99, 99, 99, 99, 99,  7,  8,  9, 10])"
      ]
     },
     "execution_count": 144,
     "metadata": {},
     "output_type": "execute_result"
    }
   ],
   "source": [
    "arr"
   ]
  },
  {
   "cell_type": "markdown",
   "metadata": {},
   "source": [
    "#### if we replace value in the copied array  ,it will affect the original array also."
   ]
  },
  {
   "cell_type": "code",
   "execution_count": 147,
   "metadata": {},
   "outputs": [
    {
     "name": "stdout",
     "output_type": "stream",
     "text": [
      "arr= [ 1  2  3  4  5  6  7  8  9 10]\n",
      "Copy array = [99 99 99 99 99  6  7  8  9 10]\n"
     ]
    }
   ],
   "source": [
    "arr=np.arange(1,11)\n",
    "arr3=arr.copy()\n",
    "arr3[0:5]=99\n",
    "print(\"arr=\",arr)\n",
    "print(\"Copy array =\",arr3)"
   ]
  },
  {
   "cell_type": "markdown",
   "metadata": {},
   "source": [
    "#### if we replace value in the copied(use copy()) array  ,it will not affect the original array."
   ]
  },
  {
   "cell_type": "code",
   "execution_count": null,
   "metadata": {},
   "outputs": [],
   "source": []
  }
 ],
 "metadata": {
  "kernelspec": {
   "display_name": "Python 3",
   "language": "python",
   "name": "python3"
  },
  "language_info": {
   "codemirror_mode": {
    "name": "ipython",
    "version": 3
   },
   "file_extension": ".py",
   "mimetype": "text/x-python",
   "name": "python",
   "nbconvert_exporter": "python",
   "pygments_lexer": "ipython3",
   "version": "3.7.3"
  }
 },
 "nbformat": 4,
 "nbformat_minor": 2
}
