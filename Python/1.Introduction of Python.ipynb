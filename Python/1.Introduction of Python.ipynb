{
 "cells": [
  {
   "cell_type": "markdown",
   "metadata": {},
   "source": [
    "# What is Python"
   ]
  },
  {
   "cell_type": "markdown",
   "metadata": {},
   "source": [
    "Python is a general-purpose interpreted, interactive, object-oriented, and high-level programming language. \n",
    "It was created by Guido van Rossum during 1985- 1990. Like Perl, Python source code is also available under the GNU General Public License (GPL).\n",
    "    "
   ]
  },
  {
   "cell_type": "markdown",
   "metadata": {},
   "source": [
    "# Why to Learn Python"
   ]
  },
  {
   "cell_type": "markdown",
   "metadata": {},
   "source": [
    "1.Python works on different platforms (Windows, Mac, Linux,etc).<br>\n",
    "2.Python has a simple syntax similar to the English language.<br>\n",
    "3.Python has syntax that allows developers to write programs with fewer lines than some other programming languages.<br>\n",
    "4.Python runs on an interpreter system, meaning that code can be executed as soon as it is written. This means that      prototyping can be very quick.<br>\n",
    "6.Python can be treated in a procedural way, an object-orientated way or a functional way.<br>"
   ]
  },
  {
   "cell_type": "markdown",
   "metadata": {},
   "source": [
    "# Python Syntax compared to other programming languages <br>\n",
    "1.Python was designed for readability, and has some similarities to the English language with influence from 2.mathematics.<br>\n",
    "3.Python uses new lines to complete a command, as opposed to other programming languages which often use semicolons or parentheses.<br>\n",
    "4.Python relies on indentation, using whitespace, to define scope; such as the scope of loops, functions and classes. Other programming languages often use curly-brackets for this purpose.<br>"
   ]
  }
 ],
 "metadata": {
  "kernelspec": {
   "display_name": "Python 3",
   "language": "python",
   "name": "python3"
  },
  "language_info": {
   "codemirror_mode": {
    "name": "ipython",
    "version": 3
   },
   "file_extension": ".py",
   "mimetype": "text/x-python",
   "name": "python",
   "nbconvert_exporter": "python",
   "pygments_lexer": "ipython3",
   "version": "3.7.7"
  }
 },
 "nbformat": 4,
 "nbformat_minor": 4
}
