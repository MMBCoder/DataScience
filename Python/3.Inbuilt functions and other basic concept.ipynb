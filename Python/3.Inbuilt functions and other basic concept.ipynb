{
 "cells": [
  {
   "cell_type": "markdown",
   "metadata": {},
   "source": [
    "**1.Comparators<br>\n",
    " 2.Boolean Operators<br>\n",
    " 3.Define Function<br>\n",
    "4.looping: for/while::<br>**"
   ]
  },
  {
   "cell_type": "markdown",
   "metadata": {},
   "source": [
    "## Comparators"
   ]
  },
  {
   "cell_type": "markdown",
   "metadata": {},
   "source": [
    "\n",
    "1.== :Equalto<br>\n",
    "2.> :Greater than<br>\n",
    "3.>= :Greater than equalto<br>\n",
    "4.< : Less than<br>\n",
    "5.<= : Less than equalto <br>\n",
    "6.!= : not equal to<br>"
   ]
  },
  {
   "cell_type": "code",
   "execution_count": 4,
   "metadata": {},
   "outputs": [
    {
     "name": "stdout",
     "output_type": "stream",
     "text": [
      "Equalto 1==2= False\n",
      "Greater than 2<7= True\n",
      "Greater than equal to 2<=2= True\n",
      "Less than 1>2= False\n",
      "Less than equal to 1>=2 = False\n",
      "Not equal to 1!=2 = True\n"
     ]
    }
   ],
   "source": [
    "print(\"Equalto 1==2=\",1==2)\n",
    "print(\"Greater than 2<7=\",2<7)\n",
    "print(\"Greater than equal to 2<=2=\",2<=2)\n",
    "print(\"Less than 1>2=\",1>2)\n",
    "print(\"Less than equal to 1>=2 =\",1>=2)\n",
    "print(\"Not equal to 1!=2 =\",1!=2)"
   ]
  },
  {
   "cell_type": "markdown",
   "metadata": {},
   "source": [
    "## Boolean Operators"
   ]
  },
  {
   "cell_type": "markdown",
   "metadata": {},
   "source": [
    "\n",
    "1.and=Evaluates to True if both statements are true,otherwise evaluates to False.<br>\n",
    "2.or=Evaluates to True if either of the statements is true, otherwise evaluates to False.<br>\n",
    "3.not=Evaluates to the opposite of the statement.<br>\n",
    "\n",
    "**Truth Table**<br>\n",
    "True and True is True<br>\n",
    "True and False is False<br>\n",
    "False and True is False<br>\n",
    "False and False is False<br>\n",
    "\n",
    "True or True is True<br>\n",
    "True or False is True<br>\n",
    "False or True is True<br>\n",
    "False or False is False<br>\n",
    "\n",
    "Not True is False<br>\n",
    "Not False is True<br>\n"
   ]
  },
  {
   "cell_type": "code",
   "execution_count": 11,
   "metadata": {},
   "outputs": [
    {
     "name": "stdout",
     "output_type": "stream",
     "text": [
      "And: False\n",
      "or: True\n",
      "not: False\n"
     ]
    }
   ],
   "source": [
    "print(\"And:\",(1<2)and (2>3))\n",
    "print(\"or:\",(1<2)or (2>3))\n",
    "print(\"not:\",not ((1<2)or (2>3)))"
   ]
  },
  {
   "cell_type": "markdown",
   "metadata": {},
   "source": [
    "## Conditionals"
   ]
  },
  {
   "cell_type": "raw",
   "metadata": {},
   "source": [
    "\"\"\"\n",
    "**if statement**\n",
    "if condition:\n",
    "    statement\n",
    "    \n",
    "**elif statement**\n",
    "if condition1:\n",
    "    statement1\n",
    "elif condition2:\n",
    "    statement2\n",
    "elif condition3:\n",
    "    statement3\n",
    "else:\n",
    "    statement4\n",
    " \"\"\"   "
   ]
  },
  {
   "cell_type": "code",
   "execution_count": 18,
   "metadata": {},
   "outputs": [
    {
     "name": "stdout",
     "output_type": "stream",
     "text": [
      ">40\n"
     ]
    }
   ],
   "source": [
    "age=45\n",
    "\n",
    "if age<30:\n",
    "    print(\"<30\")\n",
    "elif (age >=30) and (age <=40):\n",
    "    print(\">=30 and <=40\")\n",
    "else:\n",
    "    print(\">40\")\n"
   ]
  },
  {
   "cell_type": "code",
   "execution_count": 20,
   "metadata": {},
   "outputs": [
    {
     "name": "stdout",
     "output_type": "stream",
     "text": [
      ">40\n"
     ]
    }
   ],
   "source": [
    "age=45\n",
    "\n",
    "if age<30:print(\"<30\")\n",
    "elif (age >=30) and (age <=40):print(\">=30 and <=40\")\n",
    "else:print(\">40\")"
   ]
  },
  {
   "cell_type": "markdown",
   "metadata": {},
   "source": [
    "**Exercise 1:**<br>\n",
    "Create a program that asks the user how far they want to travel. If they want to travel less than\n",
    "three miles tell them to walk. If they want to travel more than three miles, but less than three\n",
    "hundred miles, tell them to drive. If they want to travel three hundred miles or more tell them to\n",
    "fly.\n"
   ]
  },
  {
   "cell_type": "code",
   "execution_count": 14,
   "metadata": {},
   "outputs": [
    {
     "name": "stdout",
     "output_type": "stream",
     "text": [
      "How far would you like to travel in miles? 900\n"
     ]
    }
   ],
   "source": [
    "# Ask for the distance.\n",
    "travel = input('How far would you like to travel in miles? ')\n",
    "# Convert the distance to an integer.\n",
    "travel = int(travel)"
   ]
  },
  {
   "cell_type": "code",
   "execution_count": 15,
   "metadata": {},
   "outputs": [
    {
     "name": "stdout",
     "output_type": "stream",
     "text": [
      "I suggest Flying to your destination.\n"
     ]
    }
   ],
   "source": [
    "if travel <3 :\n",
    "    mode_of_transport=\"Walk\"\n",
    "elif (travel >3) and (travel <300 ):\n",
    "    mode_of_transport=\"Drive\"\n",
    "elif travel >300 :\n",
    "    mode_of_transport=\"Flying\"\n",
    "\n",
    " # Display the result.\n",
    "print('I suggest {} to your destination.'.format(mode_of_transport))"
   ]
  },
  {
   "cell_type": "markdown",
   "metadata": {},
   "source": [
    "## Function"
   ]
  },
  {
   "cell_type": "raw",
   "metadata": {},
   "source": [
    "\n",
    "Syntax:\n",
    "    def function_name(parameter_name):\n",
    "         Code block\n",
    "         \n",
    "Function define by keyword \"def\".A function can accept parameters. To make a parameter optional supply a default value for that parameter.         "
   ]
  },
  {
   "cell_type": "code",
   "execution_count": 32,
   "metadata": {},
   "outputs": [
    {
     "name": "stdout",
     "output_type": "stream",
     "text": [
      "hello\n"
     ]
    }
   ],
   "source": [
    "#Define Function\n",
    "def first_func():\n",
    "    print(\"hello\")\n",
    "\n",
    "#Call function\n",
    "first_func()"
   ]
  },
  {
   "cell_type": "code",
   "execution_count": 33,
   "metadata": {},
   "outputs": [
    {
     "name": "stdout",
     "output_type": "stream",
     "text": [
      "Hello\n"
     ]
    }
   ],
   "source": [
    "#Define Function with positional parameter\n",
    "def first_func(p):\n",
    "    print(p)\n",
    "\n",
    "#Call function\n",
    "first_func(\"Hello\")"
   ]
  },
  {
   "cell_type": "code",
   "execution_count": 37,
   "metadata": {},
   "outputs": [
    {
     "data": {
      "text/plain": [
       "6"
      ]
     },
     "execution_count": 37,
     "metadata": {},
     "output_type": "execute_result"
    }
   ],
   "source": [
    "#Define Function with keyword parameter\n",
    "def first_func(x,y):\n",
    "    z=x+y\n",
    "    return z\n",
    "\n",
    "#Call function\n",
    "first_func(x=2,y=4)\n"
   ]
  },
  {
   "cell_type": "code",
   "execution_count": 38,
   "metadata": {},
   "outputs": [
    {
     "data": {
      "text/plain": [
       "6"
      ]
     },
     "execution_count": 38,
     "metadata": {},
     "output_type": "execute_result"
    }
   ],
   "source": [
    "#in keyword paremeter position can be change but value will be assign parameter=\n",
    "first_func(y=4,x=2)"
   ]
  },
  {
   "cell_type": "code",
   "execution_count": 35,
   "metadata": {},
   "outputs": [
    {
     "data": {
      "text/plain": [
       "6"
      ]
     },
     "execution_count": 35,
     "metadata": {},
     "output_type": "execute_result"
    }
   ],
   "source": [
    "#Define Function with positional parameter\n",
    "def first_func(x,y):\n",
    "    z=x+y\n",
    "    return z\n",
    "\n",
    "#Call function\n",
    "first_func(2,4)\n",
    "\n",
    "#in positional parameter position always refer defined function parameter."
   ]
  },
  {
   "cell_type": "markdown",
   "metadata": {},
   "source": [
    "## For loop:-<br>\n"
   ]
  },
  {
   "cell_type": "raw",
   "metadata": {},
   "source": [
    "for item_variable in list_name:<br>\n",
    "            Code block\n",
    "            \n",
    " Use for loop to perform the repetative calculations,there are several form of iterations."
   ]
  },
  {
   "cell_type": "code",
   "execution_count": 39,
   "metadata": {},
   "outputs": [
    {
     "name": "stdout",
     "output_type": "stream",
     "text": [
      "1\n",
      "2\n",
      "3\n",
      "4\n",
      "5\n"
     ]
    }
   ],
   "source": [
    "seq=[1,2,3,4,5]\n",
    "for item in seq:\n",
    "    print(item)"
   ]
  },
  {
   "cell_type": "code",
   "execution_count": 40,
   "metadata": {},
   "outputs": [
    {
     "name": "stdout",
     "output_type": "stream",
     "text": [
      "Shashi\n",
      "Mohan\n",
      "Ram\n"
     ]
    }
   ],
   "source": [
    "seq=[\"Shashi\",\"Mohan\",\"Ram\"]\n",
    "for i in seq:\n",
    "    print(i)"
   ]
  },
  {
   "cell_type": "code",
   "execution_count": 41,
   "metadata": {},
   "outputs": [
    {
     "name": "stdout",
     "output_type": "stream",
     "text": [
      "0\n",
      "1\n",
      "2\n",
      "3\n",
      "4\n"
     ]
    }
   ],
   "source": [
    "for x in range(0,5):print(x)"
   ]
  },
  {
   "cell_type": "markdown",
   "metadata": {},
   "source": [
    "## list comprehension"
   ]
  },
  {
   "cell_type": "code",
   "execution_count": 53,
   "metadata": {},
   "outputs": [
    {
     "name": "stdout",
     "output_type": "stream",
     "text": [
      "[1, 8, 27, 64]\n"
     ]
    }
   ],
   "source": [
    "x=[1,2,3,4]\n",
    "out=[]\n",
    "for num in x:\n",
    "    out.append(num**3)\n",
    "    \n",
    "print(out)"
   ]
  },
  {
   "cell_type": "code",
   "execution_count": 54,
   "metadata": {},
   "outputs": [
    {
     "data": {
      "text/plain": [
       "[512, 729, 125]"
      ]
     },
     "execution_count": 54,
     "metadata": {},
     "output_type": "execute_result"
    }
   ],
   "source": [
    "#other way can write for loop\n",
    "x=[8,9,5]\n",
    "result=[num**3 for num in x]\n",
    "result"
   ]
  },
  {
   "cell_type": "markdown",
   "metadata": {},
   "source": [
    "## while loop"
   ]
  },
  {
   "cell_type": "raw",
   "metadata": {},
   "source": [
    " while condition:\n",
    " # Code block\n",
    " \n",
    " 1.while statement exceute statement in a loop respectively while the condition is true.\n",
    " 2.The value of expression evaluated at top of the loop\n",
    " 3.The statement in the loop never excecute if expression is initally false\n",
    " "
   ]
  },
  {
   "cell_type": "code",
   "execution_count": 55,
   "metadata": {},
   "outputs": [
    {
     "name": "stdout",
     "output_type": "stream",
     "text": [
      "i is: 1\n",
      "i is: 2\n",
      "i is: 3\n",
      "i is: 4\n"
     ]
    }
   ],
   "source": [
    "i = 1\n",
    "while i < 5:\n",
    "    print('i is: {}'.format(i))\n",
    "    i = i+1"
   ]
  },
  {
   "cell_type": "markdown",
   "metadata": {},
   "source": [
    "## Functions"
   ]
  },
  {
   "cell_type": "markdown",
   "metadata": {},
   "source": [
    "1.len(): Returns the length of an item<br>\n",
    "2.str():used to convert the specified value into a string.<br>\n",
    "3.upper():Returns a copy of the string in uppercase<br>\n",
    "4.lower():Returns a copy of the string in lowercase<br>\n",
    "5.format(): Returns a formatted version of the string<br>\n",
    "6.int():Convert string to integer<br>\n",
    "7.float(): convert string/interger to float<br>\n",
    "8.split():returns a list of strings after breaking the given string by the specified separator."
   ]
  },
  {
   "cell_type": "code",
   "execution_count": 85,
   "metadata": {},
   "outputs": [
    {
     "name": "stdout",
     "output_type": "stream",
     "text": [
      "Integer value= 5\n",
      "Float value= 5.0\n"
     ]
    }
   ],
   "source": [
    "#int():Convert string to integer\n",
    "sales='3'\n",
    "total=int(sales)+2\n",
    "total_f=float(total)\n",
    "print(\"Integer value=\",total)\n",
    "print(\"Float value=\",total_f)"
   ]
  },
  {
   "cell_type": "code",
   "execution_count": 95,
   "metadata": {},
   "outputs": [
    {
     "name": "stdout",
     "output_type": "stream",
     "text": [
      "Length= 6\n",
      "Upper= SHASHI\n",
      "Lower= shashi\n",
      "Split= ['Sh', 'shi']\n",
      "string= 2sk\n"
     ]
    }
   ],
   "source": [
    "name=\"Shashi\"\n",
    "print(\"Length=\",len(name))\n",
    "print(\"Upper=\",name.upper())\n",
    "print(\"Lower=\",name.lower())\n",
    "print(\"Split=\",name.split('a'))\n",
    "print('string=',str('2')+'sk')"
   ]
  },
  {
   "cell_type": "markdown",
   "metadata": {},
   "source": [
    "## List Functions"
   ]
  },
  {
   "cell_type": "markdown",
   "metadata": {},
   "source": [
    "\n",
    "1.index():searches an element in the list and returns its index <br>\n",
    "2.append():adds an item to the end of the list <br>\n",
    "3.extend():adds one or more than one item to the end of the list <br>\n",
    "4.insert():insert/add value according to defined index/position<br>\n",
    "5.remove():removes the first matching element (which is passed as an argument) from the list.<br>\n",
    "6.count():counts how many times an element has occurred in a list and returns it.<br>\n",
    "7.pop():removes the item at the given index from the list and returns the removed item.<br>\n",
    "8.reverse():reverses the elements of a given list.<br>\n",
    "9.sort():sorts the elements of a given list in a specific order - Ascending or Descending<br>\n",
    "10.copy():returns a shallow copy of the list<br>\n",
    "11.range():The built-in range() function generates a list of numbers. "
   ]
  },
  {
   "cell_type": "code",
   "execution_count": 62,
   "metadata": {},
   "outputs": [
    {
     "data": {
      "text/plain": [
       "[1, 2, 'a']"
      ]
     },
     "execution_count": 62,
     "metadata": {},
     "output_type": "execute_result"
    }
   ],
   "source": [
    "#Assign Varible as numeric+character list\n",
    "num_char=[1,2,'a']\n",
    "num_char"
   ]
  },
  {
   "cell_type": "code",
   "execution_count": 63,
   "metadata": {},
   "outputs": [
    {
     "data": {
      "text/plain": [
       "[1, 2, 'a', 'c']"
      ]
     },
     "execution_count": 63,
     "metadata": {},
     "output_type": "execute_result"
    }
   ],
   "source": [
    "#Add one value in list\n",
    "num_char.append('c')\n",
    "num_char"
   ]
  },
  {
   "cell_type": "code",
   "execution_count": 64,
   "metadata": {},
   "outputs": [
    {
     "data": {
      "text/plain": [
       "[1, 2, 'a', 'c', 'c', 'k']"
      ]
     },
     "execution_count": 64,
     "metadata": {},
     "output_type": "execute_result"
    }
   ],
   "source": [
    "#Add multiple value in list\n",
    "num_char.extend(['c','k'])\n",
    "num_char"
   ]
  },
  {
   "cell_type": "code",
   "execution_count": 65,
   "metadata": {},
   "outputs": [
    {
     "data": {
      "text/plain": [
       "[1, 'shashi', 2, 'a', 'c', 'c', 'k']"
      ]
     },
     "execution_count": 65,
     "metadata": {},
     "output_type": "execute_result"
    }
   ],
   "source": [
    "#insert/add value according to defined index/position\n",
    "num_char.insert(1,\"shashi\") #insert \"shashi\" at index 1\n",
    "num_char"
   ]
  },
  {
   "cell_type": "code",
   "execution_count": 66,
   "metadata": {},
   "outputs": [
    {
     "data": {
      "text/plain": [
       "['k', 1, 'shashi', 2, 'a', 'c', 'c', 'k']"
      ]
     },
     "execution_count": 66,
     "metadata": {},
     "output_type": "execute_result"
    }
   ],
   "source": [
    "#Replace/change Value in list: Replace 1 with k\n",
    "\n",
    "num_char[:0]='k'\n",
    "num_char"
   ]
  },
  {
   "cell_type": "code",
   "execution_count": 67,
   "metadata": {},
   "outputs": [
    {
     "data": {
      "text/plain": [
       "2"
      ]
     },
     "execution_count": 67,
     "metadata": {},
     "output_type": "execute_result"
    }
   ],
   "source": [
    "#Finding an item in a list.\n",
    "#method finds the given element in a list and returns its position.If the same element is present more than once, \n",
    "#the method returns the index of the first occurrence of the element.\n",
    "res=num_char.index(\"shashi\") \n",
    "res"
   ]
  },
  {
   "cell_type": "code",
   "execution_count": 68,
   "metadata": {},
   "outputs": [
    {
     "name": "stdout",
     "output_type": "stream",
     "text": [
      "Updated animals list:  ['cat', 'dog', 'guinea pig']\n"
     ]
    }
   ],
   "source": [
    "#Remove element from the list\n",
    "#The remove() method removes the first matching element (which is passed as an argument) from the list.\n",
    "# animals list\n",
    "animals = ['cat', 'dog', 'rabbit', 'guinea pig']\n",
    "\n",
    "# 'rabbit' is removed\n",
    "animals.remove('rabbit')\n",
    "\n",
    "# Updated animals List\n",
    "print('Updated animals list: ', animals)"
   ]
  },
  {
   "cell_type": "code",
   "execution_count": 69,
   "metadata": {},
   "outputs": [
    {
     "name": "stdout",
     "output_type": "stream",
     "text": [
      "Return Value: guinea pig\n",
      "Updated List: ['cat', 'dog']\n"
     ]
    }
   ],
   "source": [
    "#Pop item at the given index from the list\n",
    "#The pop() method removes the item at the given index from the list and returns the removed item.\n",
    "\n",
    "# remove and return the 4th item\n",
    "return_value = animals.pop(2)\n",
    "print('Return Value:', return_value)\n",
    "\n",
    "# Updated List\n",
    "print('Updated List:', animals)"
   ]
  },
  {
   "cell_type": "code",
   "execution_count": 70,
   "metadata": {},
   "outputs": [
    {
     "name": "stdout",
     "output_type": "stream",
     "text": [
      "The count of i is: 2\n",
      "The count of p is: 0\n"
     ]
    }
   ],
   "source": [
    "#Count the occurrence of an element in the list\n",
    "#count() method counts how many times an element has occurred in a list and returns it.\n",
    "\n",
    "# vowels list\n",
    "vowels = ['a', 'e', 'i', 'o', 'i', 'u']\n",
    "\n",
    "# count element 'i'\n",
    "count = vowels.count('i')\n",
    "\n",
    "# print count\n",
    "print('The count of i is:', count)\n",
    "\n",
    "# count element 'p'\n",
    "count = vowels.count('p')\n",
    "\n",
    "# print count\n",
    "print('The count of p is:', count)"
   ]
  },
  {
   "cell_type": "code",
   "execution_count": 71,
   "metadata": {},
   "outputs": [
    {
     "name": "stdout",
     "output_type": "stream",
     "text": [
      "Updated List: ['c', 'b', 'a']\n"
     ]
    }
   ],
   "source": [
    "#Reverse a List\n",
    "#The reverse() method reverses the elements of a given list.\n",
    "list_a=['a','b','c']\n",
    "list_a.reverse()\n",
    "# updated list\n",
    "print('Updated List:', list_a)"
   ]
  },
  {
   "cell_type": "code",
   "execution_count": 72,
   "metadata": {},
   "outputs": [
    {
     "name": "stdout",
     "output_type": "stream",
     "text": [
      "Sorted list: ['a', 'e', 'i', 'o', 'u']\n",
      "Sorted list (in Descending): ['u', 'o', 'i', 'e', 'a']\n"
     ]
    }
   ],
   "source": [
    "#Sort a given list\n",
    "#The sort() method sorts the elements of a given list in a specific order - Ascending or Descending.\n",
    "#The syntax of sort() method is:\n",
    "#list.sort(key=..., reverse=...)\n",
    "\n",
    "# vowels list\n",
    "vowels = ['e', 'a', 'u', 'o', 'i']\n",
    "\n",
    "# sort the vowels\n",
    "vowels.sort()\n",
    "\n",
    "# print vowels\n",
    "print('Sorted list:', vowels)\n",
    "\n",
    "# sort the vowels\n",
    "vowels.sort(reverse=True)\n",
    "\n",
    "# print vowels\n",
    "print('Sorted list (in Descending):', vowels)"
   ]
  },
  {
   "cell_type": "code",
   "execution_count": 73,
   "metadata": {},
   "outputs": [
    {
     "name": "stdout",
     "output_type": "stream",
     "text": [
      "Old List:  ['cat', 0, 6.7]\n",
      "New List:  ['cat', 0, 6.7, 'dog']\n"
     ]
    }
   ],
   "source": [
    "#Copying a List\n",
    "#The copy() method returns a shallow copy of the list.\n",
    "# mixed list\n",
    "list = ['cat', 0, 6.7]\n",
    "\n",
    "# copying a list\n",
    "new_list = list.copy()\n",
    "\n",
    "# Adding element to the new list\n",
    "new_list.append('dog')\n",
    "\n",
    "# Printing new and old list\n",
    "print('Old List: ', list)\n",
    "print('New List: ', new_list)"
   ]
  },
  {
   "cell_type": "code",
   "execution_count": 74,
   "metadata": {},
   "outputs": [
    {
     "name": "stdout",
     "output_type": "stream",
     "text": [
      "List: []\n"
     ]
    }
   ],
   "source": [
    "#The clear() method removes all items from the list.\n",
    "\n",
    "# Defining a list\n",
    "list = [1,2,3]\n",
    "\n",
    "# clearing the list\n",
    "list.clear()\n",
    "\n",
    "print('List:', list)"
   ]
  },
  {
   "cell_type": "code",
   "execution_count": 75,
   "metadata": {},
   "outputs": [
    {
     "data": {
      "text/plain": [
       "[1, 'shashi', 2, 'a', 'c', 'c', 'k']"
      ]
     },
     "execution_count": 75,
     "metadata": {},
     "output_type": "execute_result"
    }
   ],
   "source": [
    "# Remove value from list :remove() function: Remove 'K' from list\n",
    "num_char.remove('k')\n",
    "num_char"
   ]
  },
  {
   "cell_type": "code",
   "execution_count": 112,
   "metadata": {},
   "outputs": [
    {
     "name": "stdout",
     "output_type": "stream",
     "text": [
      " Range 0 to 10=  [0, 1, 2, 3, 4, 5, 6, 7, 8, 9]\n",
      "Range 0 to 10 by 2 = [0, 2, 4, 6, 8]\n"
     ]
    }
   ],
   "source": [
    "#The Syntax is: range(start, stop, step)\n",
    "print(\" Range 0 to 10= \",list(range(0,10)))\n",
    "print(\"Range 0 to 10 by 2 =\",list(range(0,10,2)))"
   ]
  },
  {
   "cell_type": "markdown",
   "metadata": {},
   "source": [
    "## lambda \n"
   ]
  },
  {
   "cell_type": "code",
   "execution_count": null,
   "metadata": {},
   "outputs": [],
   "source": [
    "lambda arguments : expression"
   ]
  },
  {
   "cell_type": "code",
   "execution_count": 102,
   "metadata": {},
   "outputs": [
    {
     "name": "stdout",
     "output_type": "stream",
     "text": [
      "30\n"
     ]
    }
   ],
   "source": [
    "x = lambda a, b : a * b\n",
    "print(x(5, 6))"
   ]
  },
  {
   "cell_type": "code",
   "execution_count": 103,
   "metadata": {},
   "outputs": [
    {
     "data": {
      "text/plain": [
       "4"
      ]
     },
     "execution_count": 103,
     "metadata": {},
     "output_type": "execute_result"
    }
   ],
   "source": [
    "def time(var):return var*2\n",
    "\n",
    "time(2)"
   ]
  },
  {
   "cell_type": "code",
   "execution_count": 104,
   "metadata": {},
   "outputs": [
    {
     "data": {
      "text/plain": [
       "4"
      ]
     },
     "execution_count": 104,
     "metadata": {},
     "output_type": "execute_result"
    }
   ],
   "source": [
    "t=lambda var : var*2\n",
    "t(2)"
   ]
  },
  {
   "cell_type": "markdown",
   "metadata": {},
   "source": [
    "## Filter"
   ]
  },
  {
   "cell_type": "markdown",
   "metadata": {},
   "source": [
    "The filter() method filters the given iterable with the help of a function that tests each \n",
    "element in the iterable to be true or not. <br>\n",
    "\n",
    "Syntax:<br>\n",
    "filter(function, iterable)\n",
    "\n",
    "* function - function that tests if elements of an iterable returns true or false If None, the function defaults to Identity function - which returns false if any elements are false\n",
    "* iterable - iterable which is to be filtered, could be sets, lists, tuples, or containers of any iterators"
   ]
  },
  {
   "cell_type": "code",
   "execution_count": 109,
   "metadata": {},
   "outputs": [
    {
     "data": {
      "text/plain": [
       "[2, 4]"
      ]
     },
     "execution_count": 109,
     "metadata": {},
     "output_type": "execute_result"
    }
   ],
   "source": [
    "#del list\n",
    "seq=[1,2,3,4]\n",
    "list(filter(lambda num:num%2==0,seq))"
   ]
  },
  {
   "cell_type": "code",
   "execution_count": null,
   "metadata": {},
   "outputs": [],
   "source": []
  }
 ],
 "metadata": {
  "kernelspec": {
   "display_name": "Python 3",
   "language": "python",
   "name": "python3"
  },
  "language_info": {
   "codemirror_mode": {
    "name": "ipython",
    "version": 3
   },
   "file_extension": ".py",
   "mimetype": "text/x-python",
   "name": "python",
   "nbconvert_exporter": "python",
   "pygments_lexer": "ipython3",
   "version": "3.7.7"
  }
 },
 "nbformat": 4,
 "nbformat_minor": 4
}
