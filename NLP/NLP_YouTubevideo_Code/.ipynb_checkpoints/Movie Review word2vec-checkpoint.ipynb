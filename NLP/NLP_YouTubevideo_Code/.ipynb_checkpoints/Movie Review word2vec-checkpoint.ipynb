{
 "cells": [
  {
   "cell_type": "markdown",
   "metadata": {},
   "source": [
    "## Movie Review Analysis using TF-IDF"
   ]
  },
  {
   "cell_type": "code",
   "execution_count": 17,
   "metadata": {},
   "outputs": [],
   "source": [
    "import pandas as pd\n",
    "df = pd.read_csv('movie-Review.csv')"
   ]
  },
  {
   "cell_type": "code",
   "execution_count": 18,
   "metadata": {},
   "outputs": [],
   "source": [
    "import numpy as np\n",
    "np.random.seed(500)"
   ]
  },
  {
   "cell_type": "code",
   "execution_count": 19,
   "metadata": {},
   "outputs": [
    {
     "name": "stdout",
     "output_type": "stream",
     "text": [
      "       text\n",
      "class      \n",
      "Neg    1000\n",
      "Pos    1000\n"
     ]
    },
    {
     "data": {
      "image/png": "[encoded data removed]",
      "text/plain": [
       "<Figure size 432x288 with 1 Axes>"
      ]
     },
     "metadata": {
      "needs_background": "light"
     },
     "output_type": "display_data"
    }
   ],
   "source": [
    "class_count=df.groupby('class').count()\n",
    "print(class_count)\n",
    "import matplotlib.pyplot as plt\n",
    "plt.bar(class_count.index.values, class_count['text'])\n",
    "plt.xlabel('Review Sentiments')\n",
    "plt.ylabel('Number of Review')\n",
    "plt.show()"
   ]
  },
  {
   "cell_type": "code",
   "execution_count": 20,
   "metadata": {},
   "outputs": [
    {
     "data": {
      "text/html": [
       "<div>\n",
       "<style scoped>\n",
       "    .dataframe tbody tr th:only-of-type {\n",
       "        vertical-align: middle;\n",
       "    }\n",
       "\n",
       "    .dataframe tbody tr th {\n",
       "        vertical-align: top;\n",
       "    }\n",
       "\n",
       "    .dataframe thead th {\n",
       "        text-align: right;\n",
       "    }\n",
       "</style>\n",
       "<table border=\"1\" class=\"dataframe\">\n",
       "  <thead>\n",
       "    <tr style=\"text-align: right;\">\n",
       "      <th></th>\n",
       "      <th>class</th>\n",
       "      <th>text</th>\n",
       "    </tr>\n",
       "  </thead>\n",
       "  <tbody>\n",
       "    <tr>\n",
       "      <th>0</th>\n",
       "      <td>Pos</td>\n",
       "      <td>films adapted from comic books have had plent...</td>\n",
       "    </tr>\n",
       "    <tr>\n",
       "      <th>1</th>\n",
       "      <td>Pos</td>\n",
       "      <td>every now and then a movie comes along from a...</td>\n",
       "    </tr>\n",
       "    <tr>\n",
       "      <th>2</th>\n",
       "      <td>Pos</td>\n",
       "      <td>you ve got mail works alot better than it des...</td>\n",
       "    </tr>\n",
       "    <tr>\n",
       "      <th>3</th>\n",
       "      <td>Pos</td>\n",
       "      <td>jaws   is a rare film that grabs your atte...</td>\n",
       "    </tr>\n",
       "    <tr>\n",
       "      <th>4</th>\n",
       "      <td>Pos</td>\n",
       "      <td>moviemaking is a lot like being the general m...</td>\n",
       "    </tr>\n",
       "    <tr>\n",
       "      <th>5</th>\n",
       "      <td>Pos</td>\n",
       "      <td>on june       a self taught   idealistic   ye...</td>\n",
       "    </tr>\n",
       "    <tr>\n",
       "      <th>6</th>\n",
       "      <td>Pos</td>\n",
       "      <td>apparently   director tony kaye had a major b...</td>\n",
       "    </tr>\n",
       "    <tr>\n",
       "      <th>7</th>\n",
       "      <td>Pos</td>\n",
       "      <td>one of my colleagues was surprised when i tol...</td>\n",
       "    </tr>\n",
       "    <tr>\n",
       "      <th>8</th>\n",
       "      <td>Pos</td>\n",
       "      <td>after bloody clashes and independence won   l...</td>\n",
       "    </tr>\n",
       "    <tr>\n",
       "      <th>9</th>\n",
       "      <td>Pos</td>\n",
       "      <td>the american action film has been slowly drow...</td>\n",
       "    </tr>\n",
       "  </tbody>\n",
       "</table>\n",
       "</div>"
      ],
      "text/plain": [
       "  class                                               text\n",
       "0   Pos   films adapted from comic books have had plent...\n",
       "1   Pos   every now and then a movie comes along from a...\n",
       "2   Pos   you ve got mail works alot better than it des...\n",
       "3   Pos      jaws   is a rare film that grabs your atte...\n",
       "4   Pos   moviemaking is a lot like being the general m...\n",
       "5   Pos   on june       a self taught   idealistic   ye...\n",
       "6   Pos   apparently   director tony kaye had a major b...\n",
       "7   Pos   one of my colleagues was surprised when i tol...\n",
       "8   Pos   after bloody clashes and independence won   l...\n",
       "9   Pos   the american action film has been slowly drow..."
      ]
     },
     "execution_count": 20,
     "metadata": {},
     "output_type": "execute_result"
    }
   ],
   "source": [
    "#Remove number\n",
    "import re # import all Regular expression functions\n",
    "df['text']=[re.sub('\\d','', i)for i in df['text']]\n",
    "df.head(10)"
   ]
  },
  {
   "cell_type": "code",
   "execution_count": 21,
   "metadata": {},
   "outputs": [
    {
     "data": {
      "text/html": [
       "<div>\n",
       "<style scoped>\n",
       "    .dataframe tbody tr th:only-of-type {\n",
       "        vertical-align: middle;\n",
       "    }\n",
       "\n",
       "    .dataframe tbody tr th {\n",
       "        vertical-align: top;\n",
       "    }\n",
       "\n",
       "    .dataframe thead th {\n",
       "        text-align: right;\n",
       "    }\n",
       "</style>\n",
       "<table border=\"1\" class=\"dataframe\">\n",
       "  <thead>\n",
       "    <tr style=\"text-align: right;\">\n",
       "      <th></th>\n",
       "      <th>class</th>\n",
       "      <th>text</th>\n",
       "    </tr>\n",
       "  </thead>\n",
       "  <tbody>\n",
       "    <tr>\n",
       "      <th>0</th>\n",
       "      <td>Pos</td>\n",
       "      <td>films adapted from comic books have had plent...</td>\n",
       "    </tr>\n",
       "    <tr>\n",
       "      <th>1</th>\n",
       "      <td>Pos</td>\n",
       "      <td>every now and then a movie comes along from a...</td>\n",
       "    </tr>\n",
       "    <tr>\n",
       "      <th>2</th>\n",
       "      <td>Pos</td>\n",
       "      <td>you ve got mail works alot better than it des...</td>\n",
       "    </tr>\n",
       "    <tr>\n",
       "      <th>3</th>\n",
       "      <td>Pos</td>\n",
       "      <td>jaws   is a rare film that grabs your atte...</td>\n",
       "    </tr>\n",
       "    <tr>\n",
       "      <th>4</th>\n",
       "      <td>Pos</td>\n",
       "      <td>moviemaking is a lot like being the general m...</td>\n",
       "    </tr>\n",
       "    <tr>\n",
       "      <th>5</th>\n",
       "      <td>Pos</td>\n",
       "      <td>on june       a self taught   idealistic   ye...</td>\n",
       "    </tr>\n",
       "    <tr>\n",
       "      <th>6</th>\n",
       "      <td>Pos</td>\n",
       "      <td>apparently   director tony kaye had a major b...</td>\n",
       "    </tr>\n",
       "    <tr>\n",
       "      <th>7</th>\n",
       "      <td>Pos</td>\n",
       "      <td>one of my colleagues was surprised when i tol...</td>\n",
       "    </tr>\n",
       "    <tr>\n",
       "      <th>8</th>\n",
       "      <td>Pos</td>\n",
       "      <td>after bloody clashes and independence won   l...</td>\n",
       "    </tr>\n",
       "    <tr>\n",
       "      <th>9</th>\n",
       "      <td>Pos</td>\n",
       "      <td>the american action film has been slowly drow...</td>\n",
       "    </tr>\n",
       "  </tbody>\n",
       "</table>\n",
       "</div>"
      ],
      "text/plain": [
       "  class                                               text\n",
       "0   Pos   films adapted from comic books have had plent...\n",
       "1   Pos   every now and then a movie comes along from a...\n",
       "2   Pos   you ve got mail works alot better than it des...\n",
       "3   Pos      jaws   is a rare film that grabs your atte...\n",
       "4   Pos   moviemaking is a lot like being the general m...\n",
       "5   Pos   on june       a self taught   idealistic   ye...\n",
       "6   Pos   apparently   director tony kaye had a major b...\n",
       "7   Pos   one of my colleagues was surprised when i tol...\n",
       "8   Pos   after bloody clashes and independence won   l...\n",
       "9   Pos   the american action film has been slowly drow..."
      ]
     },
     "execution_count": 21,
     "metadata": {},
     "output_type": "execute_result"
    }
   ],
   "source": [
    "# Replace punctuations with a white space\n",
    "import string\n",
    "df['text']=[re.sub('[%s]' % re.escape(string.punctuation), ' ', i) for i in df['text']]\n",
    "df.head(10)"
   ]
  },
  {
   "cell_type": "code",
   "execution_count": 22,
   "metadata": {},
   "outputs": [],
   "source": [
    "df['text']=[i.lower() for i in df['text']]"
   ]
  },
  {
   "cell_type": "code",
   "execution_count": 23,
   "metadata": {},
   "outputs": [
    {
     "data": {
      "text/html": [
       "<div>\n",
       "<style scoped>\n",
       "    .dataframe tbody tr th:only-of-type {\n",
       "        vertical-align: middle;\n",
       "    }\n",
       "\n",
       "    .dataframe tbody tr th {\n",
       "        vertical-align: top;\n",
       "    }\n",
       "\n",
       "    .dataframe thead th {\n",
       "        text-align: right;\n",
       "    }\n",
       "</style>\n",
       "<table border=\"1\" class=\"dataframe\">\n",
       "  <thead>\n",
       "    <tr style=\"text-align: right;\">\n",
       "      <th></th>\n",
       "      <th>class</th>\n",
       "      <th>text</th>\n",
       "      <th>text_wt</th>\n",
       "    </tr>\n",
       "  </thead>\n",
       "  <tbody>\n",
       "    <tr>\n",
       "      <th>0</th>\n",
       "      <td>Pos</td>\n",
       "      <td>films adapted from comic books have had plent...</td>\n",
       "      <td>[films, adapted, from, comic, books, have, had...</td>\n",
       "    </tr>\n",
       "    <tr>\n",
       "      <th>1</th>\n",
       "      <td>Pos</td>\n",
       "      <td>every now and then a movie comes along from a...</td>\n",
       "      <td>[every, now, and, then, a, movie, comes, along...</td>\n",
       "    </tr>\n",
       "    <tr>\n",
       "      <th>2</th>\n",
       "      <td>Pos</td>\n",
       "      <td>you ve got mail works alot better than it des...</td>\n",
       "      <td>[you, ve, got, mail, works, alot, better, than...</td>\n",
       "    </tr>\n",
       "    <tr>\n",
       "      <th>3</th>\n",
       "      <td>Pos</td>\n",
       "      <td>jaws   is a rare film that grabs your atte...</td>\n",
       "      <td>[jaws, is, a, rare, film, that, grabs, your, a...</td>\n",
       "    </tr>\n",
       "    <tr>\n",
       "      <th>4</th>\n",
       "      <td>Pos</td>\n",
       "      <td>moviemaking is a lot like being the general m...</td>\n",
       "      <td>[moviemaking, is, a, lot, like, being, the, ge...</td>\n",
       "    </tr>\n",
       "  </tbody>\n",
       "</table>\n",
       "</div>"
      ],
      "text/plain": [
       "  class                                               text  \\\n",
       "0   Pos   films adapted from comic books have had plent...   \n",
       "1   Pos   every now and then a movie comes along from a...   \n",
       "2   Pos   you ve got mail works alot better than it des...   \n",
       "3   Pos      jaws   is a rare film that grabs your atte...   \n",
       "4   Pos   moviemaking is a lot like being the general m...   \n",
       "\n",
       "                                             text_wt  \n",
       "0  [films, adapted, from, comic, books, have, had...  \n",
       "1  [every, now, and, then, a, movie, comes, along...  \n",
       "2  [you, ve, got, mail, works, alot, better, than...  \n",
       "3  [jaws, is, a, rare, film, that, grabs, your, a...  \n",
       "4  [moviemaking, is, a, lot, like, being, the, ge...  "
      ]
     },
     "execution_count": 23,
     "metadata": {},
     "output_type": "execute_result"
    }
   ],
   "source": [
    "# import pandas as pd \n",
    "import pandas as pd \n",
    "#Word Tokenization\n",
    "import nltk # import package for tokenization\n",
    "#nltk.download('punkt') # download all spporting function /files for NLTK package\n",
    "from nltk.tokenize import word_tokenize\n",
    "df['text_wt'] = [word_tokenize(i) for i in df['text']]\n",
    "df.head()"
   ]
  },
  {
   "cell_type": "code",
   "execution_count": 24,
   "metadata": {},
   "outputs": [
    {
     "data": {
      "text/html": [
       "<div>\n",
       "<style scoped>\n",
       "    .dataframe tbody tr th:only-of-type {\n",
       "        vertical-align: middle;\n",
       "    }\n",
       "\n",
       "    .dataframe tbody tr th {\n",
       "        vertical-align: top;\n",
       "    }\n",
       "\n",
       "    .dataframe thead th {\n",
       "        text-align: right;\n",
       "    }\n",
       "</style>\n",
       "<table border=\"1\" class=\"dataframe\">\n",
       "  <thead>\n",
       "    <tr style=\"text-align: right;\">\n",
       "      <th></th>\n",
       "      <th>class</th>\n",
       "      <th>text</th>\n",
       "      <th>text_wt</th>\n",
       "      <th>text_SW</th>\n",
       "    </tr>\n",
       "  </thead>\n",
       "  <tbody>\n",
       "    <tr>\n",
       "      <th>0</th>\n",
       "      <td>Pos</td>\n",
       "      <td>films adapted from comic books have had plent...</td>\n",
       "      <td>[films, adapted, from, comic, books, have, had...</td>\n",
       "      <td>[films, adapted, comic, books, plenty, success...</td>\n",
       "    </tr>\n",
       "    <tr>\n",
       "      <th>1</th>\n",
       "      <td>Pos</td>\n",
       "      <td>every now and then a movie comes along from a...</td>\n",
       "      <td>[every, now, and, then, a, movie, comes, along...</td>\n",
       "      <td>[every, movie, comes, along, suspect, studio, ...</td>\n",
       "    </tr>\n",
       "    <tr>\n",
       "      <th>2</th>\n",
       "      <td>Pos</td>\n",
       "      <td>you ve got mail works alot better than it des...</td>\n",
       "      <td>[you, ve, got, mail, works, alot, better, than...</td>\n",
       "      <td>[got, mail, works, alot, better, deserves, ord...</td>\n",
       "    </tr>\n",
       "    <tr>\n",
       "      <th>3</th>\n",
       "      <td>Pos</td>\n",
       "      <td>jaws   is a rare film that grabs your atte...</td>\n",
       "      <td>[jaws, is, a, rare, film, that, grabs, your, a...</td>\n",
       "      <td>[jaws, rare, film, grabs, attention, shows, si...</td>\n",
       "    </tr>\n",
       "    <tr>\n",
       "      <th>4</th>\n",
       "      <td>Pos</td>\n",
       "      <td>moviemaking is a lot like being the general m...</td>\n",
       "      <td>[moviemaking, is, a, lot, like, being, the, ge...</td>\n",
       "      <td>[moviemaking, lot, like, general, manager, nfl...</td>\n",
       "    </tr>\n",
       "  </tbody>\n",
       "</table>\n",
       "</div>"
      ],
      "text/plain": [
       "  class                                               text  \\\n",
       "0   Pos   films adapted from comic books have had plent...   \n",
       "1   Pos   every now and then a movie comes along from a...   \n",
       "2   Pos   you ve got mail works alot better than it des...   \n",
       "3   Pos      jaws   is a rare film that grabs your atte...   \n",
       "4   Pos   moviemaking is a lot like being the general m...   \n",
       "\n",
       "                                             text_wt  \\\n",
       "0  [films, adapted, from, comic, books, have, had...   \n",
       "1  [every, now, and, then, a, movie, comes, along...   \n",
       "2  [you, ve, got, mail, works, alot, better, than...   \n",
       "3  [jaws, is, a, rare, film, that, grabs, your, a...   \n",
       "4  [moviemaking, is, a, lot, like, being, the, ge...   \n",
       "\n",
       "                                             text_SW  \n",
       "0  [films, adapted, comic, books, plenty, success...  \n",
       "1  [every, movie, comes, along, suspect, studio, ...  \n",
       "2  [got, mail, works, alot, better, deserves, ord...  \n",
       "3  [jaws, rare, film, grabs, attention, shows, si...  \n",
       "4  [moviemaking, lot, like, general, manager, nfl...  "
      ]
     },
     "execution_count": 24,
     "metadata": {},
     "output_type": "execute_result"
    }
   ],
   "source": [
    "#To show the stop words\n",
    "#nltk.download('stopwords') #download Stopwords\n",
    "from nltk.corpus import stopwords\n",
    "stop_words = set(stopwords.words('english'))\n",
    "#Remove All Stop Word\n",
    "df['text_SW'] = [[i for i in j if not i in stop_words] for j in df['text_wt']]# remove the word which is aviable in stopword libr\n",
    "df.head()"
   ]
  },
  {
   "cell_type": "code",
   "execution_count": 25,
   "metadata": {},
   "outputs": [],
   "source": [
    "#nltk.download('tagsets')\n",
    "#nltk.help.upenn_tagset()# tagset documentation\n",
    "#nltk.download('wordnet')\n",
    "from collections import defaultdict #Default Dictionary is imported from collections\n",
    "from nltk.corpus import wordnet as wn #the corpus reader wordnet is imported.\n",
    "from nltk.tag import pos_tag\n",
    "# WordNetLemmatizer requires Pos tags to understand if the word is noun or verb or adjective etc. \n",
    "#By default it is set to Noun\n",
    "tag_map = defaultdict(lambda : wn.NOUN) #Dictionary is created where pos_tag (first letter) are the key values \n",
    "tag_map['J'] = wn.ADJ                   #whose values are mapped with the value \n",
    "tag_map['V'] = wn.VERB                  #from wordnet dictionary. We have taken the only first letter as \n",
    "tag_map['R'] = wn.ADV\n",
    "# we will use it later in the loop.\n",
    "#tag_map"
   ]
  },
  {
   "cell_type": "code",
   "execution_count": 26,
   "metadata": {},
   "outputs": [
    {
     "data": {
      "text/html": [
       "<div>\n",
       "<style scoped>\n",
       "    .dataframe tbody tr th:only-of-type {\n",
       "        vertical-align: middle;\n",
       "    }\n",
       "\n",
       "    .dataframe tbody tr th {\n",
       "        vertical-align: top;\n",
       "    }\n",
       "\n",
       "    .dataframe thead th {\n",
       "        text-align: right;\n",
       "    }\n",
       "</style>\n",
       "<table border=\"1\" class=\"dataframe\">\n",
       "  <thead>\n",
       "    <tr style=\"text-align: right;\">\n",
       "      <th></th>\n",
       "      <th>class</th>\n",
       "      <th>text</th>\n",
       "      <th>text_wt</th>\n",
       "      <th>text_SW</th>\n",
       "      <th>lemma</th>\n",
       "    </tr>\n",
       "  </thead>\n",
       "  <tbody>\n",
       "    <tr>\n",
       "      <th>0</th>\n",
       "      <td>Pos</td>\n",
       "      <td>films adapted from comic books have had plent...</td>\n",
       "      <td>[films, adapted, from, comic, books, have, had...</td>\n",
       "      <td>[films, adapted, comic, books, plenty, success...</td>\n",
       "      <td>[film, adapt, comic, book, plenty, success, wh...</td>\n",
       "    </tr>\n",
       "    <tr>\n",
       "      <th>1</th>\n",
       "      <td>Pos</td>\n",
       "      <td>every now and then a movie comes along from a...</td>\n",
       "      <td>[every, now, and, then, a, movie, comes, along...</td>\n",
       "      <td>[every, movie, comes, along, suspect, studio, ...</td>\n",
       "      <td>[every, movie, come, along, suspect, studio, e...</td>\n",
       "    </tr>\n",
       "    <tr>\n",
       "      <th>2</th>\n",
       "      <td>Pos</td>\n",
       "      <td>you ve got mail works alot better than it des...</td>\n",
       "      <td>[you, ve, got, mail, works, alot, better, than...</td>\n",
       "      <td>[got, mail, works, alot, better, deserves, ord...</td>\n",
       "      <td>[get, mail, work, alot, good, deserves, order,...</td>\n",
       "    </tr>\n",
       "    <tr>\n",
       "      <th>3</th>\n",
       "      <td>Pos</td>\n",
       "      <td>jaws   is a rare film that grabs your atte...</td>\n",
       "      <td>[jaws, is, a, rare, film, that, grabs, your, a...</td>\n",
       "      <td>[jaws, rare, film, grabs, attention, shows, si...</td>\n",
       "      <td>[jaw, rare, film, grab, attention, show, singl...</td>\n",
       "    </tr>\n",
       "    <tr>\n",
       "      <th>4</th>\n",
       "      <td>Pos</td>\n",
       "      <td>moviemaking is a lot like being the general m...</td>\n",
       "      <td>[moviemaking, is, a, lot, like, being, the, ge...</td>\n",
       "      <td>[moviemaking, lot, like, general, manager, nfl...</td>\n",
       "      <td>[moviemaking, lot, like, general, manager, nfl...</td>\n",
       "    </tr>\n",
       "  </tbody>\n",
       "</table>\n",
       "</div>"
      ],
      "text/plain": [
       "  class                                               text  \\\n",
       "0   Pos   films adapted from comic books have had plent...   \n",
       "1   Pos   every now and then a movie comes along from a...   \n",
       "2   Pos   you ve got mail works alot better than it des...   \n",
       "3   Pos      jaws   is a rare film that grabs your atte...   \n",
       "4   Pos   moviemaking is a lot like being the general m...   \n",
       "\n",
       "                                             text_wt  \\\n",
       "0  [films, adapted, from, comic, books, have, had...   \n",
       "1  [every, now, and, then, a, movie, comes, along...   \n",
       "2  [you, ve, got, mail, works, alot, better, than...   \n",
       "3  [jaws, is, a, rare, film, that, grabs, your, a...   \n",
       "4  [moviemaking, is, a, lot, like, being, the, ge...   \n",
       "\n",
       "                                             text_SW  \\\n",
       "0  [films, adapted, comic, books, plenty, success...   \n",
       "1  [every, movie, comes, along, suspect, studio, ...   \n",
       "2  [got, mail, works, alot, better, deserves, ord...   \n",
       "3  [jaws, rare, film, grabs, attention, shows, si...   \n",
       "4  [moviemaking, lot, like, general, manager, nfl...   \n",
       "\n",
       "                                               lemma  \n",
       "0  [film, adapt, comic, book, plenty, success, wh...  \n",
       "1  [every, movie, come, along, suspect, studio, e...  \n",
       "2  [get, mail, work, alot, good, deserves, order,...  \n",
       "3  [jaw, rare, film, grab, attention, show, singl...  \n",
       "4  [moviemaking, lot, like, general, manager, nfl...  "
      ]
     },
     "execution_count": 26,
     "metadata": {},
     "output_type": "execute_result"
    }
   ],
   "source": [
    "#lemmatization\n",
    "from nltk.stem import WordNetLemmatizer \n",
    " # Initializing WordNetLemmatizer()\n",
    "lemmatizer = WordNetLemmatizer()\n",
    "\n",
    "df['lemma']=[[lemmatizer.lemmatize(word,tag_map[tag[0]]) for word ,tag in pos_tag(i)] for i in df['text_SW']] \n",
    "df.head()"
   ]
  },
  {
   "cell_type": "code",
   "execution_count": 27,
   "metadata": {},
   "outputs": [],
   "source": [
    " df['lemma2']= df['lemma'].apply(lambda x: ' '.join(x))"
   ]
  },
  {
   "cell_type": "code",
   "execution_count": 28,
   "metadata": {},
   "outputs": [
    {
     "data": {
      "text/plain": [
       "0    film adapt comic book plenty success whether s...\n",
       "1    every movie come along suspect studio every in...\n",
       "2    get mail work alot good deserves order make fi...\n",
       "3    jaw rare film grab attention show single image...\n",
       "4    moviemaking lot like general manager nfl team ...\n",
       "Name: lemma2, dtype: object"
      ]
     },
     "execution_count": 28,
     "metadata": {},
     "output_type": "execute_result"
    }
   ],
   "source": [
    "df['lemma2'].head()"
   ]
  },
  {
   "cell_type": "code",
   "execution_count": null,
   "metadata": {},
   "outputs": [],
   "source": []
  },
  {
   "cell_type": "code",
   "execution_count": 84,
   "metadata": {},
   "outputs": [
    {
     "name": "stdout",
     "output_type": "stream",
     "text": [
      "Here is the Vocabulary Size.. 32325\n"
     ]
    }
   ],
   "source": [
    "#Train a Word2Vec model using Gensim\n",
    "import gensim\n",
    "Embedding_Dim = 100\n",
    "#train word2vec model\n",
    "model = gensim.models.Word2Vec(sentences = df['lemma'], size = Embedding_Dim, workers = 4, min_count = 1)\n",
    "#Vocabulary size\n",
    "words = list(model.wv.vocab)\n",
    "print('Here is the Vocabulary Size.. %d' % len(words))"
   ]
  },
  {
   "cell_type": "code",
   "execution_count": 85,
   "metadata": {},
   "outputs": [
    {
     "name": "stdout",
     "output_type": "stream",
     "text": [
      "Training model....\n",
      "Here is the Vocabulary Size.. 32325\n"
     ]
    }
   ],
   "source": [
    "# Creating the model and setting values for the various parameters\n",
    "num_features = 300  # Word vector dimensionality\n",
    "min_word_count = 1 # Minimum word count\n",
    "num_workers = 4     # Number of parallel threads\n",
    "context = 10        # Context window size\n",
    "downsampling = 1e-3 # (0.001) Downsample setting for frequent words\n",
    "\n",
    "# Initializing the train model\n",
    "from gensim.models import word2vec\n",
    "print(\"Training model....\")\n",
    "model = word2vec.Word2Vec(df['lemma'],workers=num_workers,size=num_features,min_count=min_word_count,\n",
    "                          sample=downsampling)\n",
    "\n",
    "# To make the model memory efficient\n",
    "model.init_sims(replace=True)\n",
    "\n",
    "#Vocabulary size\n",
    "words = list(model.wv.vocab)\n",
    "print('Here is the Vocabulary Size.. %d' % len(words))"
   ]
  },
  {
   "cell_type": "code",
   "execution_count": 91,
   "metadata": {},
   "outputs": [
    {
     "data": {
      "text/plain": [
       "['film', 'adapt', 'comic', 'book', 'plenty']"
      ]
     },
     "execution_count": 91,
     "metadata": {},
     "output_type": "execute_result"
    }
   ],
   "source": [
    "words[:5]"
   ]
  },
  {
   "cell_type": "code",
   "execution_count": 93,
   "metadata": {},
   "outputs": [
    {
     "name": "stdout",
     "output_type": "stream",
     "text": [
      "Requirement already satisfied: bokeh in c:\\programdata\\anaconda3\\lib\\site-packages (1.2.0)\n",
      "Requirement already satisfied: tornado>=4.3 in c:\\programdata\\anaconda3\\lib\\site-packages (from bokeh) (6.0.3)\n",
      "Requirement already satisfied: PyYAML>=3.10 in c:\\programdata\\anaconda3\\lib\\site-packages (from bokeh) (5.1.1)\n",
      "Requirement already satisfied: python-dateutil>=2.1 in c:\\programdata\\anaconda3\\lib\\site-packages (from bokeh) (2.8.0)\n",
      "Requirement already satisfied: Jinja2>=2.7 in c:\\programdata\\anaconda3\\lib\\site-packages (from bokeh) (2.10.1)\n",
      "Requirement already satisfied: pillow>=4.0 in c:\\programdata\\anaconda3\\lib\\site-packages (from bokeh) (6.1.0)\n",
      "Requirement already satisfied: packaging>=16.8 in c:\\programdata\\anaconda3\\lib\\site-packages (from bokeh) (19.0)\n",
      "Requirement already satisfied: six>=1.5.2 in c:\\programdata\\anaconda3\\lib\\site-packages (from bokeh) (1.12.0)\n",
      "Requirement already satisfied: numpy>=1.7.1 in c:\\programdata\\anaconda3\\lib\\site-packages (from bokeh) (1.16.4)\n",
      "Requirement already satisfied: MarkupSafe>=0.23 in c:\\programdata\\anaconda3\\lib\\site-packages (from Jinja2>=2.7->bokeh) (1.1.1)\n",
      "Requirement already satisfied: pyparsing>=2.0.2 in c:\\programdata\\anaconda3\\lib\\site-packages (from packaging>=16.8->bokeh) (2.4.0)\n"
     ]
    }
   ],
   "source": [
    "#install bokeh\n",
    "!pip install bokeh"
   ]
  },
  {
   "cell_type": "code",
   "execution_count": 94,
   "metadata": {},
   "outputs": [
    {
     "data": {
      "text/html": [
       "\n",
       "    <div class=\"bk-root\">\n",
       "        <a href=\"https://bokeh.pydata.org\" target=\"_blank\" class=\"bk-logo bk-logo-small bk-logo-notebook\"></a>\n",
       "        <span id=\"1156\">Loading BokehJS ...</span>\n",
       "    </div>"
      ]
     },
     "metadata": {},
     "output_type": "display_data"
    },
    {
     "data": {
      "application/javascript": [
       "\n",
       "(function(root) {\n",
       "  function now() {\n",
       "    return new Date();\n",
       "  }\n",
       "\n",
       "  var force = true;\n",
       "\n",
       "  if (typeof root._bokeh_onload_callbacks === \"undefined\" || force === true) {\n",
       "    root._bokeh_onload_callbacks = [];\n",
       "    root._bokeh_is_loading = undefined;\n",
       "  }\n",
       "\n",
       "  var JS_MIME_TYPE = 'application/javascript';\n",
       "  var HTML_MIME_TYPE = 'text/html';\n",
       "  var EXEC_MIME_TYPE = 'application/vnd.bokehjs_exec.v0+json';\n",
       "  var CLASS_NAME = 'output_bokeh rendered_html';\n",
       "\n",
       "  /**\n",
       "   * Render data to the DOM node\n",
       "   */\n",
       "  function render(props, node) {\n",
       "    var script = document.createElement(\"script\");\n",
       "    node.appendChild(script);\n",
       "  }\n",
       "\n",
       "  /**\n",
       "   * Handle when an output is cleared or removed\n",
       "   */\n",
       "  function handleClearOutput(event, handle) {\n",
       "    var cell = handle.cell;\n",
       "\n",
       "    var id = cell.output_area._bokeh_element_id;\n",
       "    var server_id = cell.output_area._bokeh_server_id;\n",
       "    // Clean up Bokeh references\n",
       "    if (id != null && id in Bokeh.index) {\n",
       "      Bokeh.index[id].model.document.clear();\n",
       "      delete Bokeh.index[id];\n",
       "    }\n",
       "\n",
       "    if (server_id !== undefined) {\n",
       "      // Clean up Bokeh references\n",
       "      var cmd = \"from bokeh.io.state import curstate; print(curstate().uuid_to_server['\" + server_id + \"'].get_sessions()[0].document.roots[0]._id)\";\n",
       "      cell.notebook.kernel.execute(cmd, {\n",
       "        iopub: {\n",
       "          output: function(msg) {\n",
       "            var id = msg.content.text.trim();\n",
       "            if (id in Bokeh.index) {\n",
       "              Bokeh.index[id].model.document.clear();\n",
       "              delete Bokeh.index[id];\n",
       "            }\n",
       "          }\n",
       "        }\n",
       "      });\n",
       "      // Destroy server and session\n",
       "      var cmd = \"import bokeh.io.notebook as ion; ion.destroy_server('\" + server_id + \"')\";\n",
       "      cell.notebook.kernel.execute(cmd);\n",
       "    }\n",
       "  }\n",
       "\n",
       "  /**\n",
       "   * Handle when a new output is added\n",
       "   */\n",
       "  function handleAddOutput(event, handle) {\n",
       "    var output_area = handle.output_area;\n",
       "    var output = handle.output;\n",
       "\n",
       "    // limit handleAddOutput to display_data with EXEC_MIME_TYPE content only\n",
       "    if ((output.output_type != \"display_data\") || (!output.data.hasOwnProperty(EXEC_MIME_TYPE))) {\n",
       "      return\n",
       "    }\n",
       "\n",
       "    var toinsert = output_area.element.find(\".\" + CLASS_NAME.split(' ')[0]);\n",
       "\n",
       "    if (output.metadata[EXEC_MIME_TYPE][\"id\"] !== undefined) {\n",
       "      toinsert[toinsert.length - 1].firstChild.textContent = output.data[JS_MIME_TYPE];\n",
       "      // store reference to embed id on output_area\n",
       "      output_area._bokeh_element_id = output.metadata[EXEC_MIME_TYPE][\"id\"];\n",
       "    }\n",
       "    if (output.metadata[EXEC_MIME_TYPE][\"server_id\"] !== undefined) {\n",
       "      var bk_div = document.createElement(\"div\");\n",
       "      bk_div.innerHTML = output.data[HTML_MIME_TYPE];\n",
       "      var script_attrs = bk_div.children[0].attributes;\n",
       "      for (var i = 0; i < script_attrs.length; i++) {\n",
       "        toinsert[toinsert.length - 1].firstChild.setAttribute(script_attrs[i].name, script_attrs[i].value);\n",
       "      }\n",
       "      // store reference to server id on output_area\n",
       "      output_area._bokeh_server_id = output.metadata[EXEC_MIME_TYPE][\"server_id\"];\n",
       "    }\n",
       "  }\n",
       "\n",
       "  function register_renderer(events, OutputArea) {\n",
       "\n",
       "    function append_mime(data, metadata, element) {\n",
       "      // create a DOM node to render to\n",
       "      var toinsert = this.create_output_subarea(\n",
       "        metadata,\n",
       "        CLASS_NAME,\n",
       "        EXEC_MIME_TYPE\n",
       "      );\n",
       "      this.keyboard_manager.register_events(toinsert);\n",
       "      // Render to node\n",
       "      var props = {data: data, metadata: metadata[EXEC_MIME_TYPE]};\n",
       "      render(props, toinsert[toinsert.length - 1]);\n",
       "      element.append(toinsert);\n",
       "      return toinsert\n",
       "    }\n",
       "\n",
       "    /* Handle when an output is cleared or removed */\n",
       "    events.on('clear_output.CodeCell', handleClearOutput);\n",
       "    events.on('delete.Cell', handleClearOutput);\n",
       "\n",
       "    /* Handle when a new output is added */\n",
       "    events.on('output_added.OutputArea', handleAddOutput);\n",
       "\n",
       "    /**\n",
       "     * Register the mime type and append_mime function with output_area\n",
       "     */\n",
       "    OutputArea.prototype.register_mime_type(EXEC_MIME_TYPE, append_mime, {\n",
       "      /* Is output safe? */\n",
       "      safe: true,\n",
       "      /* Index of renderer in `output_area.display_order` */\n",
       "      index: 0\n",
       "    });\n",
       "  }\n",
       "\n",
       "  // register the mime type if in Jupyter Notebook environment and previously unregistered\n",
       "  if (root.Jupyter !== undefined) {\n",
       "    var events = require('base/js/events');\n",
       "    var OutputArea = require('notebook/js/outputarea').OutputArea;\n",
       "\n",
       "    if (OutputArea.prototype.mime_types().indexOf(EXEC_MIME_TYPE) == -1) {\n",
       "      register_renderer(events, OutputArea);\n",
       "    }\n",
       "  }\n",
       "\n",
       "  \n",
       "  if (typeof (root._bokeh_timeout) === \"undefined\" || force === true) {\n",
       "    root._bokeh_timeout = Date.now() + 5000;\n",
       "    root._bokeh_failed_load = false;\n",
       "  }\n",
       "\n",
       "  var NB_LOAD_WARNING = {'data': {'text/html':\n",
       "     \"<div style='background-color: #fdd'>\\n\"+\n",
       "     \"<p>\\n\"+\n",
       "     \"BokehJS does not appear to have successfully loaded. If loading BokehJS from CDN, this \\n\"+\n",
       "     \"may be due to a slow or bad network connection. Possible fixes:\\n\"+\n",
       "     \"</p>\\n\"+\n",
       "     \"<ul>\\n\"+\n",
       "     \"<li>re-rerun `output_notebook()` to attempt to load from CDN again, or</li>\\n\"+\n",
       "     \"<li>use INLINE resources instead, as so:</li>\\n\"+\n",
       "     \"</ul>\\n\"+\n",
       "     \"<code>\\n\"+\n",
       "     \"from bokeh.resources import INLINE\\n\"+\n",
       "     \"output_notebook(resources=INLINE)\\n\"+\n",
       "     \"</code>\\n\"+\n",
       "     \"</div>\"}};\n",
       "\n",
       "  function display_loaded() {\n",
       "    var el = document.getElementById(\"1156\");\n",
       "    if (el != null) {\n",
       "      el.textContent = \"BokehJS is loading...\";\n",
       "    }\n",
       "    if (root.Bokeh !== undefined) {\n",
       "      if (el != null) {\n",
       "        el.textContent = \"BokehJS \" + root.Bokeh.version + \" successfully loaded.\";\n",
       "      }\n",
       "    } else if (Date.now() < root._bokeh_timeout) {\n",
       "      setTimeout(display_loaded, 100)\n",
       "    }\n",
       "  }\n",
       "\n",
       "\n",
       "  function run_callbacks() {\n",
       "    try {\n",
       "      root._bokeh_onload_callbacks.forEach(function(callback) {\n",
       "        if (callback != null)\n",
       "          callback();\n",
       "      });\n",
       "    } finally {\n",
       "      delete root._bokeh_onload_callbacks\n",
       "    }\n",
       "    console.debug(\"Bokeh: all callbacks have finished\");\n",
       "  }\n",
       "\n",
       "  function load_libs(css_urls, js_urls, callback) {\n",
       "    if (css_urls == null) css_urls = [];\n",
       "    if (js_urls == null) js_urls = [];\n",
       "\n",
       "    root._bokeh_onload_callbacks.push(callback);\n",
       "    if (root._bokeh_is_loading > 0) {\n",
       "      console.debug(\"Bokeh: BokehJS is being loaded, scheduling callback at\", now());\n",
       "      return null;\n",
       "    }\n",
       "    if (js_urls == null || js_urls.length === 0) {\n",
       "      run_callbacks();\n",
       "      return null;\n",
       "    }\n",
       "    console.debug(\"Bokeh: BokehJS not loaded, scheduling load and callback at\", now());\n",
       "    root._bokeh_is_loading = css_urls.length + js_urls.length;\n",
       "\n",
       "    function on_load() {\n",
       "      root._bokeh_is_loading--;\n",
       "      if (root._bokeh_is_loading === 0) {\n",
       "        console.debug(\"Bokeh: all BokehJS libraries/stylesheets loaded\");\n",
       "        run_callbacks()\n",
       "      }\n",
       "    }\n",
       "\n",
       "    function on_error() {\n",
       "      console.error(\"failed to load \" + url);\n",
       "    }\n",
       "\n",
       "    for (var i = 0; i < css_urls.length; i++) {\n",
       "      var url = css_urls[i];\n",
       "      const element = document.createElement(\"link\");\n",
       "      element.onload = on_load;\n",
       "      element.onerror = on_error;\n",
       "      element.rel = \"stylesheet\";\n",
       "      element.type = \"text/css\";\n",
       "      element.href = url;\n",
       "      console.debug(\"Bokeh: injecting link tag for BokehJS stylesheet: \", url);\n",
       "      document.body.appendChild(element);\n",
       "    }\n",
       "\n",
       "    for (var i = 0; i < js_urls.length; i++) {\n",
       "      var url = js_urls[i];\n",
       "      var element = document.createElement('script');\n",
       "      element.onload = on_load;\n",
       "      element.onerror = on_error;\n",
       "      element.async = false;\n",
       "      element.src = url;\n",
       "      console.debug(\"Bokeh: injecting script tag for BokehJS library: \", url);\n",
       "      document.head.appendChild(element);\n",
       "    }\n",
       "  };var element = document.getElementById(\"1156\");\n",
       "  if (element == null) {\n",
       "    console.error(\"Bokeh: ERROR: autoload.js configured with elementid '1156' but no matching script tag was found. \")\n",
       "    return false;\n",
       "  }\n",
       "\n",
       "  function inject_raw_css(css) {\n",
       "    const element = document.createElement(\"style\");\n",
       "    element.appendChild(document.createTextNode(css));\n",
       "    document.body.appendChild(element);\n",
       "  }\n",
       "\n",
       "  var js_urls = [\"https://cdn.pydata.org/bokeh/release/bokeh-1.2.0.min.js\", \"https://cdn.pydata.org/bokeh/release/bokeh-widgets-1.2.0.min.js\", \"https://cdn.pydata.org/bokeh/release/bokeh-tables-1.2.0.min.js\", \"https://cdn.pydata.org/bokeh/release/bokeh-gl-1.2.0.min.js\"];\n",
       "  var css_urls = [\"https://cdn.pydata.org/bokeh/release/bokeh-1.2.0.min.css\", \"https://cdn.pydata.org/bokeh/release/bokeh-widgets-1.2.0.min.css\", \"https://cdn.pydata.org/bokeh/release/bokeh-tables-1.2.0.min.css\"];\n",
       "\n",
       "  var inline_js = [\n",
       "    function(Bokeh) {\n",
       "      Bokeh.set_log_level(\"info\");\n",
       "    },\n",
       "    \n",
       "    function(Bokeh) {\n",
       "      \n",
       "    },\n",
       "    function(Bokeh) {} // ensure no trailing comma for IE\n",
       "  ];\n",
       "\n",
       "  function run_inline_js() {\n",
       "    \n",
       "    if ((root.Bokeh !== undefined) || (force === true)) {\n",
       "      for (var i = 0; i < inline_js.length; i++) {\n",
       "        inline_js[i].call(root, root.Bokeh);\n",
       "      }if (force === true) {\n",
       "        display_loaded();\n",
       "      }} else if (Date.now() < root._bokeh_timeout) {\n",
       "      setTimeout(run_inline_js, 100);\n",
       "    } else if (!root._bokeh_failed_load) {\n",
       "      console.log(\"Bokeh: BokehJS failed to load within specified timeout.\");\n",
       "      root._bokeh_failed_load = true;\n",
       "    } else if (force !== true) {\n",
       "      var cell = $(document.getElementById(\"1156\")).parents('.cell').data().cell;\n",
       "      cell.output_area.append_execute_result(NB_LOAD_WARNING)\n",
       "    }\n",
       "\n",
       "  }\n",
       "\n",
       "  if (root._bokeh_is_loading === 0) {\n",
       "    console.debug(\"Bokeh: BokehJS loaded, going straight to plotting\");\n",
       "    run_inline_js();\n",
       "  } else {\n",
       "    load_libs(css_urls, js_urls, function() {\n",
       "      console.debug(\"Bokeh: BokehJS plotting callback run at\", now());\n",
       "      run_inline_js();\n",
       "    });\n",
       "  }\n",
       "}(window));"
      ],
      "application/vnd.bokehjs_load.v0+json": "\n(function(root) {\n  function now() {\n    return new Date();\n  }\n\n  var force = true;\n\n  if (typeof root._bokeh_onload_callbacks === \"undefined\" || force === true) {\n    root._bokeh_onload_callbacks = [];\n    root._bokeh_is_loading = undefined;\n  }\n\n  \n\n  \n  if (typeof (root._bokeh_timeout) === \"undefined\" || force === true) {\n    root._bokeh_timeout = Date.now() + 5000;\n    root._bokeh_failed_load = false;\n  }\n\n  var NB_LOAD_WARNING = {'data': {'text/html':\n     \"<div style='background-color: #fdd'>\\n\"+\n     \"<p>\\n\"+\n     \"BokehJS does not appear to have successfully loaded. If loading BokehJS from CDN, this \\n\"+\n     \"may be due to a slow or bad network connection. Possible fixes:\\n\"+\n     \"</p>\\n\"+\n     \"<ul>\\n\"+\n     \"<li>re-rerun `output_notebook()` to attempt to load from CDN again, or</li>\\n\"+\n     \"<li>use INLINE resources instead, as so:</li>\\n\"+\n     \"</ul>\\n\"+\n     \"<code>\\n\"+\n     \"from bokeh.resources import INLINE\\n\"+\n     \"output_notebook(resources=INLINE)\\n\"+\n     \"</code>\\n\"+\n     \"</div>\"}};\n\n  function display_loaded() {\n    var el = document.getElementById(\"1156\");\n    if (el != null) {\n      el.textContent = \"BokehJS is loading...\";\n    }\n    if (root.Bokeh !== undefined) {\n      if (el != null) {\n        el.textContent = \"BokehJS \" + root.Bokeh.version + \" successfully loaded.\";\n      }\n    } else if (Date.now() < root._bokeh_timeout) {\n      setTimeout(display_loaded, 100)\n    }\n  }\n\n\n  function run_callbacks() {\n    try {\n      root._bokeh_onload_callbacks.forEach(function(callback) {\n        if (callback != null)\n          callback();\n      });\n    } finally {\n      delete root._bokeh_onload_callbacks\n    }\n    console.debug(\"Bokeh: all callbacks have finished\");\n  }\n\n  function load_libs(css_urls, js_urls, callback) {\n    if (css_urls == null) css_urls = [];\n    if (js_urls == null) js_urls = [];\n\n    root._bokeh_onload_callbacks.push(callback);\n    if (root._bokeh_is_loading > 0) {\n      console.debug(\"Bokeh: BokehJS is being loaded, scheduling callback at\", now());\n      return null;\n    }\n    if (js_urls == null || js_urls.length === 0) {\n      run_callbacks();\n      return null;\n    }\n    console.debug(\"Bokeh: BokehJS not loaded, scheduling load and callback at\", now());\n    root._bokeh_is_loading = css_urls.length + js_urls.length;\n\n    function on_load() {\n      root._bokeh_is_loading--;\n      if (root._bokeh_is_loading === 0) {\n        console.debug(\"Bokeh: all BokehJS libraries/stylesheets loaded\");\n        run_callbacks()\n      }\n    }\n\n    function on_error() {\n      console.error(\"failed to load \" + url);\n    }\n\n    for (var i = 0; i < css_urls.length; i++) {\n      var url = css_urls[i];\n      const element = document.createElement(\"link\");\n      element.onload = on_load;\n      element.onerror = on_error;\n      element.rel = \"stylesheet\";\n      element.type = \"text/css\";\n      element.href = url;\n      console.debug(\"Bokeh: injecting link tag for BokehJS stylesheet: \", url);\n      document.body.appendChild(element);\n    }\n\n    for (var i = 0; i < js_urls.length; i++) {\n      var url = js_urls[i];\n      var element = document.createElement('script');\n      element.onload = on_load;\n      element.onerror = on_error;\n      element.async = false;\n      element.src = url;\n      console.debug(\"Bokeh: injecting script tag for BokehJS library: \", url);\n      document.head.appendChild(element);\n    }\n  };var element = document.getElementById(\"1156\");\n  if (element == null) {\n    console.error(\"Bokeh: ERROR: autoload.js configured with elementid '1156' but no matching script tag was found. \")\n    return false;\n  }\n\n  function inject_raw_css(css) {\n    const element = document.createElement(\"style\");\n    element.appendChild(document.createTextNode(css));\n    document.body.appendChild(element);\n  }\n\n  var js_urls = [\"https://cdn.pydata.org/bokeh/release/bokeh-1.2.0.min.js\", \"https://cdn.pydata.org/bokeh/release/bokeh-widgets-1.2.0.min.js\", \"https://cdn.pydata.org/bokeh/release/bokeh-tables-1.2.0.min.js\", \"https://cdn.pydata.org/bokeh/release/bokeh-gl-1.2.0.min.js\"];\n  var css_urls = [\"https://cdn.pydata.org/bokeh/release/bokeh-1.2.0.min.css\", \"https://cdn.pydata.org/bokeh/release/bokeh-widgets-1.2.0.min.css\", \"https://cdn.pydata.org/bokeh/release/bokeh-tables-1.2.0.min.css\"];\n\n  var inline_js = [\n    function(Bokeh) {\n      Bokeh.set_log_level(\"info\");\n    },\n    \n    function(Bokeh) {\n      \n    },\n    function(Bokeh) {} // ensure no trailing comma for IE\n  ];\n\n  function run_inline_js() {\n    \n    if ((root.Bokeh !== undefined) || (force === true)) {\n      for (var i = 0; i < inline_js.length; i++) {\n        inline_js[i].call(root, root.Bokeh);\n      }if (force === true) {\n        display_loaded();\n      }} else if (Date.now() < root._bokeh_timeout) {\n      setTimeout(run_inline_js, 100);\n    } else if (!root._bokeh_failed_load) {\n      console.log(\"Bokeh: BokehJS failed to load within specified timeout.\");\n      root._bokeh_failed_load = true;\n    } else if (force !== true) {\n      var cell = $(document.getElementById(\"1156\")).parents('.cell').data().cell;\n      cell.output_area.append_execute_result(NB_LOAD_WARNING)\n    }\n\n  }\n\n  if (root._bokeh_is_loading === 0) {\n    console.debug(\"Bokeh: BokehJS loaded, going straight to plotting\");\n    run_inline_js();\n  } else {\n    load_libs(css_urls, js_urls, function() {\n      console.debug(\"Bokeh: BokehJS plotting callback run at\", now());\n      run_inline_js();\n    });\n  }\n}(window));"
     },
     "metadata": {},
     "output_type": "display_data"
    },
    {
     "name": "stderr",
     "output_type": "stream",
     "text": [
      "C:\\ProgramData\\Anaconda3\\lib\\site-packages\\ipykernel_launcher.py:13: DeprecationWarning: Call to deprecated `__getitem__` (Method will be removed in 4.0.0, use self.wv.__getitem__() instead).\n",
      "  del sys.path[0]\n"
     ]
    },
    {
     "name": "stdout",
     "output_type": "stream",
     "text": [
      "[t-SNE] Computing 91 nearest neighbors...\n",
      "[t-SNE] Indexed 5000 samples in 0.072s...\n",
      "[t-SNE] Computed neighbors for 5000 samples in 10.271s...\n",
      "[t-SNE] Computed conditional probabilities for sample 1000 / 5000\n",
      "[t-SNE] Computed conditional probabilities for sample 2000 / 5000\n",
      "[t-SNE] Computed conditional probabilities for sample 3000 / 5000\n",
      "[t-SNE] Computed conditional probabilities for sample 4000 / 5000\n",
      "[t-SNE] Computed conditional probabilities for sample 5000 / 5000\n",
      "[t-SNE] Mean sigma: 0.030779\n",
      "[t-SNE] KL divergence after 250 iterations with early exaggeration: 76.259155\n",
      "[t-SNE] KL divergence after 1000 iterations: 1.509962\n"
     ]
    },
    {
     "data": {
      "text/html": [
       "\n",
       "\n",
       "\n",
       "\n",
       "\n",
       "\n",
       "  <div class=\"bk-root\" id=\"f31ef365-685c-4082-a94d-3d81be183cf3\" data-root-id=\"1157\"></div>\n"
      ]
     },
     "metadata": {},
     "output_type": "display_data"
    },
    {
     "data": {
      "application/javascript": [
       "(function(root) {\n",
       "  function embed_document(root) {\n",
       "    \n",
       "  var docs_json = {\"90a28740-8e51-47cd-85c2-d00feb63c374\":{\"roots\":{\"references\":[{\"attributes\":{\"min_border\":1,\"plot_width\":700,\"renderers\":[{\"id\":\"1185\",\"type\":\"GlyphRenderer\"}],\"title\":{\"id\":\"1158\",\"type\":\"Title\"},\"toolbar\":{\"id\":\"1174\",\"type\":\"Toolbar\"},\"x_range\":{\"id\":\"1160\",\"type\":\"DataRange1d\"},\"x_scale\":{\"id\":\"1164\",\"type\":\"LinearScale\"},\"y_range\":{\"id\":\"1162\",\"type\":\"DataRange1d\"},\"y_scale\":{\"id\":\"1166\",\"type\":\"LinearScale\"}},\"id\":\"1157\",\"subtype\":\"Figure\",\"type\":\"Plot\"},{\"attributes\":{\"fill_color\":{\"value\":\"#1f77b4\"},\"line_color\":{\"value\":\"#1f77b4\"},\"x\":{\"field\":\"x\"},\"y\":{\"field\":\"y\"}},\"id\":\"1183\",\"type\":\"Scatter\"},{\"attributes\":{\"data_source\":{\"id\":\"1181\",\"type\":\"ColumnDataSource\"},\"glyph\":{\"id\":\"1183\",\"type\":\"Scatter\"},\"hover_glyph\":null,\"muted_glyph\":null,\"nonselection_glyph\":{\"id\":\"1184\",\"type\":\"Scatter\"},\"selection_glyph\":null,\"view\":{\"id\":\"1186\",\"type\":\"CDSView\"}},\"id\":\"1185\",\"type\":\"GlyphRenderer\"},{\"attributes\":{\"source\":{\"id\":\"1181\",\"type\":\"ColumnDataSource\"}},\"id\":\"1186\",\"type\":\"CDSView\"},{\"attributes\":{\"fill_alpha\":{\"value\":0.1},\"fill_color\":{\"value\":\"#1f77b4\"},\"line_alpha\":{\"value\":0.1},\"line_color\":{\"value\":\"#1f77b4\"},\"x\":{\"field\":\"x\"},\"y\":{\"field\":\"y\"}},\"id\":\"1184\",\"type\":\"Scatter\"},{\"attributes\":{},\"id\":\"1171\",\"type\":\"ResetTool\"},{\"attributes\":{\"callback\":null},\"id\":\"1162\",\"type\":\"DataRange1d\"},{\"attributes\":{},\"id\":\"1189\",\"type\":\"UnionRenderers\"},{\"attributes\":{\"text\":\"A map/plot of 5000 word vectors\"},\"id\":\"1158\",\"type\":\"Title\"},{\"attributes\":{},\"id\":\"1190\",\"type\":\"Selection\"},{\"attributes\":{\"active_drag\":\"auto\",\"active_inspect\":\"auto\",\"active_multi\":null,\"active_scroll\":\"auto\",\"active_tap\":\"auto\",\"tools\":[{\"id\":\"1168\",\"type\":\"PanTool\"},{\"id\":\"1169\",\"type\":\"WheelZoomTool\"},{\"id\":\"1170\",\"type\":\"BoxZoomTool\"},{\"id\":\"1171\",\"type\":\"ResetTool\"},{\"id\":\"1172\",\"type\":\"HoverTool\"},{\"id\":\"1173\",\"type\":\"SaveTool\"}]},\"id\":\"1174\",\"type\":\"Toolbar\"},{\"attributes\":{\"overlay\":{\"id\":\"1188\",\"type\":\"BoxAnnotation\"}},\"id\":\"1170\",\"type\":\"BoxZoomTool\"},{\"attributes\":{\"bottom_units\":\"screen\",\"fill_alpha\":{\"value\":0.5},\"fill_color\":{\"value\":\"lightgrey\"},\"left_units\":\"screen\",\"level\":\"overlay\",\"line_alpha\":{\"value\":1.0},\"line_color\":{\"value\":\"black\"},\"line_dash\":[4,4],\"line_width\":{\"value\":2},\"render_mode\":\"css\",\"right_units\":\"screen\",\"top_units\":\"screen\"},\"id\":\"1188\",\"type\":\"BoxAnnotation\"},{\"attributes\":{},\"id\":\"1166\",\"type\":\"LinearScale\"},{\"attributes\":{\"callback\":null,\"data\":{\"index\":[0,1,2,3,4,5,6,7,8,9,10,11,12,13,14,15,16,17,18,19,20,21,22,23,24,25,26,27,28,29,30,31,32,33,34,35,36,37,38,39,40,41,42,43,44,45,46,47,48,49,50,51,52,53,54,55,56,57,58,59,60,61,62,63,64,65,66,67,68,69,70,71,72,73,74,75,76,77,78,79,80,81,82,83,84,85,86,87,88,89,90,91,92,93,94,95,96,97,98,99,100,101,102,103,104,105,106,107,108,109,110,111,112,113,114,115,116,117,118,119,120,121,122,123,124,125,126,127,128,129,130,131,132,133,134,135,136,137,138,139,140,141,142,143,144,145,146,147,148,149,150,151,152,153,154,155,156,157,158,159,160,161,162,163,164,165,166,167,168,169,170,171,172,173,174,175,176,177,178,179,180,181,182,183,184,185,186,187,188,189,190,191,192,193,194,195,196,197,198,199,200,201,202,203,204,205,206,207,208,209,210,211,212,213,214,215,216,217,218,219,220,221,222,223,224,225,226,227,228,229,230,231,232,233,234,235,236,237,238,239,240,241,242,243,244,245,246,247,248,249,250,251,252,253,254,255,256,257,258,259,260,261,262,263,264,265,266,267,268,269,270,271,272,273,274,275,276,277,278,279,280,281,282,283,284,285,286,287,288,289,290,291,292,293,294,295,296,297,298,299,300,301,302,303,304,305,306,307,308,309,310,311,312,313,314,315,316,317,318,319,320,321,322,323,324,325,326,327,328,329,330,331,332,333,334,335,336,337,338,339,340,341,342,343,344,345,346,347,348,349,350,351,352,353,354,355,356,357,358,359,360,361,362,363,364,365,366,367,368,369,370,371,372,373,374,375,376,377,378,379,380,381,382,383,384,385,386,387,388,389,390,391,392,393,394,395,396,397,398,399,400,401,402,403,404,405,406,407,408,409,410,411,412,413,414,415,416,417,418,419,420,421,422,423,424,425,426,427,428,429,430,431,432,433,434,435,436,437,438,439,440,441,442,443,444,445,446,447,448,449,450,451,452,453,454,455,456,457,458,459,460,461,462,463,464,465,466,467,468,469,470,471,472,473,474,475,476,477,478,479,480,481,482,483,484,485,486,487,488,489,490,491,492,493,494,495,496,497,498,499,500,501,502,503,504,505,506,507,508,509,510,511,512,513,514,515,516,517,518,519,520,521,522,523,524,525,526,527,528,529,530,531,532,533,534,535,536,537,538,539,540,541,542,543,544,545,546,547,548,549,550,551,552,553,554,555,556,557,558,559,560,561,562,563,564,565,566,567,568,569,570,571,572,573,574,575,576,577,578,579,580,581,582,583,584,585,586,587,588,589,590,591,592,593,594,595,596,597,598,599,600,601,602,603,604,605,606,607,608,609,610,611,612,613,614,615,616,617,618,619,620,621,622,623,624,625,626,627,628,629,630,631,632,633,634,635,636,637,638,639,640,641,642,643,644,645,646,647,648,649,650,651,652,653,654,655,656,657,658,659,660,661,662,663,664,665,666,667,668,669,670,671,672,673,674,675,676,677,678,679,680,681,682,683,684,685,686,687,688,689,690,691,692,693,694,695,696,697,698,699,700,701,702,703,704,705,706,707,708,709,710,711,712,713,714,715,716,717,718,719,720,721,722,723,724,725,726,727,728,729,730,731,732,733,734,735,736,737,738,739,740,741,742,743,744,745,746,747,748,749,750,751,752,753,754,755,756,757,758,759,760,761,762,763,764,765,766,767,768,769,770,771,772,773,774,775,776,777,778,779,780,781,782,783,784,785,786,787,788,789,790,791,792,793,794,795,796,797,798,799,800,801,802,803,804,805,806,807,808,809,810,811,812,813,814,815,816,817,818,819,820,821,822,823,824,825,826,827,828,829,830,831,832,833,834,835,836,837,838,839,840,841,842,843,844,845,846,847,848,849,850,851,852,853,854,855,856,857,858,859,860,861,862,863,864,865,866,867,868,869,870,871,872,873,874,875,876,877,878,879,880,881,882,883,884,885,886,887,888,889,890,891,892,893,894,895,896,897,898,899,900,901,902,903,904,905,906,907,908,909,910,911,912,913,914,915,916,917,918,919,920,921,922,923,924,925,926,927,928,929,930,931,932,933,934,935,936,937,938,939,940,941,942,943,944,945,946,947,948,949,950,951,952,953,954,955,956,957,958,959,960,961,962,963,964,965,966,967,968,969,970,971,972,973,974,975,976,977,978,979,980,981,982,983,984,985,986,987,988,989,990,991,992,993,994,995,996,997,998,999,1000,1001,1002,1003,1004,1005,1006,1007,1008,1009,1010,1011,1012,1013,1014,1015,1016,1017,1018,1019,1020,1021,1022,1023,1024,1025,1026,1027,1028,1029,1030,1031,1032,1033,1034,1035,1036,1037,1038,1039,1040,1041,1042,1043,1044,1045,1046,1047,1048,1049,1050,1051,1052,1053,1054,1055,1056,1057,1058,1059,1060,1061,1062,1063,1064,1065,1066,1067,1068,1069,1070,1071,1072,1073,1074,1075,1076,1077,1078,1079,1080,1081,1082,1083,1084,1085,1086,1087,1088,1089,1090,1091,1092,1093,1094,1095,1096,1097,1098,1099,1100,1101,1102,1103,1104,1105,1106,1107,1108,1109,1110,1111,1112,1113,1114,1115,1116,1117,1118,1119,1120,1121,1122,1123,1124,1125,1126,1127,1128,1129,1130,1131,1132,1133,1134,1135,1136,1137,1138,1139,1140,1141,1142,1143,1144,1145,1146,1147,1148,1149,1150,1151,1152,1153,1154,1155,1156,1157,1158,1159,1160,1161,1162,1163,1164,1165,1166,1167,1168,1169,1170,1171,1172,1173,1174,1175,1176,1177,1178,1179,1180,1181,1182,1183,1184,1185,1186,1187,1188,1189,1190,1191,1192,1193,1194,1195,1196,1197,1198,1199,1200,1201,1202,1203,1204,1205,1206,1207,1208,1209,1210,1211,1212,1213,1214,1215,1216,1217,1218,1219,1220,1221,1222,1223,1224,1225,1226,1227,1228,1229,1230,1231,1232,1233,1234,1235,1236,1237,1238,1239,1240,1241,1242,1243,1244,1245,1246,1247,1248,1249,1250,1251,1252,1253,1254,1255,1256,1257,1258,1259,1260,1261,1262,1263,1264,1265,1266,1267,1268,1269,1270,1271,1272,1273,1274,1275,1276,1277,1278,1279,1280,1281,1282,1283,1284,1285,1286,1287,1288,1289,1290,1291,1292,1293,1294,1295,1296,1297,1298,1299,1300,1301,1302,1303,1304,1305,1306,1307,1308,1309,1310,1311,1312,1313,1314,1315,1316,1317,1318,1319,1320,1321,1322,1323,1324,1325,1326,1327,1328,1329,1330,1331,1332,1333,1334,1335,1336,1337,1338,1339,1340,1341,1342,1343,1344,1345,1346,1347,1348,1349,1350,1351,1352,1353,1354,1355,1356,1357,1358,1359,1360,1361,1362,1363,1364,1365,1366,1367,1368,1369,1370,1371,1372,1373,1374,1375,1376,1377,1378,1379,1380,1381,1382,1383,1384,1385,1386,1387,1388,1389,1390,1391,1392,1393,1394,1395,1396,1397,1398,1399,1400,1401,1402,1403,1404,1405,1406,1407,1408,1409,1410,1411,1412,1413,1414,1415,1416,1417,1418,1419,1420,1421,1422,1423,1424,1425,1426,1427,1428,1429,1430,1431,1432,1433,1434,1435,1436,1437,1438,1439,1440,1441,1442,1443,1444,1445,1446,1447,1448,1449,1450,1451,1452,1453,1454,1455,1456,1457,1458,1459,1460,1461,1462,1463,1464,1465,1466,1467,1468,1469,1470,1471,1472,1473,1474,1475,1476,1477,1478,1479,1480,1481,1482,1483,1484,1485,1486,1487,1488,1489,1490,1491,1492,1493,1494,1495,1496,1497,1498,1499,1500,1501,1502,1503,1504,1505,1506,1507,1508,1509,1510,1511,1512,1513,1514,1515,1516,1517,1518,1519,1520,1521,1522,1523,1524,1525,1526,1527,1528,1529,1530,1531,1532,1533,1534,1535,1536,1537,1538,1539,1540,1541,1542,1543,1544,1545,1546,1547,1548,1549,1550,1551,1552,1553,1554,1555,1556,1557,1558,1559,1560,1561,1562,1563,1564,1565,1566,1567,1568,1569,1570,1571,1572,1573,1574,1575,1576,1577,1578,1579,1580,1581,1582,1583,1584,1585,1586,1587,1588,1589,1590,1591,1592,1593,1594,1595,1596,1597,1598,1599,1600,1601,1602,1603,1604,1605,1606,1607,1608,1609,1610,1611,1612,1613,1614,1615,1616,1617,1618,1619,1620,1621,1622,1623,1624,1625,1626,1627,1628,1629,1630,1631,1632,1633,1634,1635,1636,1637,1638,1639,1640,1641,1642,1643,1644,1645,1646,1647,1648,1649,1650,1651,1652,1653,1654,1655,1656,1657,1658,1659,1660,1661,1662,1663,1664,1665,1666,1667,1668,1669,1670,1671,1672,1673,1674,1675,1676,1677,1678,1679,1680,1681,1682,1683,1684,1685,1686,1687,1688,1689,1690,1691,1692,1693,1694,1695,1696,1697,1698,1699,1700,1701,1702,1703,1704,1705,1706,1707,1708,1709,1710,1711,1712,1713,1714,1715,1716,1717,1718,1719,1720,1721,1722,1723,1724,1725,1726,1727,1728,1729,1730,1731,1732,1733,1734,1735,1736,1737,1738,1739,1740,1741,1742,1743,1744,1745,1746,1747,1748,1749,1750,1751,1752,1753,1754,1755,1756,1757,1758,1759,1760,1761,1762,1763,1764,1765,1766,1767,1768,1769,1770,1771,1772,1773,1774,1775,1776,1777,1778,1779,1780,1781,1782,1783,1784,1785,1786,1787,1788,1789,1790,1791,1792,1793,1794,1795,1796,1797,1798,1799,1800,1801,1802,1803,1804,1805,1806,1807,1808,1809,1810,1811,1812,1813,1814,1815,1816,1817,1818,1819,1820,1821,1822,1823,1824,1825,1826,1827,1828,1829,1830,1831,1832,1833,1834,1835,1836,1837,1838,1839,1840,1841,1842,1843,1844,1845,1846,1847,1848,1849,1850,1851,1852,1853,1854,1855,1856,1857,1858,1859,1860,1861,1862,1863,1864,1865,1866,1867,1868,1869,1870,1871,1872,1873,1874,1875,1876,1877,1878,1879,1880,1881,1882,1883,1884,1885,1886,1887,1888,1889,1890,1891,1892,1893,1894,1895,1896,1897,1898,1899,1900,1901,1902,1903,1904,1905,1906,1907,1908,1909,1910,1911,1912,1913,1914,1915,1916,1917,1918,1919,1920,1921,1922,1923,1924,1925,1926,1927,1928,1929,1930,1931,1932,1933,1934,1935,1936,1937,1938,1939,1940,1941,1942,1943,1944,1945,1946,1947,1948,1949,1950,1951,1952,1953,1954,1955,1956,1957,1958,1959,1960,1961,1962,1963,1964,1965,1966,1967,1968,1969,1970,1971,1972,1973,1974,1975,1976,1977,1978,1979,1980,1981,1982,1983,1984,1985,1986,1987,1988,1989,1990,1991,1992,1993,1994,1995,1996,1997,1998,1999,2000,2001,2002,2003,2004,2005,2006,2007,2008,2009,2010,2011,2012,2013,2014,2015,2016,2017,2018,2019,2020,2021,2022,2023,2024,2025,2026,2027,2028,2029,2030,2031,2032,2033,2034,2035,2036,2037,2038,2039,2040,2041,2042,2043,2044,2045,2046,2047,2048,2049,2050,2051,2052,2053,2054,2055,2056,2057,2058,2059,2060,2061,2062,2063,2064,2065,2066,2067,2068,2069,2070,2071,2072,2073,2074,2075,2076,2077,2078,2079,2080,2081,2082,2083,2084,2085,2086,2087,2088,2089,2090,2091,2092,2093,2094,2095,2096,2097,2098,2099,2100,2101,2102,2103,2104,2105,2106,2107,2108,2109,2110,2111,2112,2113,2114,2115,2116,2117,2118,2119,2120,2121,2122,2123,2124,2125,2126,2127,2128,2129,2130,2131,2132,2133,2134,2135,2136,2137,2138,2139,2140,2141,2142,2143,2144,2145,2146,2147,2148,2149,2150,2151,2152,2153,2154,2155,2156,2157,2158,2159,2160,2161,2162,2163,2164,2165,2166,2167,2168,2169,2170,2171,2172,2173,2174,2175,2176,2177,2178,2179,2180,2181,2182,2183,2184,2185,2186,2187,2188,2189,2190,2191,2192,2193,2194,2195,2196,2197,2198,2199,2200,2201,2202,2203,2204,2205,2206,2207,2208,2209,2210,2211,2212,2213,2214,2215,2216,2217,2218,2219,2220,2221,2222,2223,2224,2225,2226,2227,2228,2229,2230,2231,2232,2233,2234,2235,2236,2237,2238,2239,2240,2241,2242,2243,2244,2245,2246,2247,2248,2249,2250,2251,2252,2253,2254,2255,2256,2257,2258,2259,2260,2261,2262,2263,2264,2265,2266,2267,2268,2269,2270,2271,2272,2273,2274,2275,2276,2277,2278,2279,2280,2281,2282,2283,2284,2285,2286,2287,2288,2289,2290,2291,2292,2293,2294,2295,2296,2297,2298,2299,2300,2301,2302,2303,2304,2305,2306,2307,2308,2309,2310,2311,2312,2313,2314,2315,2316,2317,2318,2319,2320,2321,2322,2323,2324,2325,2326,2327,2328,2329,2330,2331,2332,2333,2334,2335,2336,2337,2338,2339,2340,2341,2342,2343,2344,2345,2346,2347,2348,2349,2350,2351,2352,2353,2354,2355,2356,2357,2358,2359,2360,2361,2362,2363,2364,2365,2366,2367,2368,2369,2370,2371,2372,2373,2374,2375,2376,2377,2378,2379,2380,2381,2382,2383,2384,2385,2386,2387,2388,2389,2390,2391,2392,2393,2394,2395,2396,2397,2398,2399,2400,2401,2402,2403,2404,2405,2406,2407,2408,2409,2410,2411,2412,2413,2414,2415,2416,2417,2418,2419,2420,2421,2422,2423,2424,2425,2426,2427,2428,2429,2430,2431,2432,2433,2434,2435,2436,2437,2438,2439,2440,2441,2442,2443,2444,2445,2446,2447,2448,2449,2450,2451,2452,2453,2454,2455,2456,2457,2458,2459,2460,2461,2462,2463,2464,2465,2466,2467,2468,2469,2470,2471,2472,2473,2474,2475,2476,2477,2478,2479,2480,2481,2482,2483,2484,2485,2486,2487,2488,2489,2490,2491,2492,2493,2494,2495,2496,2497,2498,2499,2500,2501,2502,2503,2504,2505,2506,2507,2508,2509,2510,2511,2512,2513,2514,2515,2516,2517,2518,2519,2520,2521,2522,2523,2524,2525,2526,2527,2528,2529,2530,2531,2532,2533,2534,2535,2536,2537,2538,2539,2540,2541,2542,2543,2544,2545,2546,2547,2548,2549,2550,2551,2552,2553,2554,2555,2556,2557,2558,2559,2560,2561,2562,2563,2564,2565,2566,2567,2568,2569,2570,2571,2572,2573,2574,2575,2576,2577,2578,2579,2580,2581,2582,2583,2584,2585,2586,2587,2588,2589,2590,2591,2592,2593,2594,2595,2596,2597,2598,2599,2600,2601,2602,2603,2604,2605,2606,2607,2608,2609,2610,2611,2612,2613,2614,2615,2616,2617,2618,2619,2620,2621,2622,2623,2624,2625,2626,2627,2628,2629,2630,2631,2632,2633,2634,2635,2636,2637,2638,2639,2640,2641,2642,2643,2644,2645,2646,2647,2648,2649,2650,2651,2652,2653,2654,2655,2656,2657,2658,2659,2660,2661,2662,2663,2664,2665,2666,2667,2668,2669,2670,2671,2672,2673,2674,2675,2676,2677,2678,2679,2680,2681,2682,2683,2684,2685,2686,2687,2688,2689,2690,2691,2692,2693,2694,2695,2696,2697,2698,2699,2700,2701,2702,2703,2704,2705,2706,2707,2708,2709,2710,2711,2712,2713,2714,2715,2716,2717,2718,2719,2720,2721,2722,2723,2724,2725,2726,2727,2728,2729,2730,2731,2732,2733,2734,2735,2736,2737,2738,2739,2740,2741,2742,2743,2744,2745,2746,2747,2748,2749,2750,2751,2752,2753,2754,2755,2756,2757,2758,2759,2760,2761,2762,2763,2764,2765,2766,2767,2768,2769,2770,2771,2772,2773,2774,2775,2776,2777,2778,2779,2780,2781,2782,2783,2784,2785,2786,2787,2788,2789,2790,2791,2792,2793,2794,2795,2796,2797,2798,2799,2800,2801,2802,2803,2804,2805,2806,2807,2808,2809,2810,2811,2812,2813,2814,2815,2816,2817,2818,2819,2820,2821,2822,2823,2824,2825,2826,2827,2828,2829,2830,2831,2832,2833,2834,2835,2836,2837,2838,2839,2840,2841,2842,2843,2844,2845,2846,2847,2848,2849,2850,2851,2852,2853,2854,2855,2856,2857,2858,2859,2860,2861,2862,2863,2864,2865,2866,2867,2868,2869,2870,2871,2872,2873,2874,2875,2876,2877,2878,2879,2880,2881,2882,2883,2884,2885,2886,2887,2888,2889,2890,2891,2892,2893,2894,2895,2896,2897,2898,2899,2900,2901,2902,2903,2904,2905,2906,2907,2908,2909,2910,2911,2912,2913,2914,2915,2916,2917,2918,2919,2920,2921,2922,2923,2924,2925,2926,2927,2928,2929,2930,2931,2932,2933,2934,2935,2936,2937,2938,2939,2940,2941,2942,2943,2944,2945,2946,2947,2948,2949,2950,2951,2952,2953,2954,2955,2956,2957,2958,2959,2960,2961,2962,2963,2964,2965,2966,2967,2968,2969,2970,2971,2972,2973,2974,2975,2976,2977,2978,2979,2980,2981,2982,2983,2984,2985,2986,2987,2988,2989,2990,2991,2992,2993,2994,2995,2996,2997,2998,2999,3000,3001,3002,3003,3004,3005,3006,3007,3008,3009,3010,3011,3012,3013,3014,3015,3016,3017,3018,3019,3020,3021,3022,3023,3024,3025,3026,3027,3028,3029,3030,3031,3032,3033,3034,3035,3036,3037,3038,3039,3040,3041,3042,3043,3044,3045,3046,3047,3048,3049,3050,3051,3052,3053,3054,3055,3056,3057,3058,3059,3060,3061,3062,3063,3064,3065,3066,3067,3068,3069,3070,3071,3072,3073,3074,3075,3076,3077,3078,3079,3080,3081,3082,3083,3084,3085,3086,3087,3088,3089,3090,3091,3092,3093,3094,3095,3096,3097,3098,3099,3100,3101,3102,3103,3104,3105,3106,3107,3108,3109,3110,3111,3112,3113,3114,3115,3116,3117,3118,3119,3120,3121,3122,3123,3124,3125,3126,3127,3128,3129,3130,3131,3132,3133,3134,3135,3136,3137,3138,3139,3140,3141,3142,3143,3144,3145,3146,3147,3148,3149,3150,3151,3152,3153,3154,3155,3156,3157,3158,3159,3160,3161,3162,3163,3164,3165,3166,3167,3168,3169,3170,3171,3172,3173,3174,3175,3176,3177,3178,3179,3180,3181,3182,3183,3184,3185,3186,3187,3188,3189,3190,3191,3192,3193,3194,3195,3196,3197,3198,3199,3200,3201,3202,3203,3204,3205,3206,3207,3208,3209,3210,3211,3212,3213,3214,3215,3216,3217,3218,3219,3220,3221,3222,3223,3224,3225,3226,3227,3228,3229,3230,3231,3232,3233,3234,3235,3236,3237,3238,3239,3240,3241,3242,3243,3244,3245,3246,3247,3248,3249,3250,3251,3252,3253,3254,3255,3256,3257,3258,3259,3260,3261,3262,3263,3264,3265,3266,3267,3268,3269,3270,3271,3272,3273,3274,3275,3276,3277,3278,3279,3280,3281,3282,3283,3284,3285,3286,3287,3288,3289,3290,3291,3292,3293,3294,3295,3296,3297,3298,3299,3300,3301,3302,3303,3304,3305,3306,3307,3308,3309,3310,3311,3312,3313,3314,3315,3316,3317,3318,3319,3320,3321,3322,3323,3324,3325,3326,3327,3328,3329,3330,3331,3332,3333,3334,3335,3336,3337,3338,3339,3340,3341,3342,3343,3344,3345,3346,3347,3348,3349,3350,3351,3352,3353,3354,3355,3356,3357,3358,3359,3360,3361,3362,3363,3364,3365,3366,3367,3368,3369,3370,3371,3372,3373,3374,3375,3376,3377,3378,3379,3380,3381,3382,3383,3384,3385,3386,3387,3388,3389,3390,3391,3392,3393,3394,3395,3396,3397,3398,3399,3400,3401,3402,3403,3404,3405,3406,3407,3408,3409,3410,3411,3412,3413,3414,3415,3416,3417,3418,3419,3420,3421,3422,3423,3424,3425,3426,3427,3428,3429,3430,3431,3432,3433,3434,3435,3436,3437,3438,3439,3440,3441,3442,3443,3444,3445,3446,3447,3448,3449,3450,3451,3452,3453,3454,3455,3456,3457,3458,3459,3460,3461,3462,3463,3464,3465,3466,3467,3468,3469,3470,3471,3472,3473,3474,3475,3476,3477,3478,3479,3480,3481,3482,3483,3484,3485,3486,3487,3488,3489,3490,3491,3492,3493,3494,3495,3496,3497,3498,3499,3500,3501,3502,3503,3504,3505,3506,3507,3508,3509,3510,3511,3512,3513,3514,3515,3516,3517,3518,3519,3520,3521,3522,3523,3524,3525,3526,3527,3528,3529,3530,3531,3532,3533,3534,3535,3536,3537,3538,3539,3540,3541,3542,3543,3544,3545,3546,3547,3548,3549,3550,3551,3552,3553,3554,3555,3556,3557,3558,3559,3560,3561,3562,3563,3564,3565,3566,3567,3568,3569,3570,3571,3572,3573,3574,3575,3576,3577,3578,3579,3580,3581,3582,3583,3584,3585,3586,3587,3588,3589,3590,3591,3592,3593,3594,3595,3596,3597,3598,3599,3600,3601,3602,3603,3604,3605,3606,3607,3608,3609,3610,3611,3612,3613,3614,3615,3616,3617,3618,3619,3620,3621,3622,3623,3624,3625,3626,3627,3628,3629,3630,3631,3632,3633,3634,3635,3636,3637,3638,3639,3640,3641,3642,3643,3644,3645,3646,3647,3648,3649,3650,3651,3652,3653,3654,3655,3656,3657,3658,3659,3660,3661,3662,3663,3664,3665,3666,3667,3668,3669,3670,3671,3672,3673,3674,3675,3676,3677,3678,3679,3680,3681,3682,3683,3684,3685,3686,3687,3688,3689,3690,3691,3692,3693,3694,3695,3696,3697,3698,3699,3700,3701,3702,3703,3704,3705,3706,3707,3708,3709,3710,3711,3712,3713,3714,3715,3716,3717,3718,3719,3720,3721,3722,3723,3724,3725,3726,3727,3728,3729,3730,3731,3732,3733,3734,3735,3736,3737,3738,3739,3740,3741,3742,3743,3744,3745,3746,3747,3748,3749,3750,3751,3752,3753,3754,3755,3756,3757,3758,3759,3760,3761,3762,3763,3764,3765,3766,3767,3768,3769,3770,3771,3772,3773,3774,3775,3776,3777,3778,3779,3780,3781,3782,3783,3784,3785,3786,3787,3788,3789,3790,3791,3792,3793,3794,3795,3796,3797,3798,3799,3800,3801,3802,3803,3804,3805,3806,3807,3808,3809,3810,3811,3812,3813,3814,3815,3816,3817,3818,3819,3820,3821,3822,3823,3824,3825,3826,3827,3828,3829,3830,3831,3832,3833,3834,3835,3836,3837,3838,3839,3840,3841,3842,3843,3844,3845,3846,3847,3848,3849,3850,3851,3852,3853,3854,3855,3856,3857,3858,3859,3860,3861,3862,3863,3864,3865,3866,3867,3868,3869,3870,3871,3872,3873,3874,3875,3876,3877,3878,3879,3880,3881,3882,3883,3884,3885,3886,3887,3888,3889,3890,3891,3892,3893,3894,3895,3896,3897,3898,3899,3900,3901,3902,3903,3904,3905,3906,3907,3908,3909,3910,3911,3912,3913,3914,3915,3916,3917,3918,3919,3920,3921,3922,3923,3924,3925,3926,3927,3928,3929,3930,3931,3932,3933,3934,3935,3936,3937,3938,3939,3940,3941,3942,3943,3944,3945,3946,3947,3948,3949,3950,3951,3952,3953,3954,3955,3956,3957,3958,3959,3960,3961,3962,3963,3964,3965,3966,3967,3968,3969,3970,3971,3972,3973,3974,3975,3976,3977,3978,3979,3980,3981,3982,3983,3984,3985,3986,3987,3988,3989,3990,3991,3992,3993,3994,3995,3996,3997,3998,3999,4000,4001,4002,4003,4004,4005,4006,4007,4008,4009,4010,4011,4012,4013,4014,4015,4016,4017,4018,4019,4020,4021,4022,4023,4024,4025,4026,4027,4028,4029,4030,4031,4032,4033,4034,4035,4036,4037,4038,4039,4040,4041,4042,4043,4044,4045,4046,4047,4048,4049,4050,4051,4052,4053,4054,4055,4056,4057,4058,4059,4060,4061,4062,4063,4064,4065,4066,4067,4068,4069,4070,4071,4072,4073,4074,4075,4076,4077,4078,4079,4080,4081,4082,4083,4084,4085,4086,4087,4088,4089,4090,4091,4092,4093,4094,4095,4096,4097,4098,4099,4100,4101,4102,4103,4104,4105,4106,4107,4108,4109,4110,4111,4112,4113,4114,4115,4116,4117,4118,4119,4120,4121,4122,4123,4124,4125,4126,4127,4128,4129,4130,4131,4132,4133,4134,4135,4136,4137,4138,4139,4140,4141,4142,4143,4144,4145,4146,4147,4148,4149,4150,4151,4152,4153,4154,4155,4156,4157,4158,4159,4160,4161,4162,4163,4164,4165,4166,4167,4168,4169,4170,4171,4172,4173,4174,4175,4176,4177,4178,4179,4180,4181,4182,4183,4184,4185,4186,4187,4188,4189,4190,4191,4192,4193,4194,4195,4196,4197,4198,4199,4200,4201,4202,4203,4204,4205,4206,4207,4208,4209,4210,4211,4212,4213,4214,4215,4216,4217,4218,4219,4220,4221,4222,4223,4224,4225,4226,4227,4228,4229,4230,4231,4232,4233,4234,4235,4236,4237,4238,4239,4240,4241,4242,4243,4244,4245,4246,4247,4248,4249,4250,4251,4252,4253,4254,4255,4256,4257,4258,4259,4260,4261,4262,4263,4264,4265,4266,4267,4268,4269,4270,4271,4272,4273,4274,4275,4276,4277,4278,4279,4280,4281,4282,4283,4284,4285,4286,4287,4288,4289,4290,4291,4292,4293,4294,4295,4296,4297,4298,4299,4300,4301,4302,4303,4304,4305,4306,4307,4308,4309,4310,4311,4312,4313,4314,4315,4316,4317,4318,4319,4320,4321,4322,4323,4324,4325,4326,4327,4328,4329,4330,4331,4332,4333,4334,4335,4336,4337,4338,4339,4340,4341,4342,4343,4344,4345,4346,4347,4348,4349,4350,4351,4352,4353,4354,4355,4356,4357,4358,4359,4360,4361,4362,4363,4364,4365,4366,4367,4368,4369,4370,4371,4372,4373,4374,4375,4376,4377,4378,4379,4380,4381,4382,4383,4384,4385,4386,4387,4388,4389,4390,4391,4392,4393,4394,4395,4396,4397,4398,4399,4400,4401,4402,4403,4404,4405,4406,4407,4408,4409,4410,4411,4412,4413,4414,4415,4416,4417,4418,4419,4420,4421,4422,4423,4424,4425,4426,4427,4428,4429,4430,4431,4432,4433,4434,4435,4436,4437,4438,4439,4440,4441,4442,4443,4444,4445,4446,4447,4448,4449,4450,4451,4452,4453,4454,4455,4456,4457,4458,4459,4460,4461,4462,4463,4464,4465,4466,4467,4468,4469,4470,4471,4472,4473,4474,4475,4476,4477,4478,4479,4480,4481,4482,4483,4484,4485,4486,4487,4488,4489,4490,4491,4492,4493,4494,4495,4496,4497,4498,4499,4500,4501,4502,4503,4504,4505,4506,4507,4508,4509,4510,4511,4512,4513,4514,4515,4516,4517,4518,4519,4520,4521,4522,4523,4524,4525,4526,4527,4528,4529,4530,4531,4532,4533,4534,4535,4536,4537,4538,4539,4540,4541,4542,4543,4544,4545,4546,4547,4548,4549,4550,4551,4552,4553,4554,4555,4556,4557,4558,4559,4560,4561,4562,4563,4564,4565,4566,4567,4568,4569,4570,4571,4572,4573,4574,4575,4576,4577,4578,4579,4580,4581,4582,4583,4584,4585,4586,4587,4588,4589,4590,4591,4592,4593,4594,4595,4596,4597,4598,4599,4600,4601,4602,4603,4604,4605,4606,4607,4608,4609,4610,4611,4612,4613,4614,4615,4616,4617,4618,4619,4620,4621,4622,4623,4624,4625,4626,4627,4628,4629,4630,4631,4632,4633,4634,4635,4636,4637,4638,4639,4640,4641,4642,4643,4644,4645,4646,4647,4648,4649,4650,4651,4652,4653,4654,4655,4656,4657,4658,4659,4660,4661,4662,4663,4664,4665,4666,4667,4668,4669,4670,4671,4672,4673,4674,4675,4676,4677,4678,4679,4680,4681,4682,4683,4684,4685,4686,4687,4688,4689,4690,4691,4692,4693,4694,4695,4696,4697,4698,4699,4700,4701,4702,4703,4704,4705,4706,4707,4708,4709,4710,4711,4712,4713,4714,4715,4716,4717,4718,4719,4720,4721,4722,4723,4724,4725,4726,4727,4728,4729,4730,4731,4732,4733,4734,4735,4736,4737,4738,4739,4740,4741,4742,4743,4744,4745,4746,4747,4748,4749,4750,4751,4752,4753,4754,4755,4756,4757,4758,4759,4760,4761,4762,4763,4764,4765,4766,4767,4768,4769,4770,4771,4772,4773,4774,4775,4776,4777,4778,4779,4780,4781,4782,4783,4784,4785,4786,4787,4788,4789,4790,4791,4792,4793,4794,4795,4796,4797,4798,4799,4800,4801,4802,4803,4804,4805,4806,4807,4808,4809,4810,4811,4812,4813,4814,4815,4816,4817,4818,4819,4820,4821,4822,4823,4824,4825,4826,4827,4828,4829,4830,4831,4832,4833,4834,4835,4836,4837,4838,4839,4840,4841,4842,4843,4844,4845,4846,4847,4848,4849,4850,4851,4852,4853,4854,4855,4856,4857,4858,4859,4860,4861,4862,4863,4864,4865,4866,4867,4868,4869,4870,4871,4872,4873,4874,4875,4876,4877,4878,4879,4880,4881,4882,4883,4884,4885,4886,4887,4888,4889,4890,4891,4892,4893,4894,4895,4896,4897,4898,4899,4900,4901,4902,4903,4904,4905,4906,4907,4908,4909,4910,4911,4912,4913,4914,4915,4916,4917,4918,4919,4920,4921,4922,4923,4924,4925,4926,4927,4928,4929,4930,4931,4932,4933,4934,4935,4936,4937,4938,4939,4940,4941,4942,4943,4944,4945,4946,4947,4948,4949,4950,4951,4952,4953,4954,4955,4956,4957,4958,4959,4960,4961,4962,4963,4964,4965,4966,4967,4968,4969,4970,4971,4972,4973,4974,4975,4976,4977,4978,4979,4980,4981,4982,4983,4984,4985,4986,4987,4988,4989,4990,4991,4992,4993,4994,4995,4996,4997,4998,4999],\"words\":[\"film\",\"adapt\",\"comic\",\"book\",\"plenty\",\"success\",\"whether\",\"superheroes\",\"batman\",\"superman\",\"spawn\",\"gear\",\"toward\",\"kid\",\"casper\",\"arthouse\",\"crowd\",\"ghost\",\"world\",\"never\",\"really\",\"like\",\"hell\",\"starter\",\"create\",\"alan\",\"moore\",\"eddie\",\"campbell\",\"bring\",\"medium\",\"whole\",\"new\",\"level\",\"mid\",\"part\",\"series\",\"call\",\"watchman\",\"say\",\"thoroughly\",\"research\",\"subject\",\"jack\",\"ripper\",\"would\",\"michael\",\"jackson\",\"start\",\"look\",\"little\",\"odd\",\"graphic\",\"novel\",\"page\",\"long\",\"include\",\"nearly\",\"consist\",\"nothing\",\"footnote\",\"word\",\"dismiss\",\"source\",\"get\",\"past\",\"thing\",\"might\",\"find\",\"another\",\"stumble\",\"block\",\"director\",\"albert\",\"allen\",\"hughes\",\"brother\",\"direct\",\"seem\",\"almost\",\"ludicrous\",\"cast\",\"carrot\",\"top\",\"well\",\"anything\",\"riddle\",\"set\",\"ghetto\",\"feature\",\"violent\",\"street\",\"crime\",\"mad\",\"genius\",\"behind\",\"menace\",\"ii\",\"society\",\"question\",\"course\",\"whitechapel\",\"london\",\"east\",\"end\",\"filthy\",\"sooty\",\"place\",\"whore\",\"unfortunate\",\"nervous\",\"mysterious\",\"psychopath\",\"carve\",\"profession\",\"surgical\",\"precision\",\"first\",\"stiff\",\"turn\",\"copper\",\"peter\",\"godley\",\"robbie\",\"coltrane\",\"enough\",\"inspector\",\"frederick\",\"abberline\",\"johnny\",\"depp\",\"blow\",\"crack\",\"case\",\"widower\",\"prophetic\",\"dream\",\"unsuccessfully\",\"try\",\"quell\",\"copious\",\"amount\",\"absinthe\",\"opium\",\"upon\",\"arrive\",\"befriends\",\"name\",\"mary\",\"kelly\",\"heather\",\"graham\",\"proceeds\",\"investigate\",\"horribly\",\"gruesome\",\"even\",\"police\",\"surgeon\",\"stomach\",\"think\",\"anyone\",\"need\",\"briefed\",\"go\",\"particular\",\"unique\",\"interesting\",\"theory\",\"identity\",\"killer\",\"reason\",\"choose\",\"slay\",\"bother\",\"cloak\",\"screenwriter\",\"terry\",\"hayes\",\"vertical\",\"limit\",\"rafael\",\"yglesias\",\"les\",\"mis\",\"rables\",\"good\",\"job\",\"keep\",\"hidden\",\"viewer\",\"funny\",\"watch\",\"local\",\"blindly\",\"point\",\"finger\",\"blame\",\"jew\",\"indian\",\"englishman\",\"could\",\"capable\",\"commit\",\"ghastly\",\"act\",\"whistle\",\"stonecutter\",\"song\",\"simpson\",\"day\",\"hold\",\"back\",\"electric\",\"car\",\"make\",\"steve\",\"guttenberg\",\"star\",\"worry\",\"sense\",\"see\",\"onto\",\"appearance\",\"certainly\",\"dark\",\"bleak\",\"surprising\",\"much\",\"tim\",\"burton\",\"planet\",\"ape\",\"times\",\"sleepy\",\"hollow\",\"print\",\"saw\",\"completely\",\"finish\",\"color\",\"music\",\"finalize\",\"comment\",\"marilyn\",\"manson\",\"cinematographer\",\"deming\",\"ably\",\"capture\",\"dreariness\",\"victorian\",\"era\",\"help\",\"flashy\",\"kill\",\"scene\",\"remind\",\"crazy\",\"flashback\",\"twin\",\"peak\",\"though\",\"violence\",\"pale\",\"comparison\",\"black\",\"white\",\"oscar\",\"winner\",\"martin\",\"child\",\"shakespeare\",\"love\",\"production\",\"design\",\"original\",\"prague\",\"surroundings\",\"one\",\"creepy\",\"solid\",\"dreamy\",\"typically\",\"strong\",\"performance\",\"deftly\",\"handle\",\"british\",\"accent\",\"ians\",\"holm\",\"joe\",\"gould\",\"secret\",\"richardson\",\"dalmatian\",\"log\",\"great\",\"support\",\"role\",\"big\",\"surprise\",\"cringe\",\"time\",\"open\",\"mouth\",\"imagine\",\"attempt\",\"irish\",\"actually\",\"half\",\"bad\",\"however\",\"r\",\"gore\",\"sexuality\",\"language\",\"drug\",\"content\",\"every\",\"movie\",\"come\",\"along\",\"suspect\",\"studio\",\"indication\",\"stinker\",\"everybody\",\"perhaps\",\"become\",\"critical\",\"darling\",\"mtv\",\"election\",\"high\",\"school\",\"comedy\",\"matthew\",\"broderick\",\"reese\",\"witherspoon\",\"current\",\"example\",\"anybody\",\"know\",\"exist\",\"week\",\"plot\",\"deceptively\",\"simple\",\"george\",\"washington\",\"carver\",\"student\",\"tracy\",\"flick\",\"achiever\",\"hand\",\"raise\",\"way\",\"mr\",\"sick\",\"megalomaniac\",\"encourage\",\"paul\",\"popular\",\"slow\",\"jock\",\"run\",\"nihilistic\",\"sister\",\"jump\",\"race\",\"personal\",\"side\",\"sleeper\",\"expectation\",\"low\",\"fact\",\"quality\",\"stuff\",\"review\",\"enthusiastic\",\"right\",\"baggage\",\"glow\",\"contrast\",\"negative\",\"reviewer\",\"likely\",\"live\",\"hype\",\"disappointing\",\"contain\",\"significant\",\"detail\",\"lift\",\"directly\",\"rushmore\",\"release\",\"month\",\"earlier\",\"similarity\",\"stagger\",\"president\",\"extraordinary\",\"number\",\"club\",\"involve\",\"play\",\"max\",\"fischer\",\"tension\",\"potential\",\"relationship\",\"teacher\",\"single\",\"parent\",\"home\",\"contribute\",\"drive\",\"male\",\"bumble\",\"adult\",\"pursues\",\"extramarital\",\"affair\",\"catch\",\"life\",\"ruin\",\"bee\",\"sting\",\"bill\",\"murray\",\"several\",\"happen\",\"individual\",\"screenplay\",\"many\",\"yet\",\"probably\",\"aware\",\"two\",\"different\",\"genre\",\"geek\",\"revenge\",\"fully\",\"form\",\"strengths\",\"rely\",\"fantastic\",\"newcomer\",\"jessica\",\"anti\",\"social\",\"tammy\",\"rooney\",\"ferris\",\"bueller\",\"fun\",\"since\",\"revelation\",\"early\",\"year\",\"teenager\",\"clout\",\"money\",\"deserve\",\"nomination\",\"character\",\"speech\",\"gymnasium\",\"bothering\",\"suppose\",\"expect\",\"less\",\"light\",\"airy\",\"sitcom\",\"screw\",\"tighten\",\"mount\",\"alexander\",\"payne\",\"decide\",\"add\",\"element\",\"frankly\",\"distract\",\"story\",\"determination\",\"win\",\"cost\",\"throw\",\"logical\",\"lot\",\"tonal\",\"nosedive\",\"take\",\"explicitly\",\"sex\",\"driven\",\"mark\",\"disappointment\",\"mail\",\"work\",\"alot\",\"deserves\",\"order\",\"extremely\",\"attractive\",\"share\",\"screen\",\"hour\",\"collect\",\"profit\",\"real\",\"inventive\",\"bone\",\"body\",\"basically\",\"complete\",\"shoot\",\"shop\",\"around\",\"corner\",\"modern\",\"twist\",\"essentially\",\"defies\",\"concept\",\"contemporary\",\"filmmaking\",\"overly\",\"sentimental\",\"terribly\",\"mushy\",\"mention\",\"manipulative\",\"oh\",\"enjoyable\",\"manipulation\",\"must\",\"something\",\"absolutely\",\"hat\",\"previous\",\"ryan\",\"hank\",\"team\",\"sleepless\",\"seattle\",\"helm\",\"woman\",\"quite\",\"figure\",\"important\",\"storyline\",\"cliched\",\"tom\",\"fox\",\"insanely\",\"likeable\",\"owner\",\"discount\",\"chain\",\"meg\",\"kathleen\",\"kelley\",\"proprietor\",\"family\",\"nice\",\"homage\",\"soon\",\"bitter\",\"rival\",\"store\",\"across\",\"small\",\"business\",\"already\",\"internet\",\"neither\",\"party\",\"person\",\"true\",\"rest\",\"serve\",\"mere\",\"backdrop\",\"sure\",\"mildly\",\"subplots\",\"fail\",\"utter\",\"cuteness\",\"main\",\"lead\",\"predictable\",\"climax\",\"foreseeable\",\"damn\",\"cute\",\"do\",\"doubt\",\"entire\",\"evokes\",\"pure\",\"joy\",\"discovers\",\"online\",\"fill\",\"lack\",\"happiness\",\"leave\",\"theater\",\"smile\",\"jaw\",\"rare\",\"grab\",\"attention\",\"show\",\"image\",\"blackness\",\"distant\",\"alien\",\"underwater\",\"sound\",\"ominous\",\"bar\",\"composer\",\"john\",\"williams\",\"infamous\",\"score\",\"dah\",\"dum\",\"steven\",\"spielberg\",\"waste\",\"u\",\"water\",\"midnight\",\"swim\",\"beautiful\",\"girl\",\"deadly\",\"away\",\"let\",\"vulnerable\",\"float\",\"ocean\",\"attack\",\"relinquishes\",\"grip\",\"outstanding\",\"build\",\"theatrical\",\"second\",\"unlike\",\"filmmaker\",\"deal\",\"restraint\",\"refuse\",\"shark\",\"middle\",\"merely\",\"suggest\",\"presence\",\"subjective\",\"shot\",\"building\",\"bit\",\"arrival\",\"truly\",\"terrify\",\"bore\",\"imagery\",\"opens\",\"chief\",\"brody\",\"roy\",\"scheider\",\"york\",\"cop\",\"easy\",\"peaceful\",\"station\",\"amity\",\"island\",\"fictitious\",\"england\",\"resort\",\"town\",\"murder\",\"gun\",\"fire\",\"shake\",\"vicious\",\"fourth\",\"july\",\"mayor\",\"larry\",\"vaughn\",\"hamilton\",\"want\",\"shut\",\"beach\",\"reliant\",\"summer\",\"tourist\",\"join\",\"matt\",\"hooper\",\"richard\",\"dreyfus\",\"young\",\"ambitious\",\"expert\",\"marine\",\"institute\",\"fascinate\",\"determine\",\"stop\",\"knowledge\",\"exact\",\"working\",\"perfect\",\"engine\",\"eating\",\"machine\",\"terrifying\",\"finally\",\"relent\",\"crusty\",\"old\",\"quint\",\"robert\",\"shaw\",\"decrepit\",\"boat\",\"orca\",\"search\",\"three\",\"men\",\"hunt\",\"inevitably\",\"jaws\",\"thriller\",\"keen\",\"humor\",\"incredible\",\"pace\",\"horror\",\"ten\",\"roll\",\"wonder\",\"america\",\"storm\",\"crown\",\"box\",\"office\",\"champ\",\"unceremoniously\",\"dethrone\",\"war\",\"today\",\"fascination\",\"par\",\"hitchcock\",\"psycho\",\"age\",\"although\",\"grand\",\"technology\",\"technical\",\"sequence\",\"mechanical\",\"obsolete\",\"none\",\"improve\",\"overkill\",\"limitation\",\"face\",\"may\",\"produce\",\"force\",\"traditional\",\"cinematic\",\"characterization\",\"sharp\",\"edit\",\"creative\",\"photography\",\"instead\",\"simply\",\"douse\",\"audience\",\"digital\",\"effect\",\"dreyfuss\",\"actor\",\"draw\",\"redford\",\"newman\",\"nevertheless\",\"guarantee\",\"successful\",\"career\",\"give\",\"overshadow\",\"hit\",\"note\",\"sympathetic\",\"husband\",\"father\",\"political\",\"quagmire\",\"warn\",\"previously\",\"american\",\"graffiti\",\"apprenticeship\",\"duddy\",\"kravitz\",\"surprisingly\",\"mature\",\"complex\",\"someone\",\"literally\",\"gnarled\",\"captain\",\"ahab\",\"sorely\",\"overlook\",\"academy\",\"award\",\"border\",\"parody\",\"grizzle\",\"loner\",\"whose\",\"machismo\",\"masochism\",\"slightly\",\"derange\",\"caricature\",\"late\",\"deck\",\"compare\",\"scar\",\"drawn\",\"tell\",\"experience\",\"aboard\",\"indianapolis\",\"navy\",\"ship\",\"sunk\",\"japanese\",\"tale\",\"swarm\",\"slowly\",\"devour\",\"hair\",\"put\",\"delivers\",\"best\",\"eye\",\"endless\",\"row\",\"teeth\",\"insatiable\",\"urge\",\"eat\",\"epitome\",\"mankind\",\"fear\",\"unknown\",\"threatening\",\"nature\",\"nemesis\",\"survive\",\"sinch\",\"dinosaur\",\"large\",\"threat\",\"feel\",\"queasy\",\"bunch\",\"writihing\",\"dangle\",\"unprotected\",\"leg\",\"ready\",\"chomp\",\"combination\",\"actual\",\"footage\",\"five\",\"nickname\",\"bruce\",\"crew\",\"angle\",\"forget\",\"sort\",\"precursor\",\"waterworld\",\"soggy\",\"overrun\",\"universal\",\"bomb\",\"overcame\",\"obstacle\",\"deliver\",\"fine\",\"primal\",\"scare\",\"ever\",\"hollywood\",\"moviemaking\",\"general\",\"manager\",\"nfl\",\"post\",\"salary\",\"cap\",\"allocate\",\"resource\",\"dollar\",\"spend\",\"free\",\"agent\",\"defensive\",\"tackle\",\"linebacker\",\"safeties\",\"center\",\"detroit\",\"lion\",\"boast\",\"superstar\",\"huge\",\"contract\",\"field\",\"guy\",\"herb\",\"special\",\"budget\",\"hire\",\"recognizable\",\"jackie\",\"chan\",\"barry\",\"sander\",\"spin\",\"dart\",\"cut\",\"line\",\"operation\",\"condor\",\"motorcycle\",\"madrid\",\"flee\",\"armada\",\"pursuer\",\"identical\",\"compact\",\"reminiscent\",\"daylight\",\"chicago\",\"bear\",\"hot\",\"pursuit\",\"except\",\"rescue\",\"runaway\",\"baby\",\"carriage\",\"cent\",\"invest\",\"stunt\",\"pay\",\"hospital\",\"directs\",\"script\",\"dub\",\"hideous\",\"title\",\"also\",\"explain\",\"morocco\",\"spain\",\"country\",\"rumble\",\"bronx\",\"supposedly\",\"vancouver\",\"chase\",\"canadian\",\"rockies\",\"clearly\",\"visible\",\"heck\",\"haircut\",\"hairstylist\",\"always\",\"mixture\",\"lee\",\"master\",\"kung\",\"fu\",\"slapstick\",\"send\",\"un\",\"retrieve\",\"cache\",\"lose\",\"nazi\",\"gold\",\"north\",\"african\",\"desert\",\"horde\",\"neo\",\"sympathizer\",\"stereotypical\",\"arab\",\"correctness\",\"scream\",\"save\",\"misuse\",\"firearm\",\"villain\",\"break\",\"base\",\"carry\",\"everywhere\",\"pathetic\",\"evil\",\"en\",\"route\",\"extend\",\"hilarious\",\"fight\",\"moroccan\",\"version\",\"motel\",\"nazis\",\"confrontation\",\"savage\",\"native\",\"chop\",\"socky\",\"follow\",\"centerpiece\",\"wind\",\"tunnel\",\"choreograph\",\"giant\",\"kevlar\",\"hamster\",\"ball\",\"smash\",\"crate\",\"bananas\",\"scorpion\",\"ignore\",\"gap\",\"hole\",\"exactly\",\"escape\",\"key\",\"value\",\"hitchhike\",\"sahara\",\"pretentions\",\"raider\",\"ark\",\"knockoff\",\"raiders\",\"franchise\",\"lawrence\",\"kazdan\",\"lucas\",\"got\",\"talent\",\"mainstream\",\"ought\",\"utilize\",\"june\",\"self\",\"teach\",\"idealistic\",\"pragmatic\",\"man\",\"head\",\"government\",\"newly\",\"independent\",\"state\",\"formerly\",\"belgian\",\"congo\",\"later\",\"oust\",\"powerful\",\"position\",\"troop\",\"brutally\",\"aide\",\"known\",\"meteoric\",\"rise\",\"fall\",\"international\",\"raoul\",\"peck\",\"lumumba\",\"patrice\",\"eriq\",\"ebouaney\",\"helmer\",\"documentary\",\"death\",\"prophet\",\"virtually\",\"fictional\",\"account\",\"patriot\",\"remain\",\"co\",\"writer\",\"pascal\",\"bonitzer\",\"begin\",\"leader\",\"perform\",\"task\",\"dismember\",\"hatchet\",\"fast\",\"empty\",\"whiskey\",\"bottle\",\"accompany\",\"grisly\",\"meeting\",\"among\",\"own\",\"third\",\"class\",\"postal\",\"worker\",\"speak\",\"mind\",\"tribes\",\"proclaim\",\"tribal\",\"regional\",\"national\",\"mobile\",\"congolese\",\"movement\",\"mnc\",\"gain\",\"prominence\",\"clerical\",\"sell\",\"beer\",\"bustling\",\"capital\",\"stanleyville\",\"colonial\",\"empire\",\"savvy\",\"chess\",\"achieves\",\"leadership\",\"date\",\"independence\",\"approach\",\"tactically\",\"nation\",\"prime\",\"minister\",\"defense\",\"presidency\",\"joseph\",\"kasa\",\"vubu\",\"maka\",\"kotto\",\"coalition\",\"apart\",\"former\",\"continue\",\"exert\",\"influence\",\"struggle\",\"strive\",\"maintain\",\"economic\",\"vast\",\"natural\",\"diamond\",\"seek\",\"de\",\"facto\",\"control\",\"fledgling\",\"initial\",\"investigation\",\"soviet\",\"assistance\",\"immediately\",\"tags\",\"communist\",\"integrity\",\"cold\",\"russian\",\"domination\",\"situation\",\"army\",\"mutiny\",\"evacuate\",\"arm\",\"violently\",\"intervene\",\"lucrative\",\"katanga\",\"province\",\"succeed\",\"moise\",\"tschombe\",\"nzonzi\",\"access\",\"return\",\"conference\",\"abroad\",\"tumultuous\",\"period\",\"history\",\"sometimes\",\"odious\",\"colonialist\",\"rule\",\"european\",\"seat\",\"power\",\"century\",\"focus\",\"familiar\",\"material\",\"strives\",\"honest\",\"portrayal\",\"friend\",\"foes\",\"africa\",\"nigeria\",\"somalia\",\"born\",\"vary\",\"degree\",\"failure\",\"usually\",\"dependent\",\"colonize\",\"better\",\"others\",\"effort\",\"camera\",\"slice\",\"unexplored\",\"decade\",\"rate\",\"standard\",\"realistic\",\"setting\",\"nicely\",\"travel\",\"zimbabwe\",\"mozambique\",\"cover\",\"ground\",\"yeoman\",\"provide\",\"detailed\",\"justice\",\"evenly\",\"linear\",\"straightforward\",\"manner\",\"preaches\",\"concentrate\",\"deed\",\"bite\",\"stalwart\",\"saint\",\"embellish\",\"persona\",\"perfunctory\",\"brief\",\"interlude\",\"talk\",\"embrace\",\"wife\",\"lament\",\"intent\",\"flesh\",\"short\",\"shrift\",\"lopsided\",\"convince\",\"charismatic\",\"multifaceted\",\"politically\",\"deft\",\"people\",\"ambition\",\"docudrama\",\"tradition\",\"outshine\",\"complement\",\"educational\",\"appeal\",\"buff\",\"politicos\",\"intelligence\",\"b\",\"apparently\",\"tony\",\"kaye\",\"major\",\"battle\",\"regard\",\"x\",\"happy\",\"final\",\"product\",\"remove\",\"credit\",\"altogether\",\"hear\",\"kind\",\"input\",\"found\",\"touchy\",\"racism\",\"edward\",\"norton\",\"hard\",\"believe\",\"performer\",\"derek\",\"vinyard\",\"skinhead\",\"venice\",\"danny\",\"furlong\",\"mother\",\"beverly\",\"angelo\",\"davin\",\"jennifer\",\"lien\",\"vandalize\",\"land\",\"prison\",\"present\",\"eager\",\"footstep\",\"path\",\"adoption\",\"supremacy\",\"full\",\"understand\",\"interest\",\"stupid\",\"thoughtless\",\"intelligent\",\"articulate\",\"voice\",\"belief\",\"disturbingly\",\"term\",\"controversial\",\"preach\",\"redemption\",\"phase\",\"partially\",\"disagree\",\"advocate\",\"loud\",\"obnoxious\",\"smart\",\"believable\",\"arbitrarily\",\"group\",\"clear\",\"passionate\",\"punk\",\"excuse\",\"beat\",\"talented\",\"astonish\",\"frighten\",\"shave\",\"swastika\",\"chest\",\"addition\",\"require\",\"depth\",\"shout\",\"ease\",\"mean\",\"likable\",\"gutsy\",\"subplot\",\"principal\",\"avery\",\"brook\",\"becomes\",\"obsess\",\"purge\",\"hatred\",\"terrific\",\"standouts\",\"visually\",\"indulges\",\"artistic\",\"choice\",\"lots\",\"motion\",\"strange\",\"moody\",\"atmosphere\",\"lately\",\"skim\",\"greatness\",\"last\",\"minute\",\"climactic\",\"move\",\"picture\",\"pretentious\",\"preachy\",\"resolution\",\"narration\",\"subtle\",\"felt\",\"slap\",\"feed\",\"theme\",\"simplistic\",\"dislike\",\"problem\",\"least\",\"pleased\",\"timid\",\"weak\",\"manages\",\"compelling\",\"argument\",\"without\",\"colleague\",\"told\",\"willing\",\"betsy\",\"wed\",\"shock\",\"reaction\",\"understandable\",\"consider\",\"revolve\",\"molly\",\"ringwald\",\"worthwhile\",\"alda\",\"dud\",\"four\",\"noteworthy\",\"project\",\"misdemeanor\",\"write\",\"vibrant\",\"mix\",\"dramatic\",\"moment\",\"bowl\",\"whimsical\",\"elixir\",\"smooth\",\"refreshing\",\"welcome\",\"change\",\"usual\",\"fare\",\"bride\",\"groom\",\"dylan\",\"walsh\",\"pivotal\",\"far\",\"nonentity\",\"door\",\"knob\",\"unbearable\",\"easily\",\"link\",\"crop\",\"orange\",\"red\",\"lip\",\"stick\",\"grotesque\",\"outfit\",\"dress\",\"designer\",\"clown\",\"matter\",\"match\",\"thankfully\",\"minimum\",\"interested\",\"colorful\",\"periphery\",\"device\",\"together\",\"italian\",\"rich\",\"gentile\",\"folk\",\"homey\",\"earth\",\"spirit\",\"madeline\",\"kahn\",\"practical\",\"ally\",\"sheedy\",\"lonely\",\"clan\",\"prim\",\"proper\",\"ostentatious\",\"meet\",\"mingle\",\"culture\",\"clash\",\"versus\",\"wonderfully\",\"understated\",\"pleasant\",\"express\",\"anthony\",\"lapaglia\",\"seizes\",\"spotlight\",\"stevie\",\"dee\",\"suave\",\"polite\",\"mafioso\",\"formally\",\"court\",\"fashion\",\"chivalry\",\"sincere\",\"dim\",\"witted\",\"riot\",\"uncanny\",\"dead\",\"ringer\",\"niro\",\"alec\",\"baldwin\",\"measure\",\"attend\",\"gangster\",\"inspired\",\"partly\",\"tribute\",\"model\",\"rip\",\"miss\",\"scrumptious\",\"beyond\",\"pesci\",\"sink\",\"unscrupulous\",\"law\",\"slum\",\"lord\",\"mob\",\"tie\",\"cheat\",\"catherine\",\"hara\",\"challenge\",\"somehow\",\"touch\",\"financially\",\"strap\",\"carpenter\",\"wallet\",\"adopts\",\"psychological\",\"view\",\"plan\",\"style\",\"remarkably\",\"restrain\",\"tasteful\",\"woody\",\"possess\",\"inspiration\",\"entertain\",\"slop\",\"pass\",\"bloody\",\"pander\",\"condescend\",\"paternalistic\",\"officer\",\"particularly\",\"janssens\",\"rudi\",\"delhem\",\"publique\",\"cause\",\"rebellion\",\"undermine\",\"outrage\",\"rape\",\"unrest\",\"tshombe\",\"percent\",\"secession\",\"replace\",\"mobutu\",\"colonel\",\"pacification\",\"tour\",\"drown\",\"dog\",\"rabies\",\"prophesies\",\"fate\",\"exemplary\",\"complicate\",\"myriad\",\"player\",\"frequently\",\"succumb\",\"cliche\",\"private\",\"illuminate\",\"bantu\",\"saying\",\"us\",\"ambassador\",\"direction\",\"le\",\"assure\",\"unfortunately\",\"television\",\"dynamic\",\"radiating\",\"fierce\",\"passion\",\"ability\",\"strategize\",\"insurmountable\",\"odds\",\"elevate\",\"mediocre\",\"tragedy\",\"personally\",\"action\",\"sea\",\"asian\",\"wire\",\"copycat\",\"pretty\",\"schwartznager\",\"stallone\",\"van\",\"damme\",\"wear\",\"cement\",\"galosh\",\"bottom\",\"result\",\"spectacle\",\"amaze\",\"excite\",\"matrix\",\"gem\",\"often\",\"wrong\",\"chinese\",\"fly\",\"ninjas\",\"karate\",\"soar\",\"detective\",\"kick\",\"scientist\",\"mostly\",\"laughable\",\"rush\",\"emulate\",\"trademark\",\"choreography\",\"joke\",\"art\",\"iron\",\"monkey\",\"import\",\"reissue\",\"th\",\"vigilante\",\"rongguang\",\"yu\",\"shaolin\",\"oppress\",\"belly\",\"hungry\",\"piece\",\"narrative\",\"legendary\",\"hero\",\"wong\",\"fei\",\"hong\",\"recently\",\"possibly\",\"drunken\",\"legend\",\"sze\",\"tsang\",\"kei\",\"ying\",\"yen\",\"chi\",\"dan\",\"thrust\",\"oppression\",\"especially\",\"devolve\",\"ridiculous\",\"twinkle\",\"toed\",\"crouch\",\"tiger\",\"dragon\",\"yuen\",\"wo\",\"ping\",\"eventually\",\"remembers\",\"heart\",\"hardcore\",\"rather\",\"drama\",\"la\",\"profoundness\",\"outlaw\",\"hearted\",\"misguided\",\"enemy\",\"transcend\",\"mindless\",\"equal\",\"masterpiece\",\"dance\",\"invade\",\"tune\",\"aka\",\"siunin\",\"hung\",\"tsi\",\"titmalau\",\"rat\",\"notice\",\"cheek\",\"sore\",\"realize\",\"laugh\",\"aloud\",\"grin\",\"saturday\",\"night\",\"sneak\",\"preview\",\"enjoy\",\"goofy\",\"delight\",\"dandy\",\"energetic\",\"inspire\",\"sight\",\"gag\",\"flat\",\"silliness\",\"zippy\",\"retro\",\"torn\",\"straight\",\"animate\",\"photo\",\"attached\",\"herky\",\"jerky\",\"bound\",\"setup\",\"donald\",\"sinclair\",\"cleese\",\"venetian\",\"hotel\",\"casino\",\"las\",\"vega\",\"concoct\",\"unusual\",\"bet\",\"client\",\"dozen\",\"token\",\"slot\",\"gather\",\"lucky\",\"holder\",\"chance\",\"game\",\"six\",\"competition\",\"contestant\",\"locker\",\"silver\",\"city\",\"n\",\"million\",\"cash\",\"transmitter\",\"crony\",\"track\",\"ahead\",\"whichever\",\"reach\",\"spoil\",\"use\",\"next\",\"paragraph\",\"profile\",\"racer\",\"trashy\",\"clothing\",\"sport\",\"vera\",\"baker\",\"whoopi\",\"goldberg\",\"reunite\",\"daughter\",\"grown\",\"merrill\",\"lanai\",\"chapman\",\"erudite\",\"conservative\",\"wary\",\"stranger\",\"thrown\",\"competitive\",\"owen\",\"templeton\",\"cuba\",\"gooding\",\"jr\",\"currently\",\"referee\",\"gambler\",\"enormous\",\"vengeful\",\"cab\",\"driver\",\"mexico\",\"masquerade\",\"busload\",\"lucy\",\"ricardo\",\"impersonator\",\"convention\",\"pollini\",\"rowan\",\"atkinson\",\"cheerful\",\"holiday\",\"narcoleptic\",\"asleep\",\"inopportune\",\"hitch\",\"ride\",\"zack\",\"wayne\",\"knight\",\"hyper\",\"tense\",\"ambulance\",\"human\",\"transplant\",\"randy\",\"pear\",\"jon\",\"lovitz\",\"promise\",\"kathy\",\"najimy\",\"vacation\",\"fearful\",\"angry\",\"involvement\",\"claim\",\"interview\",\"insist\",\"stay\",\"hop\",\"mini\",\"tear\",\"duane\",\"seth\",\"green\",\"blaine\",\"vince\",\"vieluf\",\"cody\",\"crook\",\"impediment\",\"due\",\"poorly\",\"tongue\",\"pierce\",\"close\",\"understanding\",\"boy\",\"goal\",\"nick\",\"shaffer\",\"breckin\",\"meyer\",\"nonsense\",\"lawyer\",\"train\",\"recruit\",\"helicopter\",\"pilot\",\"faucet\",\"amy\",\"journey\",\"glance\",\"blandly\",\"wholesome\",\"buzz\",\"boyfriend\",\"shawn\",\"dean\",\"cain\",\"spy\",\"jerry\",\"zucker\",\"airplane\",\"leap\",\"periodically\",\"vegas\",\"grisham\",\"dave\",\"thomas\",\"personality\",\"impair\",\"cook\",\"bizarre\",\"momentum\",\"zoom\",\"misstep\",\"bates\",\"roadside\",\"squirrel\",\"salesperson\",\"intricately\",\"museum\",\"outdoor\",\"rally\",\"utterly\",\"tasteless\",\"screamingly\",\"ditch\",\"drop\",\"clothes\",\"cleavage\",\"doze\",\"matron\",\"squirm\",\"induce\",\"hint\",\"molestation\",\"select\",\"band\",\"concert\",\"god\",\"carping\",\"barred\",\"diverse\",\"dvd\",\"buy\",\"surely\",\"outtakes\",\"die\",\"noticed\",\"pseudo\",\"substance\",\"fake\",\"deep\",\"meaning\",\"rehearse\",\"melodramatic\",\"evoke\",\"connotation\",\"step\",\"aside\",\"reflect\",\"discover\",\"elegantly\",\"fluff\",\"angel\",\"somewhere\",\"falter\",\"underneath\",\"seemingly\",\"poetic\",\"beauty\",\"gigantic\",\"somebody\",\"iridescent\",\"glossy\",\"cinematography\",\"shattered\",\"hope\",\"angels\",\"worth\",\"nicolas\",\"cage\",\"guardian\",\"hundred\",\"thousand\",\"eternity\",\"citizen\",\"mortality\",\"celestial\",\"intervention\",\"occur\",\"subdue\",\"maggie\",\"doctor\",\"ponder\",\"alive\",\"losing\",\"patient\",\"surgery\",\"table\",\"envelope\",\"oversee\",\"transition\",\"afterlife\",\"captivate\",\"observe\",\"everyday\",\"quickly\",\"learn\",\"sensation\",\"taste\",\"desire\",\"adoration\",\"resist\",\"appear\",\"regularly\",\"taboo\",\"angelic\",\"community\",\"interestingly\",\"dressed\",\"hitman\",\"glowing\",\"entity\",\"uniqueness\",\"versatile\",\"arizona\",\"combo\",\"slip\",\"heavenly\",\"threaten\",\"sappiness\",\"pick\",\"courage\",\"comparable\",\"deviate\",\"intelligently\",\"ditzy\",\"romantic\",\"impressive\",\"goer\",\"rarely\",\"dennis\",\"franz\",\"interpretation\",\"shame\",\"stage\",\"realization\",\"emotionally\",\"impact\",\"conclusion\",\"painful\",\"thud\",\"exhilarate\",\"impression\",\"linger\",\"remember\",\"convey\",\"thru\",\"glorious\",\"dishearten\",\"mediocrity\",\"german\",\"wing\",\"english\",\"ninety\",\"forgive\",\"shortcoming\",\"devastatingly\",\"non\",\"cynic\",\"anyway\",\"wrap\",\"surreal\",\"criticism\",\"criticize\",\"nonetheless\",\"beautifully\",\"satisfy\",\"appreciate\",\"delve\",\"emotional\",\"territory\",\"synopsis\",\"bobby\",\"garfield\",\"yelchin\",\"mirthless\",\"widow\",\"davis\",\"spritely\",\"carol\",\"boorem\",\"boarder\",\"house\",\"ted\",\"brautigan\",\"hopkins\",\"enigmatic\",\"immediate\",\"bond\",\"deepens\",\"privy\",\"event\",\"forever\",\"enchant\",\"atlantis\",\"recall\",\"king\",\"coming\",\"stand\",\"sentiment\",\"conveys\",\"hearts\",\"magic\",\"childhood\",\"neverending\",\"supernatural\",\"prominent\",\"benefit\",\"greatly\",\"superb\",\"innocence\",\"resignation\",\"splendid\",\"still\",\"praised\",\"highly\",\"spider\",\"radiant\",\"despite\",\"quiet\",\"introspective\",\"commands\",\"onscreen\",\"strident\",\"elizabeth\",\"cartoonish\",\"sully\",\"frame\",\"hick\",\"lovely\",\"cloy\",\"incident\",\"cease\",\"weave\",\"spell\",\"spice\",\"courtroom\",\"prisoner\",\"cinque\",\"djimon\",\"hounsou\",\"sierra\",\"leone\",\"kidnap\",\"slavery\",\"fellow\",\"shore\",\"spanish\",\"slave\",\"trader\",\"haul\",\"legally\",\"technically\",\"trade\",\"adams\",\"mcconaughey\",\"prove\",\"lengthy\",\"portray\",\"panache\",\"facial\",\"ups\",\"adam\",\"anticlimax\",\"subtitle\",\"various\",\"opinion\",\"fiction\",\"invent\",\"purposeful\",\"conflict\",\"stretch\",\"boredom\",\"thought\",\"resolve\",\"spicy\",\"historically\",\"accurate\",\"excellent\",\"negotiator\",\"entirely\",\"unenviable\",\"zero\",\"dangerous\",\"criminal\",\"whatever\",\"intend\",\"stake\",\"mentally\",\"unstable\",\"prone\",\"therefore\",\"psychologist\",\"sham\",\"artist\",\"able\",\"foot\",\"either\",\"failing\",\"prepare\",\"facilitate\",\"crisis\",\"firepower\",\"enter\",\"scenario\",\"possible\",\"dominate\",\"conversation\",\"perpetrator\",\"hostage\",\"trick\",\"favor\",\"circumstance\",\"basis\",\"f\",\"gary\",\"gray\",\"roman\",\"samuel\",\"l\",\"tip\",\"partner\",\"corruption\",\"within\",\"internal\",\"incriminate\",\"evidence\",\"embezzle\",\"disability\",\"fund\",\"scorn\",\"department\",\"scrutiny\",\"badge\",\"typical\",\"hate\",\"luckily\",\"conventionalism\",\"premise\",\"offer\",\"district\",\"attorney\",\"walking\",\"niebaum\",\"j\",\"compressed\",\"motivational\",\"redeem\",\"negotiation\",\"chris\",\"sabian\",\"kevin\",\"spacey\",\"ensue\",\"miscast\",\"identify\",\"protagonist\",\"notable\",\"exception\",\"brown\",\"difficult\",\"preconception\",\"sap\",\"suspenseful\",\"left\",\"largely\",\"attribute\",\"steal\",\"negotiate\",\"hopelessly\",\"sears\",\"tower\",\"bedroom\",\"phone\",\"swat\",\"commander\",\"david\",\"morse\",\"itch\",\"fbi\",\"wait\",\"pressure\",\"lucked\",\"beck\",\"ron\",\"rifkin\",\"frost\",\"spencer\",\"al\",\"travis\",\"competent\",\"typecast\",\"similar\",\"rock\",\"confidential\",\"forgiven\",\"giamatti\",\"rudy\",\"hostages\",\"relief\",\"initially\",\"slimy\",\"shifty\",\"fortunately\",\"seriousness\",\"breather\",\"manage\",\"sustain\",\"throughout\",\"suspicious\",\"clock\",\"sadly\",\"underrated\",\"february\",\"pleasantville\",\"morning\",\"vietnam\",\"backdraft\",\"nixon\",\"check\",\"sling\",\"blade\",\"mental\",\"ward\",\"billy\",\"bob\",\"thornton\",\"nicholson\",\"accept\",\"march\",\"dedicate\",\"characterize\",\"type\",\"famous\",\"plotline\",\"parallel\",\"reality\",\"equally\",\"suit\",\"entertainment\",\"heavy\",\"metal\",\"steel\",\"devote\",\"sings\",\"launched\",\"stardom\",\"rid\",\"singer\",\"critique\",\"sucker\",\"humble\",\"background\",\"lofty\",\"devotes\",\"energy\",\"patience\",\"ultimately\",\"certain\",\"luck\",\"yup\",\"equation\",\"generally\",\"closely\",\"entry\",\"adaptation\",\"lifestyle\",\"preface\",\"definitely\",\"enhance\",\"appreciation\",\"teen\",\"anymore\",\"motley\",\"crue\",\"anthrax\",\"cd\",\"blast\",\"watching\",\"listen\",\"standout\",\"wahlberg\",\"wow\",\"fella\",\"prop\",\"totally\",\"incidentally\",\"ask\",\"regular\",\"ethic\",\"fulfill\",\"aniston\",\"girlfriend\",\"romance\",\"sweet\",\"pull\",\"impress\",\"musician\",\"zakk\",\"wylde\",\"ozzy\",\"osbourne\",\"jeff\",\"pilson\",\"dokken\",\"stephan\",\"jenkins\",\"blind\",\"blas\",\"elias\",\"slaughter\",\"dominic\",\"west\",\"kirk\",\"cuddy\",\"member\",\"sing\",\"judas\",\"priest\",\"admit\",\"gay\",\"record\",\"recommend\",\"originality\",\"covered\",\"uplift\",\"central\",\"yeah\",\"dig\",\"soundtrack\",\"dreams\",\"joblo\",\"boogie\",\"girlfight\",\"goodfellas\",\"sid\",\"james\",\"gang\",\"contraceptive\",\"pill\",\"maternity\",\"kenneth\",\"sir\",\"bernard\",\"hypochondriac\",\"hattie\",\"jacques\",\"charles\",\"hawtrey\",\"psychiatrist\",\"dr\",\"goode\",\"laughs\",\"humorous\",\"antic\",\"visit\",\"swear\",\"secrecy\",\"ear\",\"cameo\",\"joan\",\"sims\",\"expectant\",\"overdue\",\"constantly\",\"connor\",\"railway\",\"cyril\",\"son\",\"cope\",\"nurse\",\"room\",\"barbara\",\"windsor\",\"robbery\",\"panic\",\"subdued\",\"quieter\",\"scarce\",\"making\",\"flounder\",\"genuinely\",\"ultimate\",\"untouchable\",\"examine\",\"rivalry\",\"exaggeration\",\"fit\",\"perfectly\",\"memorable\",\"clever\",\"prohibition\",\"mobster\",\"ruthless\",\"capone\",\"underground\",\"market\",\"liquor\",\"demand\",\"public\",\"elliot\",\"ness\",\"impossible\",\"peace\",\"stabilize\",\"bend\",\"apparent\",\"scenes\",\"deniro\",\"declare\",\"firm\",\"believer\",\"transfer\",\"restaurant\",\"contains\",\"innocent\",\"hesitation\",\"lie\",\"bastard\",\"palma\",\"towards\",\"develop\",\"introduce\",\"duration\",\"admiration\",\"formation\",\"overcoat\",\"walk\",\"unison\",\"forward\",\"feared\",\"pistol\",\"future\",\"morpheus\",\"trinity\",\"virtual\",\"futuristic\",\"countless\",\"hippest\",\"brave\",\"characteristic\",\"separate\",\"ingenuity\",\"costner\",\"grow\",\"unfair\",\"beliefs\",\"shatter\",\"realizes\",\"trust\",\"stability\",\"adversary\",\"anger\",\"thunderous\",\"longer\",\"sean\",\"connery\",\"malone\",\"decides\",\"untouchables\",\"mentor\",\"knife\",\"wit\",\"andy\",\"garcia\",\"wonderful\",\"stone\",\"valuable\",\"lesson\",\"taught\",\"smith\",\"income\",\"tax\",\"offense\",\"intense\",\"western\",\"execute\",\"ingeniously\",\"excitement\",\"pound\",\"drum\",\"rhythm\",\"effective\",\"excessively\",\"glorify\",\"blend\",\"baseball\",\"bat\",\"vivid\",\"roger\",\"rabbit\",\"besides\",\"liked\",\"rent\",\"struck\",\"brilliant\",\"milestone\",\"animation\",\"combine\",\"cartoon\",\"interact\",\"convincingly\",\"mystery\",\"somewhat\",\"herman\",\"trouble\",\"boil\",\"valiant\",\"hoskins\",\"k\",\"maroon\",\"tilvern\",\"unfaithfulness\",\"distraction\",\"photos\",\"reshoots\",\"patty\",\"cake\",\"marvin\",\"acme\",\"stubby\",\"toontown\",\"destroy\",\"judge\",\"doom\",\"christopher\",\"lloyd\",\"jury\",\"executioner\",\"toon\",\"achievement\",\"creation\",\"zemekis\",\"praise\",\"animator\",\"accord\",\"database\",\"study\",\"imaginary\",\"guess\",\"scared\",\"p\",\"please\",\"ben\",\"stiller\",\"circulation\",\"lay\",\"acerbic\",\"neighbor\",\"talkative\",\"sexually\",\"frustrated\",\"coach\",\"jerri\",\"permanent\",\"heroin\",\"addict\",\"stahl\",\"industry\",\"push\",\"bankable\",\"addiction\",\"commercially\",\"ewan\",\"mcgregor\",\"spring\",\"emma\",\"brassed\",\"receive\",\"respect\",\"renton\",\"boyle\",\"transatlantic\",\"junk\",\"fest\",\"trainspotting\",\"philosophy\",\"em\",\"seriously\",\"eighty\",\"churn\",\"plotlines\",\"disposable\",\"tv\",\"habit\",\"size\",\"utah\",\"command\",\"chronicle\",\"abuse\",\"maintenance\",\"observation\",\"casual\",\"reference\",\"naked\",\"lunch\",\"author\",\"william\",\"burroughs\",\"responds\",\"puncture\",\"vein\",\"thrill\",\"occasionally\",\"wobble\",\"writing\",\"autobiography\",\"veloz\",\"pointed\",\"convenient\",\"marriage\",\"exec\",\"hurley\",\"impossibly\",\"profanity\",\"conceive\",\"random\",\"hirings\",\"firing\",\"narrates\",\"lover\",\"kitty\",\"norristown\",\"maria\",\"bello\",\"rehab\",\"janeane\",\"garofalo\",\"heavily\",\"bespectacled\",\"hook\",\"dope\",\"wordsmith\",\"playing\",\"jade\",\"clinic\",\"counselor\",\"unshaven\",\"mascara\",\"wreck\",\"pop\",\"needle\",\"jab\",\"ubiquitous\",\"strangely\",\"absorb\",\"assist\",\"living\",\"phil\",\"curtolo\",\"mel\",\"gibson\",\"braveheart\",\"howard\",\"ransom\",\"mullen\",\"wealthy\",\"tycoon\",\"haunt\",\"sinise\",\"forrest\",\"gump\",\"thug\",\"kate\",\"rene\",\"russo\",\"tin\",\"cup\",\"instruct\",\"inform\",\"contact\",\"elite\",\"delroy\",\"lindo\",\"broken\",\"arrow\",\"average\",\"suddenly\",\"news\",\"broadcast\",\"reward\",\"thicken\",\"unusually\",\"suspense\",\"collide\",\"cellular\",\"gleiberman\",\"weekly\",\"kidnapper\",\"cell\",\"mice\",\"apollo\",\"devilish\",\"worthy\",\"trek\",\"serious\",\"science\",\"purpose\",\"stories\",\"compel\",\"enterprise\",\"numerous\",\"mission\",\"insurrection\",\"mine\",\"engage\",\"episode\",\"cheesy\",\"strictly\",\"generation\",\"introduces\",\"ba\",\"ku\",\"radiation\",\"ring\",\"fountain\",\"youth\",\"archenemies\",\"ru\",\"afo\",\"abraham\",\"mess\",\"everything\",\"disfigure\",\"daily\",\"reconstructive\",\"aesthetically\",\"acceptable\",\"strike\",\"federation\",\"elsewhere\",\"exploit\",\"picard\",\"patrick\",\"stewart\",\"donna\",\"murphy\",\"trusty\",\"habitat\",\"necessary\",\"fan\",\"aspect\",\"bold\",\"magnetic\",\"jonathan\",\"frakes\",\"riker\",\"data\",\"brent\",\"spiner\",\"fairly\",\"overact\",\"aptitude\",\"computer\",\"employ\",\"space\",\"suck\",\"clean\",\"impressively\",\"complaint\",\"moral\",\"stance\",\"appropriate\",\"inherent\",\"camp\",\"factor\",\"equipped\",\"issue\",\"prefer\",\"load\",\"website\",\"ace\",\"ventura\",\"truman\",\"burbank\",\"jim\",\"carrey\",\"gamut\",\"cable\",\"breakthrough\",\"zany\",\"darker\",\"everyone\",\"stellar\",\"pan\",\"critic\",\"gene\",\"siskel\",\"dug\",\"theatre\",\"super\",\"mode\",\"hbo\",\"lean\",\"relax\",\"stalk\",\"robin\",\"leslie\",\"mann\",\"creep\",\"alias\",\"tate\",\"chip\",\"douglas\",\"ricky\",\"etc\",\"manic\",\"karaoke\",\"jam\",\"apartment\",\"medieval\",\"bathroom\",\"liar\",\"jefferson\",\"sung\",\"aformentioned\",\"spot\",\"fool\",\"contrive\",\"dissapointing\",\"venture\",\"video\",\"till\",\"bulworth\",\"allow\",\"sigh\",\"satire\",\"recent\",\"wag\",\"instance\",\"heartless\",\"primary\",\"unwatchable\",\"awfulness\",\"execution\",\"tremendously\",\"warren\",\"beatty\",\"care\",\"incumbent\",\"democratic\",\"senator\",\"jay\",\"billington\",\"sob\",\"sleep\",\"eaten\",\"instantaneously\",\"insane\",\"stark\",\"rave\",\"outright\",\"bonkers\",\"weekend\",\"campaign\",\"assistant\",\"oliver\",\"platt\",\"church\",\"lady\",\"obvious\",\"propel\",\"muse\",\"decision\",\"suicidal\",\"sunglasses\",\"beckel\",\"nina\",\"halle\",\"berry\",\"infatuate\",\"span\",\"truth\",\"politics\",\"method\",\"poll\",\"spew\",\"coherent\",\"sentence\",\"lash\",\"structure\",\"affiliation\",\"tiresome\",\"segment\",\"rap\",\"luncheon\",\"absurd\",\"core\",\"package\",\"accessible\",\"recognition\",\"scale\",\"dialogue\",\"hugely\",\"noticeable\",\"luminous\",\"repertoire\",\"cheadle\",\"dealer\",\"tot\",\"toddler\",\"dirty\",\"careful\",\"someday\",\"intensity\",\"sorvino\",\"southern\",\"list\",\"inflection\",\"offensive\",\"offend\",\"hardly\",\"blindside\",\"honesty\",\"eclectic\",\"minor\",\"quibble\",\"otherwise\",\"uproariously\",\"scratch\",\"surface\",\"window\",\"soul\",\"gaze\",\"ralph\",\"fiennes\",\"morgan\",\"freeman\",\"being\",\"tupac\",\"shakur\",\"gridlock\",\"oddly\",\"gritty\",\"roth\",\"sketchy\",\"exciting\",\"chemistry\",\"ezekiel\",\"spoon\",\"whitmore\",\"rome\",\"buddy\",\"jazz\",\"trio\",\"cookie\",\"thandie\",\"newton\",\"eve\",\"comatose\",\"overdose\",\"borrow\",\"prof\",\"temptation\",\"fix\",\"hindrance\",\"road\",\"bureaucracy\",\"confusion\",\"tape\",\"nasty\",\"vondie\",\"curtis\",\"hall\",\"odyssey\",\"urban\",\"realism\",\"unless\",\"thankful\",\"response\",\"fatuous\",\"commentary\",\"besiege\",\"vent\",\"righteous\",\"system\",\"inner\",\"los\",\"angeles\",\"fen\",\"personalize\",\"license\",\"plate\",\"echo\",\"reper\",\"plat\",\"whip\",\"breakfast\",\"mcdonald\",\"unarm\",\"unhinge\",\"heroic\",\"surrogate\",\"bureaucrat\",\"respond\",\"tirade\",\"frustrate\",\"cathartic\",\"yield\",\"answer\",\"chunk\",\"flight\",\"sub\",\"chummy\",\"chestnut\",\"mistakenly\",\"report\",\"sit\",\"gratuitous\",\"insert\",\"paraphernalia\",\"destructive\",\"behavior\",\"irony\",\"idea\",\"display\",\"survival\",\"instinct\",\"hardness\",\"gangsta\",\"conscience\",\"appetite\",\"gleeful\",\"destructiveness\",\"reveals\",\"hiv\",\"positive\",\"agency\",\"cruelly\",\"emergency\",\"repeatedly\",\"stab\",\"tiny\",\"pocket\",\"symbol\",\"company\",\"drain\",\"tired\",\"ultra\",\"dropout\",\"convenience\",\"slacker\",\"brian\",\"halloran\",\"anderson\",\"customer\",\"discuss\",\"fellatio\",\"fulfillment\",\"grainy\",\"originally\",\"nc\",\"sensitive\",\"zoe\",\"remake\",\"reservoir\",\"french\",\"halfway\",\"avary\",\"bastille\",\"bank\",\"eric\",\"stoltz\",\"paris\",\"robber\",\"safecracker\",\"blissful\",\"unaware\",\"botch\",\"intriguing\",\"front\",\"speed\",\"pulp\",\"quentin\",\"tarantino\",\"wellville\",\"coraghessan\",\"bowels\",\"bowel\",\"explore\",\"harvey\",\"kellogg\",\"buck\",\"toothed\",\"abstinence\",\"vegetarianism\",\"frequent\",\"defecation\",\"cornflake\",\"creek\",\"sanitarium\",\"bridget\",\"fonda\",\"failed\",\"laughter\",\"marvel\",\"unfunny\",\"cusack\",\"lerner\",\"lara\",\"flynn\",\"neville\",\"dana\",\"carvey\",\"impeccable\",\"amuse\",\"novelty\",\"parker\",\"darnedness\",\"doo\",\"phew\",\"stargate\",\"arabia\",\"epic\",\"sci\",\"fi\",\"sheer\",\"else\",\"roland\",\"emmerich\",\"solider\",\"shamelessly\",\"cosmic\",\"overlong\",\"cardboard\",\"sculpted\",\"sand\",\"morph\",\"headdress\",\"spunky\",\"spader\",\"egyptologist\",\"pyramid\",\"kurt\",\"russell\",\"jaye\",\"davidson\",\"cry\",\"fame\",\"sluggish\",\"mixed\",\"bag\",\"earnest\",\"punch\",\"latter\",\"klingon\",\"comeuppance\",\"ends\",\"shatner\",\"plead\",\"unremarkable\",\"miracle\",\"season\",\"specialist\",\"et\",\"maybe\",\"santa\",\"claus\",\"mayfield\",\"tarnish\",\"memory\",\"costars\",\"mcdermott\",\"perkins\",\"attenborough\",\"definitive\",\"kris\",\"kringle\",\"moisten\",\"alarm\",\"junior\",\"arnold\",\"schwarzenegger\",\"pregnant\",\"crystal\",\"test\",\"schwarz\",\"bulge\",\"coup\",\"dustin\",\"hoffman\",\"tootsie\",\"ivan\",\"reitman\",\"wisely\",\"farce\",\"yuks\",\"devito\",\"arnie\",\"collision\",\"acting\",\"monterey\",\"affords\",\"affectionate\",\"glimpse\",\"hippy\",\"otis\",\"redding\",\"jimi\",\"hendrix\",\"janis\",\"joplin\",\"mama\",\"papa\",\"pack\",\"contagious\",\"fair\",\"reveal\",\"preclude\",\"woodstock\",\"stereotype\",\"population\",\"paint\",\"smoke\",\"joint\",\"pennebaker\",\"moon\",\"broadway\",\"broad\",\"spectrum\",\"stir\",\"interviewer\",\"reply\",\"organize\",\"craziness\",\"phillips\",\"papas\",\"organizer\",\"dionne\",\"warwick\",\"remark\",\"decent\",\"vanity\",\"interaction\",\"infectious\",\"belt\",\"ballad\",\"lyric\",\"wild\",\"mime\",\"guitar\",\"recognize\",\"enthral\",\"drawback\",\"approximately\",\"wholly\",\"forgettable\",\"stimulate\",\"precious\",\"sway\",\"variety\",\"immersed\",\"dispel\",\"depress\",\"nsync\",\"backstreet\",\"lopez\",\"stuck\",\"modeling\",\"common\",\"francis\",\"ford\",\"coppola\",\"godfather\",\"glamorise\",\"mafia\",\"institution\",\"guide\",\"ancient\",\"virtue\",\"honour\",\"loyalty\",\"solidarity\",\"suitable\",\"gentler\",\"kinder\",\"scorsese\",\"italoamerican\",\"moviemaker\",\"confront\",\"perspective\",\"vision\",\"echelon\",\"organise\",\"unspectacular\",\"artsy\",\"compete\",\"seventeen\",\"dealt\",\"influential\",\"owes\",\"popularity\",\"seller\",\"wiseguy\",\"nicholas\",\"pileggi\",\"thirty\",\"henry\",\"hill\",\"ray\",\"liotta\",\"organisation\",\"paulie\",\"cicero\",\"bos\",\"gradually\",\"climbs\",\"ladder\",\"errand\",\"couple\",\"tommy\",\"vito\",\"thief\",\"jimmy\",\"conway\",\"associate\",\"wealth\",\"culminate\",\"spectacular\",\"privilege\",\"connect\",\"seduce\",\"karen\",\"lorraine\",\"bracco\",\"afterwards\",\"loyal\",\"infidelity\",\"domestic\",\"arrest\",\"accomplice\",\"wiseguys\",\"unpredictable\",\"outburst\",\"homicidal\",\"reluctance\",\"loot\",\"downfall\",\"friends\",\"represent\",\"glory\",\"contradiction\",\"depict\",\"ordinary\",\"spare\",\"hypocrisy\",\"paranoia\",\"seductive\",\"expose\",\"notorious\",\"superficial\",\"glamour\",\"prosperity\",\"dullness\",\"poverty\",\"moralistic\",\"inhibition\",\"revolt\",\"depravity\",\"bloodshed\",\"uncompromising\",\"ironic\",\"narrator\",\"humour\",\"skill\",\"potentially\",\"disturb\",\"entertaining\",\"relatively\",\"prologue\",\"switch\",\"shortly\",\"multiple\",\"lengthen\",\"distance\",\"nostalgia\",\"illustrated\",\"depression\",\"expression\",\"neurotic\",\"pastoral\",\"continuo\",\"shooting\",\"fragmentary\",\"loosely\",\"connected\",\"vignette\",\"opportunity\",\"experiment\",\"near\",\"essential\",\"collection\",\"respectable\",\"ad\",\"libs\",\"nominal\",\"hollywoodised\",\"glamorous\",\"menacing\",\"descend\",\"cesspool\",\"patriarch\",\"chuck\",\"pester\",\"unknowingly\",\"grave\",\"sociological\",\"innovative\",\"rightful\",\"blair\",\"witch\",\"merit\",\"sequel\",\"inevitable\",\"tourists\",\"practically\",\"burkettsville\",\"mass\",\"hysteria\",\"twig\",\"sculpture\",\"dirt\",\"exasperate\",\"sheriff\",\"patrol\",\"wood\",\"bullhorn\",\"goddamned\",\"sudden\",\"advantage\",\"attract\",\"woods\",\"stephen\",\"tristen\",\"kim\",\"psychic\",\"erica\",\"wannabe\",\"quote\",\"wiccan\",\"lore\",\"wicca\",\"harm\",\"threefold\",\"plunge\",\"argue\",\"amidst\",\"parr\",\"abandon\",\"wake\",\"equipment\",\"marking\",\"lost\",\"loop\",\"uncontrollably\",\"forth\",\"hallucination\",\"horrible\",\"nightmare\",\"difference\",\"berlinger\",\"paradice\",\"creator\",\"myrick\",\"ed\",\"sanches\",\"townspeople\",\"affect\",\"outside\",\"confuse\",\"sidetracked\",\"anticlimaxic\",\"epilogue\",\"repeat\",\"quantity\",\"artistical\",\"gracefully\",\"forest\",\"carter\",\"burwell\",\"malkovich\",\"fargo\",\"musical\",\"handheld\",\"videocameras\",\"nfeatured\",\"improvisation\",\"perfection\",\"graceful\",\"editing\",\"polish\",\"installment\",\"adrenaline\",\"obviously\",\"misunderstood\",\"predecessor\",\"simplicity\",\"incredibly\",\"imagination\",\"frightening\",\"entir\",\"e\",\"shadow\",\"restrict\",\"fancy\",\"importantly\",\"connection\",\"scary\",\"cross\",\"constant\",\"jeffrey\",\"donovan\",\"tristine\",\"skyler\",\"surrealism\",\"worse\",\"commercial\",\"analyze\",\"films\",\"secondary\",\"philosophize\",\"theorize\",\"defines\",\"poignant\",\"construct\",\"ja\",\"v\",\"wherein\",\"clue\",\"overcome\",\"gothic\",\"runner\",\"murdoch\",\"sewell\",\"feeling\",\"hurry\",\"chill\",\"alone\",\"define\",\"horrific\",\"tone\",\"sympathize\",\"total\",\"amnesia\",\"tool\",\"mood\",\"outline\",\"semblance\",\"unfold\",\"serial\",\"frank\",\"bumstead\",\"hurt\",\"unemotional\",\"soft\",\"deadpan\",\"trail\",\"daniel\",\"schreber\",\"sutherland\",\"connelly\",\"dolled\",\"caraciture\",\"dick\",\"noir\",\"continually\",\"continual\",\"vertigo\",\"significance\",\"intricate\",\"overall\",\"afford\",\"gratuity\",\"maximum\",\"wanders\",\"hoax\",\"conduct\",\"tick\",\"extinction\",\"tagline\",\"explained\",\"posse\",\"telekinetic\",\"process\",\"bald\",\"pasty\",\"skin\",\"masse\",\"awake\",\"alex\",\"proyas\",\"consistently\",\"explanation\",\"synthesize\",\"chemical\",\"provoke\",\"apply\",\"errs\",\"intertwine\",\"expected\",\"emotion\",\"static\",\"crucial\",\"genuine\",\"infer\",\"ironically\",\"crow\",\"messenger\",\"mistaken\",\"message\",\"notably\",\"visual\",\"linda\",\"fiorentino\",\"disappear\",\"radar\",\"deservedly\",\"herald\",\"pic\",\"seduction\",\"dogma\",\"inexplicable\",\"bethany\",\"abortion\",\"faith\",\"visitor\",\"heaven\",\"fiery\",\"entrance\",\"metatron\",\"rickman\",\"fallen\",\"jersey\",\"universe\",\"depend\",\"trip\",\"garden\",\"jason\",\"mewes\",\"silent\",\"double\",\"duty\",\"minstrel\",\"thus\",\"sky\",\"rufus\",\"undocumented\",\"thirteenth\",\"apostle\",\"divine\",\"stripper\",\"serendipity\",\"salma\",\"hayek\",\"loki\",\"bartleby\",\"damon\",\"affleck\",\"respectively\",\"banish\",\"wisconsin\",\"dogmatic\",\"loophole\",\"enable\",\"wreak\",\"havoc\",\"sin\",\"absolve\",\"pearly\",\"gate\",\"terrorize\",\"boardroom\",\"bullets\",\"guiltily\",\"corrupt\",\"debut\",\"clerk\",\"wooden\",\"frill\",\"widescreen\",\"composition\",\"blockbuster\",\"affectation\",\"caustic\",\"religious\",\"namely\",\"accompanies\",\"eloquently\",\"articulately\",\"monologues\",\"blatant\",\"exposition\",\"verbal\",\"introduction\",\"weighty\",\"hurlyburly\",\"pacing\",\"slack\",\"diatribe\",\"destiny\",\"heard\",\"rant\",\"prior\",\"bloat\",\"sponge\",\"sample\",\"indie\",\"batch\",\"indiana\",\"jones\",\"crusade\",\"harrison\",\"weird\",\"shit\",\"demon\",\"kitchen\",\"brand\",\"dexterous\",\"maneuver\",\"satirical\",\"cardinal\",\"carlin\",\"publicity\",\"slogan\",\"catholicism\",\"scatalogical\",\"ensures\",\"malnourish\",\"bust\",\"gut\",\"occasion\",\"proceeding\",\"disclaimer\",\"unlikely\",\"protestors\",\"read\",\"prerelease\",\"ballyhoo\",\"christ\",\"nikos\",\"kazantzakis\",\"rumour\",\"heresy\",\"anecdote\",\"fletch\",\"ritchie\",\"invite\",\"picketers\",\"dime\",\"jesus\",\"shell\",\"denouement\",\"showdown\",\"catholic\",\"veritable\",\"recruitment\",\"poster\",\"religion\",\"belong\",\"devotion\",\"spirituality\",\"shine\",\"editorial\",\"league\",\"doctrine\",\"roundabout\",\"freedom\",\"celluloid\",\"bible\",\"thumper\",\"qualified\",\"donohue\",\"follower\",\"natalie\",\"portman\",\"professional\",\"queen\",\"amidala\",\"liam\",\"neeson\",\"schindler\",\"qui\",\"gon\",\"jinni\",\"obi\",\"wan\",\"kenobi\",\"jake\",\"jingle\",\"anakin\",\"skywalker\",\"fails\",\"humanity\",\"trilogy\",\"kiddie\",\"friendly\",\"stun\",\"digitalized\",\"creature\",\"amazingly\",\"lightsaber\",\"duel\",\"sumptuous\",\"robe\",\"worn\",\"stroke\",\"jedi\",\"dignity\",\"wise\",\"anchor\",\"spent\",\"luke\",\"leia\",\"stoic\",\"stilted\",\"caricatured\",\"vulcan\",\"geisha\",\"endear\",\"manfully\",\"infuse\",\"spark\",\"insight\",\"nails\",\"guiness\",\"scottish\",\"profound\",\"preexist\",\"fanatic\",\"brush\",\"obscure\",\"nefarious\",\"palpatine\",\"steep\",\"trivia\",\"emperor\",\"hood\",\"apparition\",\"darth\",\"vader\",\"phantom\",\"meaningful\",\"c\",\"po\",\"banking\",\"pre\",\"fondness\",\"jabba\",\"hutt\",\"corpulent\",\"lazy\",\"foreshadow\",\"guest\",\"tatooine\",\"coruscant\",\"cloud\",\"alderaan\",\"blown\",\"briefly\",\"meat\",\"gila\",\"monster\",\"barely\",\"muppets\",\"jar\",\"binks\",\"silly\",\"rabbitish\",\"amphibious\",\"annoy\",\"chewbacca\",\"pardon\",\"expensive\",\"teenage\",\"mutant\",\"ninja\",\"turtle\",\"furthermore\",\"corny\",\"downright\",\"infantile\",\"thereby\",\"render\",\"bystander\",\"judgment\",\"kinship\",\"eight\",\"fault\",\"mistake\",\"tyke\",\"spoiler\",\"foreshadowing\",\"blond\",\"flow\",\"rosy\",\"aggression\",\"dot\",\"pernilla\",\"august\",\"gross\",\"gnome\",\"rose\",\"yoda\",\"risk\",\"noble\",\"dy\",\"maul\",\"sith\",\"excel\",\"dude\",\"establishes\",\"makeup\",\"padawan\",\"apprentice\",\"knightdom\",\"saga\",\"treat\",\"pod\",\"triumph\",\"digitalize\",\"origin\",\"simpler\",\"kasdan\",\"vergil\",\"tibbs\",\"murderer\",\"inside\",\"jail\",\"separated\",\"bigot\",\"heat\",\"norman\",\"jewison\",\"concern\",\"pedantic\",\"analysis\",\"abuser\",\"afraid\",\"absolute\",\"precede\",\"soldier\",\"hurricane\",\"classic\",\"superbly\",\"sidney\",\"poitier\",\"fearless\",\"philadelphia\",\"temper\",\"pattern\",\"range\",\"stentorian\",\"soothe\",\"denzel\",\"rod\",\"steiger\",\"warns\",\"danger\",\"racist\",\"refer\",\"suspiciously\",\"progress\",\"gradual\",\"hardships\",\"foolishness\",\"mister\",\"settle\",\"virgil\",\"differently\",\"reverse\",\"south\",\"united\",\"credible\",\"victim\",\"fifteen\",\"inane\",\"sam\",\"vigilant\",\"homicide\",\"discovery\",\"nowhere\",\"congratulation\",\"scott\",\"wilson\",\"blood\",\"professor\",\"naturalism\",\"wall\",\"variation\",\"gordon\",\"gecko\",\"personify\",\"tend\",\"exaggerate\",\"vehemence\",\"cutthroat\",\"businessmen\",\"froth\",\"intention\",\"tightly\",\"natured\",\"veneer\",\"orton\",\"showy\",\"truthful\",\"embodies\",\"grady\",\"craggy\",\"predilection\",\"pot\",\"pink\",\"bathrobe\",\"instructs\",\"workshop\",\"tirelessly\",\"map\",\"encounter\",\"curmudgeon\",\"midst\",\"sardonic\",\"bombard\",\"jealousy\",\"target\",\"writerly\",\"leer\",\"tobey\",\"maguire\",\"mild\",\"affection\",\"mechanically\",\"speaks\",\"intellectualized\",\"monotone\",\"dry\",\"edge\",\"portentous\",\"gloomy\",\"depressed\",\"calculated\",\"reminds\",\"impose\",\"outcast\",\"jarmusch\",\"whenever\",\"toneless\",\"monotonous\",\"drawl\",\"mask\",\"contempt\",\"exclusively\",\"spike\",\"dye\",\"snow\",\"equates\",\"quirk\",\"round\",\"eerie\",\"resembles\",\"bud\",\"cort\",\"harold\",\"maude\",\"warm\",\"credibility\",\"katie\",\"holmes\",\"hannah\",\"pant\",\"resemble\",\"springer\",\"document\",\"jealous\",\"wish\",\"lowly\",\"companion\",\"breathtaking\",\"zeta\",\"shifted\",\"pontificate\",\"chivalrously\",\"resists\",\"charm\",\"sara\",\"gaskell\",\"droll\",\"france\",\"mcdormand\",\"marry\",\"okay\",\"chivalrous\",\"junkie\",\"manufacture\",\"downy\",\"bisexual\",\"editor\",\"transvestite\",\"gleefully\",\"hipster\",\"intellectual\",\"arrogant\",\"arrogance\",\"remains\",\"joyous\",\"hanksian\",\"edgy\",\"pointless\",\"meander\",\"biased\",\"literary\",\"academia\",\"fond\",\"explored\",\"cinema\",\"westerns\",\"incline\",\"knock\",\"grade\",\"notch\",\"hanson\",\"akin\",\"leisurely\",\"generic\",\"introverted\",\"chuckle\",\"throwaway\",\"altman\",\"h\",\"goodbye\",\"fringe\",\"broader\",\"incessant\",\"smoking\",\"marijuana\",\"ineffective\",\"toiled\",\"exploitation\",\"losin\",\"cruise\",\"cradle\",\"graduate\",\"appropriately\",\"dour\",\"false\",\"gloom\",\"morose\",\"croon\",\"leonard\",\"cohen\",\"boys\",\"literature\",\"equivalent\",\"novelistic\",\"slight\",\"savor\",\"subtlety\",\"zoolander\",\"dumb\",\"impressionable\",\"secretly\",\"trained\",\"syndicate\",\"assassinate\",\"malaysia\",\"abolish\",\"labor\",\"grace\",\"pretend\",\"idiotic\",\"ideal\",\"frivolous\",\"assemble\",\"grant\",\"enjoyed\",\"loudly\",\"specific\",\"unrestrained\",\"snap\",\"celebrity\",\"cameos\",\"zane\",\"winona\",\"ryder\",\"christian\",\"slater\",\"duchovny\",\"masseuse\",\"hi\",\"larious\",\"bulimia\",\"orgy\",\"christine\",\"taylor\",\"fighting\",\"piss\",\"gas\",\"disaster\",\"adore\",\"contest\",\"bowie\",\"moronic\",\"liner\",\"merman\",\"dare\",\"zip\",\"zagged\",\"establish\",\"trailer\",\"quip\",\"skip\",\"dodo\",\"bird\",\"austin\",\"blue\",\"deuce\",\"bigalow\",\"freddy\",\"fingered\",\"unzipped\",\"portrait\",\"isaac\",\"mizrahi\",\"palette\",\"fabric\",\"ostensibly\",\"stag\",\"paste\",\"verite\",\"conceit\",\"spontaneity\",\"premium\",\"actresses\",\"cindy\",\"crawford\",\"keeve\",\"freely\",\"violate\",\"legitimate\",\"shed\",\"incomplete\",\"eminently\",\"quotable\",\"cow\",\"tyler\",\"kennedy\",\"shape\",\"nowadays\",\"unzip\",\"draws\",\"nanook\",\"bette\",\"enlist\",\"aid\",\"ouija\",\"board\",\"trace\",\"development\",\"inception\",\"highlight\",\"naomi\",\"bush\",\"evangelista\",\"stock\",\"mm\",\"artiness\",\"treatment\",\"per\",\"se\",\"clip\",\"petulant\",\"tame\",\"declares\",\"liberate\",\"dora\",\"fernanda\",\"montenegro\",\"sits\",\"shift\",\"desk\",\"rio\",\"demeanor\",\"service\",\"unheard\",\"letter\",\"illiterate\",\"pas\",\"relative\",\"debt\",\"quirky\",\"elderly\",\"caring\",\"trustworthy\",\"postage\",\"relish\",\"therein\",\"irene\",\"mar\",\"lia\",\"ra\",\"nine\",\"thereafter\",\"bus\",\"orphan\",\"josu\",\"roams\",\"desperate\",\"clueless\",\"predictament\",\"elaborate\",\"responsibility\",\"security\",\"outskirt\",\"brazil\",\"unpaved\",\"devotee\",\"stricken\",\"commonplace\",\"foreign\",\"fresh\",\"breath\",\"entertainingly\",\"wrenchingly\",\"transformation\",\"dedication\",\"amoral\",\"scam\",\"bicker\",\"candle\",\"bumper\",\"sticker\",\"mentality\",\"evangelicals\",\"trivialize\",\"drink\",\"evangelical\",\"delicate\",\"vinicius\",\"oliveira\",\"mie\",\"renier\",\"promesse\",\"giorgio\",\"cantarini\",\"grate\",\"memo\",\"twenty\",\"prequel\",\"ticket\",\"recover\",\"anticipated\",\"anticlimactic\",\"epsode\",\"effortlessly\",\"generate\",\"strongly\",\"dissappointed\",\"surrendered\",\"backlash\",\"republic\",\"rag\",\"naboo\",\"actively\",\"communicate\",\"affectionately\",\"unable\",\"tide\",\"senate\",\"sidetrack\",\"focal\",\"counsel\",\"birth\",\"evident\",\"seamless\",\"instrumental\",\"courtesy\",\"irritate\",\"sidekick\",\"exqueeze\",\"mesa\",\"okeday\",\"inherently\",\"astound\",\"chickens\",\"outrageously\",\"popcorn\",\"surrender\",\"opera\",\"ingenious\",\"imperial\",\"prophecy\",\"ago\",\"galaxy\",\"tingle\",\"aspire\",\"cherished\",\"paralyzingly\",\"elicitor\",\"exquisite\",\"eugene\",\"novikov\",\"askew\",\"abstract\",\"trash\",\"aim\",\"claymation\",\"profane\",\"whew\",\"grasp\",\"outrageous\",\"surround\",\"sorry\",\"pleasure\",\"cameron\",\"diaz\",\"uneven\",\"discourage\",\"unite\",\"loveable\",\"bonus\",\"hometown\",\"salt\",\"lake\",\"sat\",\"nachos\",\"coke\",\"eccentric\",\"definite\",\"screenwriting\",\"directorial\",\"beloved\",\"lively\",\"trifle\",\"teeter\",\"bland\",\"milquetoast\",\"erie\",\"pennsylvania\",\"naturally\",\"brood\",\"songwriter\",\"johnathon\",\"schaech\",\"lenny\",\"zahn\",\"guitarist\",\"geeky\",\"bass\",\"ethan\",\"embry\",\"everett\",\"drummer\",\"aspiration\",\"perpetually\",\"neglect\",\"galpal\",\"faye\",\"liv\",\"hanks\",\"recreate\",\"expressly\",\"schlesinger\",\"elicit\",\"lookalike\",\"remarkable\",\"delivering\",\"ensemble\",\"grungers\",\"playact\",\"frothy\",\"unbridled\",\"refresh\",\"sinful\",\"bask\",\"overnight\",\"revert\",\"sweetness\",\"remotely\",\"niceness\",\"deny\",\"inoffensive\",\"hum\",\"paraphrase\",\"passage\",\"motto\",\"network\",\"revival\",\"cult\",\"execs\",\"thirteen\",\"forty\",\"spaceship\",\"tardis\",\"outsmart\",\"baddie\",\"daleks\",\"badly\",\"mcgann\",\"seven\",\"sylvester\",\"mccoy\",\"regeneration\",\"favorite\",\"pertwee\",\"daphne\",\"ashbrook\",\"brings\",\"holloway\",\"kiss\",\"female\",\"coffee\",\"tough\",\"yee\",\"jee\",\"tso\",\"chang\",\"imho\",\"wound\",\"executive\",\"producer\",\"segal\",\"dunno\",\"flash\",\"coattail\",\"whovians\",\"classy\",\"spit\",\"slime\",\"nonfans\",\"legs\",\"sends\",\"trial\",\"skaro\",\"exterminate\",\"gallifrey\",\"accidentally\",\"san\",\"francisco\",\"december\",\"harmony\",\"rewrite\",\"rating\",\"dreamworks\",\"jinks\",\"annette\",\"bening\",\"thora\",\"birch\",\"allison\",\"janney\",\"gallagher\",\"mena\",\"suvari\",\"wes\",\"bentley\",\"cooper\",\"stan\",\"wlodkowski\",\"costume\",\"julie\",\"weiss\",\"tariq\",\"anway\",\"greenbury\",\"shohan\",\"conrad\",\"mendes\",\"loser\",\"sedated\",\"lester\",\"burnham\",\"trap\",\"advertise\",\"dissatisfaction\",\"suffer\",\"estrange\",\"stress\",\"mastubatory\",\"fantasy\",\"sullen\",\"apathy\",\"carolyn\",\"prototypical\",\"homemaker\",\"carefully\",\"decorates\",\"furnishing\",\"unsuccessful\",\"estate\",\"denial\",\"loathe\",\"resentment\",\"jane\",\"adolescence\",\"dysfunction\",\"refreshingly\",\"needed\",\"fitts\",\"catatonic\",\"retire\",\"rage\",\"singularly\",\"neighborhood\",\"marvelously\",\"deprive\",\"cybil\",\"insightful\",\"expertly\",\"falsely\",\"achingly\",\"resoundingly\",\"marvelous\",\"lolita\",\"everyman\",\"spiral\",\"quits\",\"blackmail\",\"employer\",\"fantasize\",\"angela\",\"food\",\"outlet\",\"ingenuous\",\"nominee\",\"insecure\",\"caught\",\"facade\",\"normalcy\",\"disillusionment\",\"desperation\",\"adultery\",\"ms\",\"identifiable\",\"methodical\",\"maker\",\"charnel\",\"martha\",\"dysfunctional\",\"rebellious\",\"distrust\",\"isolation\",\"trophy\",\"cheerlead\",\"proud\",\"honey\",\"bitterness\",\"palpable\",\"actress\",\"resonance\",\"finn\",\"military\",\"upbringing\",\"repulse\",\"comprehend\",\"enigma\",\"foe\",\"deceitful\",\"calculate\",\"voyeuristic\",\"proclivity\",\"troublesome\",\"faults\",\"settings\",\"compose\",\"intrusive\",\"rain\",\"fission\",\"capturing\",\"harsh\",\"nuance\",\"beg\",\"debate\",\"trait\",\"phenomenon\",\"powder\",\"formula\",\"janitor\",\"construction\",\"academic\",\"hang\",\"robust\",\"romanticize\",\"hemingway\",\"lambeau\",\"stellan\",\"skarsgard\",\"wave\",\"math\",\"advance\",\"mathematics\",\"confirm\",\"fluke\",\"savant\",\"education\",\"firmly\",\"reject\",\"probation\",\"agrees\",\"therapy\",\"session\",\"accomplishment\",\"encourages\",\"discipline\",\"einstein\",\"meanwhile\",\"attends\",\"mandate\",\"shred\",\"therapist\",\"psychology\",\"shrink\",\"mockery\",\"college\",\"roommate\",\"weakness\",\"foster\",\"fussy\",\"stride\",\"roles\",\"awakening\",\"shy\",\"accomplish\",\"importance\",\"spread\",\"rational\",\"pal\",\"exceptional\",\"gift\",\"hunting\",\"melodrama\",\"uplifiting\",\"inclined\",\"twentieth\",\"subsidiary\",\"specialize\",\"independant\",\"searchlight\",\"underway\",\"promote\",\"ross\",\"wrapped\",\"blanket\",\"platter\",\"cineplexes\",\"cheery\",\"lighthearted\",\"opposite\",\"skillfully\",\"undertone\",\"ill\",\"segregation\",\"essence\",\"statement\",\"weight\",\"widescale\",\"distribution\",\"testament\",\"kudos\",\"staff\",\"zapped\",\"fifty\",\"reserve\",\"sue\",\"hue\",\"strangeness\",\"soda\",\"painter\",\"johnson\",\"minded\",\"chamber\",\"commerce\",\"posthumous\",\"awe\",\"whereas\",\"drips\",\"sinister\",\"closemindedness\",\"hackman\",\"envy\",\"commendable\",\"complementary\",\"exclamation\",\"lesser\",\"virtuoso\",\"fudge\",\"rockin\",\"archeologist\",\"mystical\",\"covenant\",\"grubby\",\"adventure\",\"snake\",\"mucho\",\"ensues\",\"galore\",\"catchy\",\"squeeze\",\"cool\",\"yes\",\"mountains\",\"brain\",\"brawn\",\"outdoors\",\"adventurer\",\"achieve\",\"balance\",\"jug\",\"ice\",\"truckloads\",\"salsa\",\"nominated\",\"chariots\",\"selleck\",\"magnum\"],\"x\":{\"__ndarray__\":\"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\",\"dtype\":\"float32\",\"shape\":[5000]},\"y\":{\"__ndarray__\":\"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\",\"dtype\":\"float32\",\"shape\":[5000]}},\"selected\":{\"id\":\"1190\",\"type\":\"Selection\"},\"selection_policy\":{\"id\":\"1189\",\"type\":\"UnionRenderers\"}},\"id\":\"1181\",\"type\":\"ColumnDataSource\"},{\"attributes\":{},\"id\":\"1169\",\"type\":\"WheelZoomTool\"},{\"attributes\":{},\"id\":\"1164\",\"type\":\"LinearScale\"},{\"attributes\":{},\"id\":\"1173\",\"type\":\"SaveTool\"},{\"attributes\":{\"callback\":null,\"tooltips\":[[\"word\",\"@words\"]]},\"id\":\"1172\",\"type\":\"HoverTool\"},{\"attributes\":{\"callback\":null},\"id\":\"1160\",\"type\":\"DataRange1d\"},{\"attributes\":{},\"id\":\"1168\",\"type\":\"PanTool\"}],\"root_ids\":[\"1157\"]},\"title\":\"Bokeh Application\",\"version\":\"1.2.0\"}};\n",
       "  var render_items = [{\"docid\":\"90a28740-8e51-47cd-85c2-d00feb63c374\",\"roots\":{\"1157\":\"f31ef365-685c-4082-a94d-3d81be183cf3\"}}];\n",
       "  root.Bokeh.embed.embed_items_notebook(docs_json, render_items);\n",
       "\n",
       "  }\n",
       "  if (root.Bokeh !== undefined) {\n",
       "    embed_document(root);\n",
       "  } else {\n",
       "    var attempts = 0;\n",
       "    var timer = setInterval(function(root) {\n",
       "      if (root.Bokeh !== undefined) {\n",
       "        embed_document(root);\n",
       "        clearInterval(timer);\n",
       "      }\n",
       "      attempts++;\n",
       "      if (attempts > 100) {\n",
       "        console.log(\"Bokeh: ERROR: Unable to run BokehJS code because BokehJS library is missing\");\n",
       "        clearInterval(timer);\n",
       "      }\n",
       "    }, 10, root)\n",
       "  }\n",
       "})(window);"
      ],
      "application/vnd.bokehjs_exec.v0+json": ""
     },
     "metadata": {
      "application/vnd.bokehjs_exec.v0+json": {
       "id": "1157"
      }
     },
     "output_type": "display_data"
    }
   ],
   "source": [
    "# Importing bokeh libraries for showing how words of similar context are grouped together\n",
    "import bokeh.plotting as bp\n",
    "from bokeh.models import HoverTool, BoxSelectTool\n",
    "from bokeh.plotting import figure, show, output_notebook\n",
    "\n",
    "#Defining the chart\n",
    "output_notebook()\n",
    "plot_chart = bp.figure(plot_width=700, plot_height=600, title=\"A map/plot of 5000 word vectors\",\n",
    "    tools=\"pan,wheel_zoom,box_zoom,reset,hover,previewsave\",\n",
    "    x_axis_type=None, y_axis_type=None, min_border=1)\n",
    "\n",
    "#Extracting the list of word vectors, limiting to 5000, each is of 200 dimensions\n",
    "word_vectors = [model[w] for w in list(model.wv.vocab.keys())[:5000]]\n",
    "\n",
    "# Reducing dimensionality by converting the vectors to 2d vectors\n",
    "from sklearn.manifold import TSNE\n",
    "tsne_model = TSNE(n_components=2, verbose=1, random_state=0)\n",
    "tsne_w2v = tsne_model.fit_transform(word_vectors)\n",
    "\n",
    "# Storing data in a dataframe\n",
    "tsne_df = pd.DataFrame(tsne_w2v, columns=['x', 'y'])\n",
    "tsne_df['words'] = list(model.wv.vocab.keys())[:5000]\n",
    "\n",
    "# Corresponding word appears when you hover on the data point.\n",
    "plot_chart.scatter(x='x', y='y', source=tsne_df)\n",
    "hover = plot_chart.select(dict(type=HoverTool))\n",
    "hover.tooltips={\"word\": \"@words\"}\n",
    "show(plot_chart)"
   ]
  },
  {
   "cell_type": "code",
   "execution_count": 52,
   "metadata": {},
   "outputs": [
    {
     "name": "stderr",
     "output_type": "stream",
     "text": [
      "C:\\ProgramData\\Anaconda3\\lib\\site-packages\\ipykernel_launcher.py:2: DeprecationWarning: Call to deprecated `syn0` (Attribute will be removed in 4.0.0, use self.vectors instead).\n",
      "  \n"
     ]
    },
    {
     "data": {
      "text/plain": [
       "(32325, 300)"
      ]
     },
     "execution_count": 52,
     "metadata": {},
     "output_type": "execute_result"
    }
   ],
   "source": [
    "# This will give the total number of words in the vocabolary created from this dataset\n",
    "model.wv.syn0.shape"
   ]
  },
  {
   "cell_type": "code",
   "execution_count": 50,
   "metadata": {},
   "outputs": [
    {
     "name": "stderr",
     "output_type": "stream",
     "text": [
      "C:\\ProgramData\\Anaconda3\\lib\\site-packages\\ipykernel_launcher.py:2: DeprecationWarning: Call to deprecated `most_similar` (Method will be removed in 4.0.0, use self.wv.most_similar() instead).\n",
      "  \n"
     ]
    },
    {
     "data": {
      "text/plain": [
       "[('movie', 0.9583634734153748),\n",
       " ('picture', 0.9178420901298523),\n",
       " ('moment', 0.9153978228569031),\n",
       " ('premere', 0.912384033203125),\n",
       " ('flick', 0.9084262251853943),\n",
       " ('sequence', 0.903508186340332),\n",
       " ('oedekerk', 0.896282970905304),\n",
       " ('comedy', 0.8958329558372498),\n",
       " ('credit', 0.8930047750473022),\n",
       " ('thriller', 0.8914545774459839)]"
      ]
     },
     "execution_count": 50,
     "metadata": {},
     "output_type": "execute_result"
    }
   ],
   "source": [
    "# This will print the most similar words present in the model\n",
    "model.most_similar(\"film\")"
   ]
  },
  {
   "cell_type": "code",
   "execution_count": 55,
   "metadata": {},
   "outputs": [],
   "source": [
    "import numpy as np\n",
    "def featureVecMethod(words, model, num_features):\n",
    "    # Pre-initialising empty numpy array for speed\n",
    "    featureVec = np.zeros(num_features,dtype=\"float32\")\n",
    "    nwords = 0\n",
    "    \n",
    "    #Converting Index2Word which is a list to a set for better speed in the execution.\n",
    "    index2word_set = set(model.wv.index2word)\n",
    "    \n",
    "    for word in  words:\n",
    "        if word in index2word_set:\n",
    "            nwords = nwords + 1\n",
    "            featureVec = np.add(featureVec,model[word])\n",
    "    \n",
    "    # Dividing the result by number of words to get average\n",
    "    featureVec = np.divide(featureVec, nwords)\n",
    "    return featureVec"
   ]
  },
  {
   "cell_type": "code",
   "execution_count": 54,
   "metadata": {},
   "outputs": [],
   "source": [
    "# Function for calculating the average feature vector\n",
    "def getAvgFeatureVecs(reviews, model, num_features):\n",
    "    counter = 0\n",
    "    reviewFeatureVecs = np.zeros((len(reviews),num_features),dtype=\"float32\")\n",
    "    for review in reviews:\n",
    "        # Printing a status message every 1000th review\n",
    "        if counter%1000 == 0:\n",
    "            print(\"Review %d of %d\"%(counter,len(reviews)))\n",
    "            \n",
    "        reviewFeatureVecs[counter] = featureVecMethod(review, model, num_features)\n",
    "        counter = counter+1\n",
    "        \n",
    "    return reviewFeatureVecs"
   ]
  },
  {
   "cell_type": "code",
   "execution_count": 56,
   "metadata": {},
   "outputs": [
    {
     "name": "stdout",
     "output_type": "stream",
     "text": [
      "Review 0 of 2000\n"
     ]
    },
    {
     "name": "stderr",
     "output_type": "stream",
     "text": [
      "C:\\ProgramData\\Anaconda3\\lib\\site-packages\\ipykernel_launcher.py:13: DeprecationWarning: Call to deprecated `__getitem__` (Method will be removed in 4.0.0, use self.wv.__getitem__() instead).\n",
      "  del sys.path[0]\n"
     ]
    },
    {
     "name": "stdout",
     "output_type": "stream",
     "text": [
      "Review 1000 of 2000\n"
     ]
    }
   ],
   "source": [
    "DataVecs = getAvgFeatureVecs(df['lemma'], model, num_features)"
   ]
  },
  {
   "cell_type": "code",
   "execution_count": 70,
   "metadata": {},
   "outputs": [
    {
     "name": "stdout",
     "output_type": "stream",
     "text": [
      "Dimension of Vector (2000, 300)\n"
     ]
    }
   ],
   "source": [
    "print(\"Dimension of Vector\",DataVecs.shape)\n",
    "#DataVecs[:1]"
   ]
  },
  {
   "cell_type": "code",
   "execution_count": 72,
   "metadata": {},
   "outputs": [
    {
     "name": "stdout",
     "output_type": "stream",
     "text": [
      "0    1\n",
      "1    1\n",
      "2    1\n",
      "3    1\n",
      "4    1\n",
      "Name: class2, dtype: int32\n"
     ]
    }
   ],
   "source": [
    "from sklearn.preprocessing import LabelEncoder\n",
    "Encoder = LabelEncoder()\n",
    "df['class2'] = Encoder.fit_transform(df['class'])\n",
    "print(df['class2'].head())\n"
   ]
  },
  {
   "cell_type": "code",
   "execution_count": 73,
   "metadata": {},
   "outputs": [],
   "source": [
    "from sklearn.model_selection import train_test_split\n",
    "Train_X, Test_X, Train_Y, Test_Y = train_test_split(DataVecs,df['class2'],test_size=0.2)"
   ]
  },
  {
   "cell_type": "code",
   "execution_count": 75,
   "metadata": {},
   "outputs": [
    {
     "name": "stdout",
     "output_type": "stream",
     "text": [
      "SVM Accuracy Score ->  55.0 %\n"
     ]
    }
   ],
   "source": [
    "# Classifier - Algorithm - SVM\n",
    "# fit the training dataset on the classifier\n",
    "SVM = svm.SVC(C=1.0, kernel='linear', degree=3, gamma='auto')\n",
    "SVM.fit(Train_X,Train_Y)\n",
    "# predict the labels on validation dataset\n",
    "predictions_SVM = SVM.predict(Test_X)\n",
    "# Use accuracy_score function to get the accuracy\n",
    "print(\"SVM Accuracy Score -> \",round(accuracy_score(predictions_SVM, Test_Y)*100,2),\"%\")"
   ]
  },
  {
   "cell_type": "code",
   "execution_count": 76,
   "metadata": {},
   "outputs": [
    {
     "data": {
      "text/plain": [
       "RandomForestClassifier(bootstrap=True, class_weight=None, criterion='entropy',\n",
       "                       max_depth=None, max_features='auto', max_leaf_nodes=None,\n",
       "                       min_impurity_decrease=0.0, min_impurity_split=None,\n",
       "                       min_samples_leaf=1, min_samples_split=2,\n",
       "                       min_weight_fraction_leaf=0.0, n_estimators=501,\n",
       "                       n_jobs=None, oob_score=False, random_state=None,\n",
       "                       verbose=0, warm_start=False)"
      ]
     },
     "execution_count": 76,
     "metadata": {},
     "output_type": "execute_result"
    }
   ],
   "source": [
    "# Fitting Random Forest Classification \n",
    "# to the Training set \n",
    "from sklearn.ensemble import RandomForestClassifier \n",
    "\n",
    "# n_estimators can be said as number of \n",
    "# trees, experiment with n_estimators \n",
    "# to get better results \n",
    "model = RandomForestClassifier(n_estimators = 501, criterion = 'entropy') \n",
    "model.fit(Train_X, Train_Y) "
   ]
  },
  {
   "cell_type": "code",
   "execution_count": 77,
   "metadata": {},
   "outputs": [],
   "source": [
    "# Predicting the Test set results \n",
    "y_pred = model.predict(Test_X) \n"
   ]
  },
  {
   "cell_type": "code",
   "execution_count": 78,
   "metadata": {},
   "outputs": [
    {
     "name": "stdout",
     "output_type": "stream",
     "text": [
      "Random forest Accuracy Score ->  57.25 %\n"
     ]
    }
   ],
   "source": [
    "# Making the Confusion Matrix \n",
    "from sklearn.metrics import confusion_matrix \n",
    "cm = confusion_matrix(Test_Y, y_pred) \n",
    "# Use accuracy_score function to get the accuracy\n",
    "print(\"Random forest Accuracy Score -> \",round(accuracy_score(y_pred, Test_Y)*100,2),\"%\")"
   ]
  },
  {
   "cell_type": "code",
   "execution_count": 79,
   "metadata": {},
   "outputs": [
    {
     "name": "stderr",
     "output_type": "stream",
     "text": [
      "C:\\ProgramData\\Anaconda3\\lib\\site-packages\\sklearn\\linear_model\\logistic.py:432: FutureWarning: Default solver will be changed to 'lbfgs' in 0.22. Specify a solver to silence this warning.\n",
      "  FutureWarning)\n"
     ]
    },
    {
     "name": "stdout",
     "output_type": "stream",
     "text": [
      "Wall time: 1.21 s\n",
      " ------ Confusion Matrix-----[TN FP  FN TP]\n",
      "[[109  94]\n",
      " [ 87 110]]\n",
      "              precision    recall  f1-score   support\n",
      "\n",
      "           0       0.56      0.54      0.55       203\n",
      "           1       0.54      0.56      0.55       197\n",
      "\n",
      "    accuracy                           0.55       400\n",
      "   macro avg       0.55      0.55      0.55       400\n",
      "weighted avg       0.55      0.55      0.55       400\n",
      "\n",
      "Logistic Regression Accuracy Score ->  54.75 %\n",
      "Logistic Regression Area under curve ->  0.55\n"
     ]
    }
   ],
   "source": [
    "# 1. import\n",
    "from sklearn.linear_model import LogisticRegression\n",
    "from sklearn import metrics\n",
    "# 2. instantiate a logistic regression model\n",
    "logreg = LogisticRegression()\n",
    "# 3. train the model using X_train_dtm\n",
    "%time logreg.fit(Train_X, Train_Y)#4. make class predictions for Test_X\n",
    "predictions_log = logreg.predict(Test_X)\n",
    "\n",
    "print(\" ------ Confusion Matrix-----[TN FP  FN TP]\")\n",
    "\n",
    "print(metrics.confusion_matrix(predictions_log, Test_Y))\n",
    "print(metrics.classification_report(predictions_log, Test_Y))\n",
    "# Use accuracy_score function to get the accuracy\n",
    "print(\"Logistic Regression Accuracy Score -> \",round(accuracy_score(predictions_log, Test_Y)*100,2),\"%\")\n",
    "print(\"Logistic Regression Area under curve -> \",round(metrics.roc_auc_score(predictions_log, Test_Y),2))"
   ]
  },
  {
   "cell_type": "code",
   "execution_count": null,
   "metadata": {},
   "outputs": [],
   "source": []
  },
  {
   "cell_type": "code",
   "execution_count": null,
   "metadata": {},
   "outputs": [],
   "source": []
  }
 ],
 "metadata": {
  "kernelspec": {
   "display_name": "Python 3",
   "language": "python",
   "name": "python3"
  },
  "language_info": {
   "codemirror_mode": {
    "name": "ipython",
    "version": 3
   },
   "file_extension": ".py",
   "mimetype": "text/x-python",
   "name": "python",
   "nbconvert_exporter": "python",
   "pygments_lexer": "ipython3",
   "version": "3.7.3"
  }
 },
 "nbformat": 4,
 "nbformat_minor": 2
}
