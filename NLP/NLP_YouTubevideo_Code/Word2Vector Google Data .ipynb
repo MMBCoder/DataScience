{
 "cells": [
  {
   "cell_type": "code",
   "execution_count": 1,
   "metadata": {},
   "outputs": [],
   "source": [
    "#Install gensim and bokeh\n",
    "#!pip install gensim\n",
    "#!pip install bokeh"
   ]
  },
  {
   "cell_type": "markdown",
   "metadata": {},
   "source": [
    " Dataset : https://code.google.com/archive/p/word2vec/\n",
    "#Google News dataset (about 100 billion words). The model contains 300-dimensional vectors for 3 million words and phrases. "
   ]
  },
  {
   "cell_type": "code",
   "execution_count": 1,
   "metadata": {},
   "outputs": [],
   "source": [
    "Path=r'C:\\Users\\Arun\\Desktop\\Nipu\\GoogleNews-vectors-negative300.bin'"
   ]
  },
  {
   "cell_type": "code",
   "execution_count": 3,
   "metadata": {},
   "outputs": [
    {
     "name": "stdout",
     "output_type": "stream",
     "text": [
      "Here is the Vocabulary Size.. 3000000\n"
     ]
    },
    {
     "name": "stderr",
     "output_type": "stream",
     "text": [
      "C:\\ProgramData\\Anaconda3\\lib\\site-packages\\ipykernel_launcher.py:6: DeprecationWarning: Call to deprecated `wv` (Attribute will be removed in 4.0.0, use self instead).\n",
      "  \n"
     ]
    }
   ],
   "source": [
    "import gensim\n",
    "#train word2vec model\n",
    "# Load Google's pre-trained Word2Vec model.\n",
    "model = gensim.models.KeyedVectors.load_word2vec_format(Path, binary=True)  \n",
    "#Vocabulary size\n",
    "words = list(model.wv.vocab)\n",
    "print('Here is the Vocabulary Size.. %d' % len(words))"
   ]
  },
  {
   "cell_type": "markdown",
   "metadata": {},
   "source": [
    "Word2vec makes each word a vector. We are using the 300-number vector, which can be seen for the word \"king\"."
   ]
  },
  {
   "cell_type": "code",
   "execution_count": 17,
   "metadata": {},
   "outputs": [
    {
     "name": "stdout",
     "output_type": "stream",
     "text": [
      "Array length of Word 'King':- 300\n"
     ]
    }
   ],
   "source": [
    "w = model['king']\n",
    "print(\"Array length of Word 'King':-\",len(w))"
   ]
  },
  {
   "cell_type": "code",
   "execution_count": 19,
   "metadata": {},
   "outputs": [
    {
     "name": "stdout",
     "output_type": "stream",
     "text": [
      "'King' 300 dimension array values:-\n",
      "[ 1.25976562e-01  2.97851562e-02  8.60595703e-03  1.39648438e-01\n",
      " -2.56347656e-02 -3.61328125e-02  1.11816406e-01 -1.98242188e-01\n",
      "  5.12695312e-02  3.63281250e-01 -2.42187500e-01 -3.02734375e-01\n",
      " -1.77734375e-01 -2.49023438e-02 -1.67968750e-01 -1.69921875e-01\n",
      "  3.46679688e-02  5.21850586e-03  4.63867188e-02  1.28906250e-01\n",
      "  1.36718750e-01  1.12792969e-01  5.95703125e-02  1.36718750e-01\n",
      "  1.01074219e-01 -1.76757812e-01 -2.51953125e-01  5.98144531e-02\n",
      "  3.41796875e-01 -3.11279297e-02  1.04492188e-01  6.17675781e-02\n",
      "  1.24511719e-01  4.00390625e-01 -3.22265625e-01  8.39843750e-02\n",
      "  3.90625000e-02  5.85937500e-03  7.03125000e-02  1.72851562e-01\n",
      "  1.38671875e-01 -2.31445312e-01  2.83203125e-01  1.42578125e-01\n",
      "  3.41796875e-01 -2.39257812e-02 -1.09863281e-01  3.32031250e-02\n",
      " -5.46875000e-02  1.53198242e-02 -1.62109375e-01  1.58203125e-01\n",
      " -2.59765625e-01  2.01416016e-02 -1.63085938e-01  1.35803223e-03\n",
      " -1.44531250e-01 -5.68847656e-02  4.29687500e-02 -2.46582031e-02\n",
      "  1.85546875e-01  4.47265625e-01  9.58251953e-03  1.31835938e-01\n",
      "  9.86328125e-02 -1.85546875e-01 -1.00097656e-01 -1.33789062e-01\n",
      " -1.25000000e-01  2.83203125e-01  1.23046875e-01  5.32226562e-02\n",
      " -1.77734375e-01  8.59375000e-02 -2.18505859e-02  2.05078125e-02\n",
      " -1.39648438e-01  2.51464844e-02  1.38671875e-01 -1.05468750e-01\n",
      "  1.38671875e-01  8.88671875e-02 -7.51953125e-02 -2.13623047e-02\n",
      "  1.72851562e-01  4.63867188e-02 -2.65625000e-01  8.91113281e-03\n",
      "  1.49414062e-01  3.78417969e-02  2.38281250e-01 -1.24511719e-01\n",
      " -2.17773438e-01 -1.81640625e-01  2.97851562e-02  5.71289062e-02\n",
      " -2.89306641e-02  1.24511719e-02  9.66796875e-02 -2.31445312e-01\n",
      "  5.81054688e-02  6.68945312e-02  7.08007812e-02 -3.08593750e-01\n",
      " -2.14843750e-01  1.45507812e-01 -4.27734375e-01 -9.39941406e-03\n",
      "  1.54296875e-01 -7.66601562e-02  2.89062500e-01  2.77343750e-01\n",
      " -4.86373901e-04 -1.36718750e-01  3.24218750e-01 -2.46093750e-01\n",
      " -3.03649902e-03 -2.11914062e-01  1.25000000e-01  2.69531250e-01\n",
      "  2.04101562e-01  8.25195312e-02 -2.01171875e-01 -1.60156250e-01\n",
      " -3.78417969e-02 -1.20117188e-01  1.15234375e-01 -4.10156250e-02\n",
      " -3.95507812e-02 -8.98437500e-02  6.34765625e-03  2.03125000e-01\n",
      "  1.86523438e-01  2.73437500e-01  6.29882812e-02  1.41601562e-01\n",
      " -9.81445312e-02  1.38671875e-01  1.82617188e-01  1.73828125e-01\n",
      "  1.73828125e-01 -2.37304688e-01  1.78710938e-01  6.34765625e-02\n",
      "  2.36328125e-01 -2.08984375e-01  8.74023438e-02 -1.66015625e-01\n",
      " -7.91015625e-02  2.43164062e-01 -8.88671875e-02  1.26953125e-01\n",
      " -2.16796875e-01 -1.73828125e-01 -3.59375000e-01 -8.25195312e-02\n",
      " -6.49414062e-02  5.07812500e-02  1.35742188e-01 -7.47070312e-02\n",
      " -1.64062500e-01  1.15356445e-02  4.45312500e-01 -2.15820312e-01\n",
      " -1.11328125e-01 -1.92382812e-01  1.70898438e-01 -1.25000000e-01\n",
      "  2.65502930e-03  1.92382812e-01 -1.74804688e-01  1.39648438e-01\n",
      "  2.92968750e-01  1.13281250e-01  5.95703125e-02 -6.39648438e-02\n",
      "  9.96093750e-02 -2.72216797e-02  1.96533203e-02  4.27246094e-02\n",
      " -2.46093750e-01  6.39648438e-02 -2.25585938e-01 -1.68945312e-01\n",
      "  2.89916992e-03  8.20312500e-02  3.41796875e-01  4.32128906e-02\n",
      "  1.32812500e-01  1.42578125e-01  7.61718750e-02  5.98144531e-02\n",
      " -1.19140625e-01  2.74658203e-03 -6.29882812e-02 -2.72216797e-02\n",
      " -4.82177734e-03 -8.20312500e-02 -2.49023438e-02 -4.00390625e-01\n",
      " -1.06933594e-01  4.24804688e-02  7.76367188e-02 -1.16699219e-01\n",
      "  7.37304688e-02 -9.22851562e-02  1.07910156e-01  1.58203125e-01\n",
      "  4.24804688e-02  1.26953125e-01  3.61328125e-02  2.67578125e-01\n",
      " -1.01074219e-01 -3.02734375e-01 -5.76171875e-02  5.05371094e-02\n",
      "  5.26428223e-04 -2.07031250e-01 -1.38671875e-01 -8.97216797e-03\n",
      " -2.78320312e-02 -1.41601562e-01  2.07031250e-01 -1.58203125e-01\n",
      "  1.27929688e-01  1.49414062e-01 -2.24609375e-02 -8.44726562e-02\n",
      "  1.22558594e-01  2.15820312e-01 -2.13867188e-01 -3.12500000e-01\n",
      " -3.73046875e-01  4.08935547e-03  1.07421875e-01  1.06933594e-01\n",
      "  7.32421875e-02  8.97216797e-03 -3.88183594e-02 -1.29882812e-01\n",
      "  1.49414062e-01 -2.14843750e-01 -1.83868408e-03  9.91210938e-02\n",
      "  1.57226562e-01 -1.14257812e-01 -2.05078125e-01  9.91210938e-02\n",
      "  3.69140625e-01 -1.97265625e-01  3.54003906e-02  1.09375000e-01\n",
      "  1.31835938e-01  1.66992188e-01  2.35351562e-01  1.04980469e-01\n",
      " -4.96093750e-01 -1.64062500e-01 -1.56250000e-01 -5.22460938e-02\n",
      "  1.03027344e-01  2.43164062e-01 -1.88476562e-01  5.07812500e-02\n",
      " -9.37500000e-02 -6.68945312e-02  2.27050781e-02  7.61718750e-02\n",
      "  2.89062500e-01  3.10546875e-01 -5.37109375e-02  2.28515625e-01\n",
      "  2.51464844e-02  6.78710938e-02 -1.21093750e-01 -2.15820312e-01\n",
      " -2.73437500e-01 -3.07617188e-02 -3.37890625e-01  1.53320312e-01\n",
      "  2.33398438e-01 -2.08007812e-01  3.73046875e-01  8.20312500e-02\n",
      "  2.51953125e-01 -7.61718750e-02 -4.66308594e-02 -2.23388672e-02\n",
      "  2.99072266e-02 -5.93261719e-02 -4.66918945e-03 -2.44140625e-01\n",
      " -2.09960938e-01 -2.87109375e-01 -4.54101562e-02 -1.77734375e-01\n",
      " -2.79296875e-01 -8.59375000e-02  9.13085938e-02  2.51953125e-01]\n"
     ]
    }
   ],
   "source": [
    "print(\"'King' 300 dimension array values:-\")\n",
    "print(w)"
   ]
  },
  {
   "cell_type": "markdown",
   "metadata": {},
   "source": [
    "**The following code shows which words are most similar to the given one.**"
   ]
  },
  {
   "cell_type": "code",
   "execution_count": 7,
   "metadata": {},
   "outputs": [
    {
     "data": {
      "text/plain": [
       "[('kings', 0.7138046026229858),\n",
       " ('queen', 0.6510957479476929),\n",
       " ('monarch', 0.6413194537162781),\n",
       " ('crown_prince', 0.6204220056533813),\n",
       " ('prince', 0.6159993410110474),\n",
       " ('sultan', 0.5864823460578918),\n",
       " ('ruler', 0.5797567367553711),\n",
       " ('princes', 0.5646551847457886),\n",
       " ('Prince_Paras', 0.5432944297790527),\n",
       " ('throne', 0.5422104597091675)]"
      ]
     },
     "execution_count": 7,
     "metadata": {},
     "output_type": "execute_result"
    }
   ],
   "source": [
    "model.most_similar('king')"
   ]
  },
  {
   "cell_type": "markdown",
   "metadata": {},
   "source": [
    "Kings,queen,monarch,crown_prince,sultan...etc these words are similar to word 'king'"
   ]
  },
  {
   "cell_type": "code",
   "execution_count": 8,
   "metadata": {},
   "outputs": [
    {
     "data": {
      "text/plain": [
       "[('queens', 0.7399442791938782),\n",
       " ('princess', 0.7070531249046326),\n",
       " ('king', 0.6510956883430481),\n",
       " ('monarch', 0.6383601427078247),\n",
       " ('very_pampered_McElhatton', 0.6357026696205139),\n",
       " ('Queen', 0.6163408160209656),\n",
       " ('NYC_anglophiles_aflutter', 0.6060680150985718),\n",
       " ('Queen_Consort', 0.592379629611969),\n",
       " ('princesses', 0.5908075571060181),\n",
       " ('royal', 0.5637185573577881)]"
      ]
     },
     "execution_count": 8,
     "metadata": {},
     "output_type": "execute_result"
    }
   ],
   "source": [
    "model.most_similar('queen')"
   ]
  },
  {
   "cell_type": "markdown",
   "metadata": {},
   "source": [
    "queen,princess,king,monarch,queen...etc these words are similar to word 'queen'"
   ]
  },
  {
   "cell_type": "markdown",
   "metadata": {},
   "source": [
    "**The following code shows the similarity between two words.**"
   ]
  },
  {
   "cell_type": "code",
   "execution_count": 9,
   "metadata": {},
   "outputs": [
    {
     "data": {
      "text/plain": [
       "0.6510957"
      ]
     },
     "execution_count": 9,
     "metadata": {},
     "output_type": "execute_result"
    }
   ],
   "source": [
    "model.similarity('king', 'queen')"
   ]
  },
  {
   "cell_type": "markdown",
   "metadata": {},
   "source": [
    "65% have probability both have similar words"
   ]
  },
  {
   "cell_type": "markdown",
   "metadata": {},
   "source": [
    "**The code below shows the distance between two words.**"
   ]
  },
  {
   "cell_type": "code",
   "execution_count": 10,
   "metadata": {},
   "outputs": [
    {
     "name": "stdout",
     "output_type": "stream",
     "text": [
      "Distance Between King & queen:- 2.4796925\n"
     ]
    }
   ],
   "source": [
    "import numpy as np\n",
    "\n",
    "w1 = model['king']\n",
    "w2 = model['queen']\n",
    "\n",
    "dist = np.linalg.norm(w1-w2)\n",
    "\n",
    "print(\"Distance Between King & queen:-\",dist)"
   ]
  },
  {
   "cell_type": "markdown",
   "metadata": {},
   "source": [
    "**This shows the classic word2vec equation of queen = (king - man) + female**"
   ]
  },
  {
   "cell_type": "code",
   "execution_count": 11,
   "metadata": {},
   "outputs": [
    {
     "data": {
      "text/plain": [
       "[('queen', 0.7118192315101624),\n",
       " ('monarch', 0.6189674735069275),\n",
       " ('princess', 0.5902431011199951),\n",
       " ('crown_prince', 0.5499460697174072),\n",
       " ('prince', 0.5377321243286133),\n",
       " ('kings', 0.5236844420433044),\n",
       " ('Queen_Consort', 0.5235946178436279),\n",
       " ('queens', 0.518113374710083),\n",
       " ('sultan', 0.5098593235015869),\n",
       " ('monarchy', 0.5087411999702454)]"
      ]
     },
     "execution_count": 11,
     "metadata": {},
     "output_type": "execute_result"
    }
   ],
   "source": [
    "model.most_similar(positive=['woman', 'king'], negative=['man'])"
   ]
  },
  {
   "cell_type": "markdown",
   "metadata": {},
   "source": [
    " 71% have probability 'queen' is the correct value of equation \" queen = (king - man) + female\""
   ]
  },
  {
   "cell_type": "markdown",
   "metadata": {},
   "source": [
    "**The following code shows which item does not belong with the others.**"
   ]
  },
  {
   "cell_type": "code",
   "execution_count": 12,
   "metadata": {},
   "outputs": [
    {
     "name": "stderr",
     "output_type": "stream",
     "text": [
      "C:\\ProgramData\\Anaconda3\\lib\\site-packages\\gensim\\models\\keyedvectors.py:877: FutureWarning: arrays to stack must be passed as a \"sequence\" type such as list or tuple. Support for non-sequence iterables such as generators is deprecated as of NumPy 1.16 and will raise an error in the future.\n",
      "  vectors = vstack(self.word_vec(word, use_norm=True) for word in used_words).astype(REAL)\n"
     ]
    },
    {
     "data": {
      "text/plain": [
       "'apple'"
      ]
     },
     "execution_count": 12,
     "metadata": {},
     "output_type": "execute_result"
    }
   ],
   "source": [
    "model.doesnt_match(\"man king queen apple\".split())"
   ]
  },
  {
   "cell_type": "markdown",
   "metadata": {},
   "source": [
    "**Visualization of vocabalary in 2-D Space**"
   ]
  },
  {
   "cell_type": "code",
   "execution_count": 53,
   "metadata": {},
   "outputs": [
    {
     "data": {
      "text/html": [
       "\n",
       "    <div class=\"bk-root\">\n",
       "        <a href=\"https://bokeh.org\" target=\"_blank\" class=\"bk-logo bk-logo-small bk-logo-notebook\"></a>\n",
       "        <span id=\"1521\">Loading BokehJS ...</span>\n",
       "    </div>"
      ]
     },
     "metadata": {},
     "output_type": "display_data"
    },
    {
     "data": {
      "application/javascript": [
       "\n",
       "(function(root) {\n",
       "  function now() {\n",
       "    return new Date();\n",
       "  }\n",
       "\n",
       "  var force = true;\n",
       "\n",
       "  if (typeof root._bokeh_onload_callbacks === \"undefined\" || force === true) {\n",
       "    root._bokeh_onload_callbacks = [];\n",
       "    root._bokeh_is_loading = undefined;\n",
       "  }\n",
       "\n",
       "  var JS_MIME_TYPE = 'application/javascript';\n",
       "  var HTML_MIME_TYPE = 'text/html';\n",
       "  var EXEC_MIME_TYPE = 'application/vnd.bokehjs_exec.v0+json';\n",
       "  var CLASS_NAME = 'output_bokeh rendered_html';\n",
       "\n",
       "  /**\n",
       "   * Render data to the DOM node\n",
       "   */\n",
       "  function render(props, node) {\n",
       "    var script = document.createElement(\"script\");\n",
       "    node.appendChild(script);\n",
       "  }\n",
       "\n",
       "  /**\n",
       "   * Handle when an output is cleared or removed\n",
       "   */\n",
       "  function handleClearOutput(event, handle) {\n",
       "    var cell = handle.cell;\n",
       "\n",
       "    var id = cell.output_area._bokeh_element_id;\n",
       "    var server_id = cell.output_area._bokeh_server_id;\n",
       "    // Clean up Bokeh references\n",
       "    if (id != null && id in Bokeh.index) {\n",
       "      Bokeh.index[id].model.document.clear();\n",
       "      delete Bokeh.index[id];\n",
       "    }\n",
       "\n",
       "    if (server_id !== undefined) {\n",
       "      // Clean up Bokeh references\n",
       "      var cmd = \"from bokeh.io.state import curstate; print(curstate().uuid_to_server['\" + server_id + \"'].get_sessions()[0].document.roots[0]._id)\";\n",
       "      cell.notebook.kernel.execute(cmd, {\n",
       "        iopub: {\n",
       "          output: function(msg) {\n",
       "            var id = msg.content.text.trim();\n",
       "            if (id in Bokeh.index) {\n",
       "              Bokeh.index[id].model.document.clear();\n",
       "              delete Bokeh.index[id];\n",
       "            }\n",
       "          }\n",
       "        }\n",
       "      });\n",
       "      // Destroy server and session\n",
       "      var cmd = \"import bokeh.io.notebook as ion; ion.destroy_server('\" + server_id + \"')\";\n",
       "      cell.notebook.kernel.execute(cmd);\n",
       "    }\n",
       "  }\n",
       "\n",
       "  /**\n",
       "   * Handle when a new output is added\n",
       "   */\n",
       "  function handleAddOutput(event, handle) {\n",
       "    var output_area = handle.output_area;\n",
       "    var output = handle.output;\n",
       "\n",
       "    // limit handleAddOutput to display_data with EXEC_MIME_TYPE content only\n",
       "    if ((output.output_type != \"display_data\") || (!output.data.hasOwnProperty(EXEC_MIME_TYPE))) {\n",
       "      return\n",
       "    }\n",
       "\n",
       "    var toinsert = output_area.element.find(\".\" + CLASS_NAME.split(' ')[0]);\n",
       "\n",
       "    if (output.metadata[EXEC_MIME_TYPE][\"id\"] !== undefined) {\n",
       "      toinsert[toinsert.length - 1].firstChild.textContent = output.data[JS_MIME_TYPE];\n",
       "      // store reference to embed id on output_area\n",
       "      output_area._bokeh_element_id = output.metadata[EXEC_MIME_TYPE][\"id\"];\n",
       "    }\n",
       "    if (output.metadata[EXEC_MIME_TYPE][\"server_id\"] !== undefined) {\n",
       "      var bk_div = document.createElement(\"div\");\n",
       "      bk_div.innerHTML = output.data[HTML_MIME_TYPE];\n",
       "      var script_attrs = bk_div.children[0].attributes;\n",
       "      for (var i = 0; i < script_attrs.length; i++) {\n",
       "        toinsert[toinsert.length - 1].firstChild.setAttribute(script_attrs[i].name, script_attrs[i].value);\n",
       "        toinsert[toinsert.length - 1].firstChild.textContent = bk_div.children[0].textContent\n",
       "      }\n",
       "      // store reference to server id on output_area\n",
       "      output_area._bokeh_server_id = output.metadata[EXEC_MIME_TYPE][\"server_id\"];\n",
       "    }\n",
       "  }\n",
       "\n",
       "  function register_renderer(events, OutputArea) {\n",
       "\n",
       "    function append_mime(data, metadata, element) {\n",
       "      // create a DOM node to render to\n",
       "      var toinsert = this.create_output_subarea(\n",
       "        metadata,\n",
       "        CLASS_NAME,\n",
       "        EXEC_MIME_TYPE\n",
       "      );\n",
       "      this.keyboard_manager.register_events(toinsert);\n",
       "      // Render to node\n",
       "      var props = {data: data, metadata: metadata[EXEC_MIME_TYPE]};\n",
       "      render(props, toinsert[toinsert.length - 1]);\n",
       "      element.append(toinsert);\n",
       "      return toinsert\n",
       "    }\n",
       "\n",
       "    /* Handle when an output is cleared or removed */\n",
       "    events.on('clear_output.CodeCell', handleClearOutput);\n",
       "    events.on('delete.Cell', handleClearOutput);\n",
       "\n",
       "    /* Handle when a new output is added */\n",
       "    events.on('output_added.OutputArea', handleAddOutput);\n",
       "\n",
       "    /**\n",
       "     * Register the mime type and append_mime function with output_area\n",
       "     */\n",
       "    OutputArea.prototype.register_mime_type(EXEC_MIME_TYPE, append_mime, {\n",
       "      /* Is output safe? */\n",
       "      safe: true,\n",
       "      /* Index of renderer in `output_area.display_order` */\n",
       "      index: 0\n",
       "    });\n",
       "  }\n",
       "\n",
       "  // register the mime type if in Jupyter Notebook environment and previously unregistered\n",
       "  if (root.Jupyter !== undefined) {\n",
       "    var events = require('base/js/events');\n",
       "    var OutputArea = require('notebook/js/outputarea').OutputArea;\n",
       "\n",
       "    if (OutputArea.prototype.mime_types().indexOf(EXEC_MIME_TYPE) == -1) {\n",
       "      register_renderer(events, OutputArea);\n",
       "    }\n",
       "  }\n",
       "\n",
       "  \n",
       "  if (typeof (root._bokeh_timeout) === \"undefined\" || force === true) {\n",
       "    root._bokeh_timeout = Date.now() + 5000;\n",
       "    root._bokeh_failed_load = false;\n",
       "  }\n",
       "\n",
       "  var NB_LOAD_WARNING = {'data': {'text/html':\n",
       "     \"<div style='background-color: #fdd'>\\n\"+\n",
       "     \"<p>\\n\"+\n",
       "     \"BokehJS does not appear to have successfully loaded. If loading BokehJS from CDN, this \\n\"+\n",
       "     \"may be due to a slow or bad network connection. Possible fixes:\\n\"+\n",
       "     \"</p>\\n\"+\n",
       "     \"<ul>\\n\"+\n",
       "     \"<li>re-rerun `output_notebook()` to attempt to load from CDN again, or</li>\\n\"+\n",
       "     \"<li>use INLINE resources instead, as so:</li>\\n\"+\n",
       "     \"</ul>\\n\"+\n",
       "     \"<code>\\n\"+\n",
       "     \"from bokeh.resources import INLINE\\n\"+\n",
       "     \"output_notebook(resources=INLINE)\\n\"+\n",
       "     \"</code>\\n\"+\n",
       "     \"</div>\"}};\n",
       "\n",
       "  function display_loaded() {\n",
       "    var el = document.getElementById(\"1521\");\n",
       "    if (el != null) {\n",
       "      el.textContent = \"BokehJS is loading...\";\n",
       "    }\n",
       "    if (root.Bokeh !== undefined) {\n",
       "      if (el != null) {\n",
       "        el.textContent = \"BokehJS \" + root.Bokeh.version + \" successfully loaded.\";\n",
       "      }\n",
       "    } else if (Date.now() < root._bokeh_timeout) {\n",
       "      setTimeout(display_loaded, 100)\n",
       "    }\n",
       "  }\n",
       "\n",
       "\n",
       "  function run_callbacks() {\n",
       "    try {\n",
       "      root._bokeh_onload_callbacks.forEach(function(callback) {\n",
       "        if (callback != null)\n",
       "          callback();\n",
       "      });\n",
       "    } finally {\n",
       "      delete root._bokeh_onload_callbacks\n",
       "    }\n",
       "    console.debug(\"Bokeh: all callbacks have finished\");\n",
       "  }\n",
       "\n",
       "  function load_libs(css_urls, js_urls, callback) {\n",
       "    if (css_urls == null) css_urls = [];\n",
       "    if (js_urls == null) js_urls = [];\n",
       "\n",
       "    root._bokeh_onload_callbacks.push(callback);\n",
       "    if (root._bokeh_is_loading > 0) {\n",
       "      console.debug(\"Bokeh: BokehJS is being loaded, scheduling callback at\", now());\n",
       "      return null;\n",
       "    }\n",
       "    if (js_urls == null || js_urls.length === 0) {\n",
       "      run_callbacks();\n",
       "      return null;\n",
       "    }\n",
       "    console.debug(\"Bokeh: BokehJS not loaded, scheduling load and callback at\", now());\n",
       "    root._bokeh_is_loading = css_urls.length + js_urls.length;\n",
       "\n",
       "    function on_load() {\n",
       "      root._bokeh_is_loading--;\n",
       "      if (root._bokeh_is_loading === 0) {\n",
       "        console.debug(\"Bokeh: all BokehJS libraries/stylesheets loaded\");\n",
       "        run_callbacks()\n",
       "      }\n",
       "    }\n",
       "\n",
       "    function on_error() {\n",
       "      console.error(\"failed to load \" + url);\n",
       "    }\n",
       "\n",
       "    for (var i = 0; i < css_urls.length; i++) {\n",
       "      var url = css_urls[i];\n",
       "      const element = document.createElement(\"link\");\n",
       "      element.onload = on_load;\n",
       "      element.onerror = on_error;\n",
       "      element.rel = \"stylesheet\";\n",
       "      element.type = \"text/css\";\n",
       "      element.href = url;\n",
       "      console.debug(\"Bokeh: injecting link tag for BokehJS stylesheet: \", url);\n",
       "      document.body.appendChild(element);\n",
       "    }\n",
       "\n",
       "    const hashes = {\"https://cdn.bokeh.org/bokeh/release/bokeh-2.0.1.min.js\": \"JpP8FXbgAZLkfur7LiK3j9AGBhHNIvF742meBJrjO2ShJDhCG2I1uVvW+0DUtrmc\", \"https://cdn.bokeh.org/bokeh/release/bokeh-widgets-2.0.1.min.js\": \"xZlADit0Q04ISQEdKg2k3L4W9AwQBAuDs9nJL9fM/WwzL1tEU9VPNezOFX0nLEAz\", \"https://cdn.bokeh.org/bokeh/release/bokeh-tables-2.0.1.min.js\": \"4BuPRZkdMKSnj3zoxiNrQ86XgNw0rYmBOxe7nshquXwwcauupgBF2DHLVG1WuZlV\", \"https://cdn.bokeh.org/bokeh/release/bokeh-gl-2.0.1.min.js\": \"Dv1SQ87hmDqK6S5OhBf0bCuwAEvL5QYL0PuR/F1SPVhCS/r/abjkbpKDYL2zeM19\"};\n",
       "\n",
       "    for (var i = 0; i < js_urls.length; i++) {\n",
       "      var url = js_urls[i];\n",
       "      var element = document.createElement('script');\n",
       "      element.onload = on_load;\n",
       "      element.onerror = on_error;\n",
       "      element.async = false;\n",
       "      element.src = url;\n",
       "      if (url in hashes) {\n",
       "        element.crossOrigin = \"anonymous\";\n",
       "        element.integrity = \"sha384-\" + hashes[url];\n",
       "      }\n",
       "      console.debug(\"Bokeh: injecting script tag for BokehJS library: \", url);\n",
       "      document.head.appendChild(element);\n",
       "    }\n",
       "  };var element = document.getElementById(\"1521\");\n",
       "  if (element == null) {\n",
       "    console.error(\"Bokeh: ERROR: autoload.js configured with elementid '1521' but no matching script tag was found. \")\n",
       "    return false;\n",
       "  }\n",
       "\n",
       "  function inject_raw_css(css) {\n",
       "    const element = document.createElement(\"style\");\n",
       "    element.appendChild(document.createTextNode(css));\n",
       "    document.body.appendChild(element);\n",
       "  }\n",
       "\n",
       "  \n",
       "  var js_urls = [\"https://cdn.bokeh.org/bokeh/release/bokeh-2.0.1.min.js\", \"https://cdn.bokeh.org/bokeh/release/bokeh-widgets-2.0.1.min.js\", \"https://cdn.bokeh.org/bokeh/release/bokeh-tables-2.0.1.min.js\", \"https://cdn.bokeh.org/bokeh/release/bokeh-gl-2.0.1.min.js\"];\n",
       "  var css_urls = [];\n",
       "  \n",
       "\n",
       "  var inline_js = [\n",
       "    function(Bokeh) {\n",
       "      Bokeh.set_log_level(\"info\");\n",
       "    },\n",
       "    function(Bokeh) {\n",
       "    \n",
       "    \n",
       "    }\n",
       "  ];\n",
       "\n",
       "  function run_inline_js() {\n",
       "    \n",
       "    if (root.Bokeh !== undefined || force === true) {\n",
       "      \n",
       "    for (var i = 0; i < inline_js.length; i++) {\n",
       "      inline_js[i].call(root, root.Bokeh);\n",
       "    }\n",
       "    if (force === true) {\n",
       "        display_loaded();\n",
       "      }} else if (Date.now() < root._bokeh_timeout) {\n",
       "      setTimeout(run_inline_js, 100);\n",
       "    } else if (!root._bokeh_failed_load) {\n",
       "      console.log(\"Bokeh: BokehJS failed to load within specified timeout.\");\n",
       "      root._bokeh_failed_load = true;\n",
       "    } else if (force !== true) {\n",
       "      var cell = $(document.getElementById(\"1521\")).parents('.cell').data().cell;\n",
       "      cell.output_area.append_execute_result(NB_LOAD_WARNING)\n",
       "    }\n",
       "\n",
       "  }\n",
       "\n",
       "  if (root._bokeh_is_loading === 0) {\n",
       "    console.debug(\"Bokeh: BokehJS loaded, going straight to plotting\");\n",
       "    run_inline_js();\n",
       "  } else {\n",
       "    load_libs(css_urls, js_urls, function() {\n",
       "      console.debug(\"Bokeh: BokehJS plotting callback run at\", now());\n",
       "      run_inline_js();\n",
       "    });\n",
       "  }\n",
       "}(window));"
      ],
      "application/vnd.bokehjs_load.v0+json": "\n(function(root) {\n  function now() {\n    return new Date();\n  }\n\n  var force = true;\n\n  if (typeof root._bokeh_onload_callbacks === \"undefined\" || force === true) {\n    root._bokeh_onload_callbacks = [];\n    root._bokeh_is_loading = undefined;\n  }\n\n  \n\n  \n  if (typeof (root._bokeh_timeout) === \"undefined\" || force === true) {\n    root._bokeh_timeout = Date.now() + 5000;\n    root._bokeh_failed_load = false;\n  }\n\n  var NB_LOAD_WARNING = {'data': {'text/html':\n     \"<div style='background-color: #fdd'>\\n\"+\n     \"<p>\\n\"+\n     \"BokehJS does not appear to have successfully loaded. If loading BokehJS from CDN, this \\n\"+\n     \"may be due to a slow or bad network connection. Possible fixes:\\n\"+\n     \"</p>\\n\"+\n     \"<ul>\\n\"+\n     \"<li>re-rerun `output_notebook()` to attempt to load from CDN again, or</li>\\n\"+\n     \"<li>use INLINE resources instead, as so:</li>\\n\"+\n     \"</ul>\\n\"+\n     \"<code>\\n\"+\n     \"from bokeh.resources import INLINE\\n\"+\n     \"output_notebook(resources=INLINE)\\n\"+\n     \"</code>\\n\"+\n     \"</div>\"}};\n\n  function display_loaded() {\n    var el = document.getElementById(\"1521\");\n    if (el != null) {\n      el.textContent = \"BokehJS is loading...\";\n    }\n    if (root.Bokeh !== undefined) {\n      if (el != null) {\n        el.textContent = \"BokehJS \" + root.Bokeh.version + \" successfully loaded.\";\n      }\n    } else if (Date.now() < root._bokeh_timeout) {\n      setTimeout(display_loaded, 100)\n    }\n  }\n\n\n  function run_callbacks() {\n    try {\n      root._bokeh_onload_callbacks.forEach(function(callback) {\n        if (callback != null)\n          callback();\n      });\n    } finally {\n      delete root._bokeh_onload_callbacks\n    }\n    console.debug(\"Bokeh: all callbacks have finished\");\n  }\n\n  function load_libs(css_urls, js_urls, callback) {\n    if (css_urls == null) css_urls = [];\n    if (js_urls == null) js_urls = [];\n\n    root._bokeh_onload_callbacks.push(callback);\n    if (root._bokeh_is_loading > 0) {\n      console.debug(\"Bokeh: BokehJS is being loaded, scheduling callback at\", now());\n      return null;\n    }\n    if (js_urls == null || js_urls.length === 0) {\n      run_callbacks();\n      return null;\n    }\n    console.debug(\"Bokeh: BokehJS not loaded, scheduling load and callback at\", now());\n    root._bokeh_is_loading = css_urls.length + js_urls.length;\n\n    function on_load() {\n      root._bokeh_is_loading--;\n      if (root._bokeh_is_loading === 0) {\n        console.debug(\"Bokeh: all BokehJS libraries/stylesheets loaded\");\n        run_callbacks()\n      }\n    }\n\n    function on_error() {\n      console.error(\"failed to load \" + url);\n    }\n\n    for (var i = 0; i < css_urls.length; i++) {\n      var url = css_urls[i];\n      const element = document.createElement(\"link\");\n      element.onload = on_load;\n      element.onerror = on_error;\n      element.rel = \"stylesheet\";\n      element.type = \"text/css\";\n      element.href = url;\n      console.debug(\"Bokeh: injecting link tag for BokehJS stylesheet: \", url);\n      document.body.appendChild(element);\n    }\n\n    const hashes = {\"https://cdn.bokeh.org/bokeh/release/bokeh-2.0.1.min.js\": \"JpP8FXbgAZLkfur7LiK3j9AGBhHNIvF742meBJrjO2ShJDhCG2I1uVvW+0DUtrmc\", \"https://cdn.bokeh.org/bokeh/release/bokeh-widgets-2.0.1.min.js\": \"xZlADit0Q04ISQEdKg2k3L4W9AwQBAuDs9nJL9fM/WwzL1tEU9VPNezOFX0nLEAz\", \"https://cdn.bokeh.org/bokeh/release/bokeh-tables-2.0.1.min.js\": \"4BuPRZkdMKSnj3zoxiNrQ86XgNw0rYmBOxe7nshquXwwcauupgBF2DHLVG1WuZlV\", \"https://cdn.bokeh.org/bokeh/release/bokeh-gl-2.0.1.min.js\": \"Dv1SQ87hmDqK6S5OhBf0bCuwAEvL5QYL0PuR/F1SPVhCS/r/abjkbpKDYL2zeM19\"};\n\n    for (var i = 0; i < js_urls.length; i++) {\n      var url = js_urls[i];\n      var element = document.createElement('script');\n      element.onload = on_load;\n      element.onerror = on_error;\n      element.async = false;\n      element.src = url;\n      if (url in hashes) {\n        element.crossOrigin = \"anonymous\";\n        element.integrity = \"sha384-\" + hashes[url];\n      }\n      console.debug(\"Bokeh: injecting script tag for BokehJS library: \", url);\n      document.head.appendChild(element);\n    }\n  };var element = document.getElementById(\"1521\");\n  if (element == null) {\n    console.error(\"Bokeh: ERROR: autoload.js configured with elementid '1521' but no matching script tag was found. \")\n    return false;\n  }\n\n  function inject_raw_css(css) {\n    const element = document.createElement(\"style\");\n    element.appendChild(document.createTextNode(css));\n    document.body.appendChild(element);\n  }\n\n  \n  var js_urls = [\"https://cdn.bokeh.org/bokeh/release/bokeh-2.0.1.min.js\", \"https://cdn.bokeh.org/bokeh/release/bokeh-widgets-2.0.1.min.js\", \"https://cdn.bokeh.org/bokeh/release/bokeh-tables-2.0.1.min.js\", \"https://cdn.bokeh.org/bokeh/release/bokeh-gl-2.0.1.min.js\"];\n  var css_urls = [];\n  \n\n  var inline_js = [\n    function(Bokeh) {\n      Bokeh.set_log_level(\"info\");\n    },\n    function(Bokeh) {\n    \n    \n    }\n  ];\n\n  function run_inline_js() {\n    \n    if (root.Bokeh !== undefined || force === true) {\n      \n    for (var i = 0; i < inline_js.length; i++) {\n      inline_js[i].call(root, root.Bokeh);\n    }\n    if (force === true) {\n        display_loaded();\n      }} else if (Date.now() < root._bokeh_timeout) {\n      setTimeout(run_inline_js, 100);\n    } else if (!root._bokeh_failed_load) {\n      console.log(\"Bokeh: BokehJS failed to load within specified timeout.\");\n      root._bokeh_failed_load = true;\n    } else if (force !== true) {\n      var cell = $(document.getElementById(\"1521\")).parents('.cell').data().cell;\n      cell.output_area.append_execute_result(NB_LOAD_WARNING)\n    }\n\n  }\n\n  if (root._bokeh_is_loading === 0) {\n    console.debug(\"Bokeh: BokehJS loaded, going straight to plotting\");\n    run_inline_js();\n  } else {\n    load_libs(css_urls, js_urls, function() {\n      console.debug(\"Bokeh: BokehJS plotting callback run at\", now());\n      run_inline_js();\n    });\n  }\n}(window));"
     },
     "metadata": {},
     "output_type": "display_data"
    },
    {
     "name": "stderr",
     "output_type": "stream",
     "text": [
      "C:\\ProgramData\\Anaconda3\\lib\\site-packages\\ipykernel_launcher.py:14: DeprecationWarning: Call to deprecated `wv` (Attribute will be removed in 4.0.0, use self instead).\n",
      "  \n"
     ]
    },
    {
     "name": "stdout",
     "output_type": "stream",
     "text": [
      "[t-SNE] Computing 91 nearest neighbors...\n",
      "[t-SNE] Indexed 3000 samples in 0.424s...\n",
      "[t-SNE] Computed neighbors for 3000 samples in 9.688s...\n",
      "[t-SNE] Computed conditional probabilities for sample 1000 / 3000\n",
      "[t-SNE] Computed conditional probabilities for sample 2000 / 3000\n",
      "[t-SNE] Computed conditional probabilities for sample 3000 / 3000\n",
      "[t-SNE] Mean sigma: 0.883493\n",
      "[t-SNE] KL divergence after 250 iterations with early exaggeration: 110.179993\n",
      "[t-SNE] KL divergence after 1000 iterations: 2.198179\n"
     ]
    },
    {
     "name": "stderr",
     "output_type": "stream",
     "text": [
      "C:\\ProgramData\\Anaconda3\\lib\\site-packages\\ipykernel_launcher.py:23: DeprecationWarning: Call to deprecated `wv` (Attribute will be removed in 4.0.0, use self instead).\n"
     ]
    },
    {
     "data": {
      "text/html": [
       "\n",
       "\n",
       "\n",
       "\n",
       "\n",
       "\n",
       "  <div class=\"bk-root\" id=\"f4d06179-cbf3-43bc-9ce3-4cbea0790c29\" data-root-id=\"1522\"></div>\n"
      ]
     },
     "metadata": {},
     "output_type": "display_data"
    },
    {
     "data": {
      "application/javascript": [
       "(function(root) {\n",
       "  function embed_document(root) {\n",
       "    \n",
       "  var docs_json = {\"92b53027-a44a-4a10-8db5-2faa9bb52a0d\":{\"roots\":{\"references\":[{\"attributes\":{\"min_border\":1,\"plot_width\":700,\"renderers\":[{\"id\":\"1549\"}],\"title\":{\"id\":\"1523\"},\"toolbar\":{\"id\":\"1539\"},\"x_range\":{\"id\":\"1525\"},\"x_scale\":{\"id\":\"1529\"},\"y_range\":{\"id\":\"1527\"},\"y_scale\":{\"id\":\"1531\"}},\"id\":\"1522\",\"subtype\":\"Figure\",\"type\":\"Plot\"},{\"attributes\":{\"data_source\":{\"id\":\"1545\"},\"glyph\":{\"id\":\"1547\"},\"hover_glyph\":null,\"muted_glyph\":null,\"nonselection_glyph\":{\"id\":\"1548\"},\"selection_glyph\":null,\"view\":{\"id\":\"1550\"}},\"id\":\"1549\",\"type\":\"GlyphRenderer\"},{\"attributes\":{\"text\":\"A map/plot of 3000 word vectors\"},\"id\":\"1523\",\"type\":\"Title\"},{\"attributes\":{},\"id\":\"1527\",\"type\":\"DataRange1d\"},{\"attributes\":{},\"id\":\"1553\",\"type\":\"Selection\"},{\"attributes\":{},\"id\":\"1531\",\"type\":\"LinearScale\"},{\"attributes\":{},\"id\":\"1529\",\"type\":\"LinearScale\"},{\"attributes\":{},\"id\":\"1533\",\"type\":\"PanTool\"},{\"attributes\":{\"fill_alpha\":{\"value\":0.1},\"fill_color\":{\"value\":\"#1f77b4\"},\"line_alpha\":{\"value\":0.1},\"line_color\":{\"value\":\"#1f77b4\"},\"x\":{\"field\":\"x\"},\"y\":{\"field\":\"y\"}},\"id\":\"1548\",\"type\":\"Scatter\"},{\"attributes\":{},\"id\":\"1534\",\"type\":\"WheelZoomTool\"},{\"attributes\":{\"source\":{\"id\":\"1545\"}},\"id\":\"1550\",\"type\":\"CDSView\"},{\"attributes\":{\"overlay\":{\"id\":\"1538\"}},\"id\":\"1535\",\"type\":\"BoxZoomTool\"},{\"attributes\":{},\"id\":\"1536\",\"type\":\"ResetTool\"},{\"attributes\":{\"callback\":null,\"tooltips\":[[\"word\",\"@words\"]]},\"id\":\"1537\",\"type\":\"HoverTool\"},{\"attributes\":{},\"id\":\"1552\",\"type\":\"UnionRenderers\"},{\"attributes\":{},\"id\":\"1525\",\"type\":\"DataRange1d\"},{\"attributes\":{\"active_drag\":\"auto\",\"active_inspect\":\"auto\",\"active_multi\":null,\"active_scroll\":\"auto\",\"active_tap\":\"auto\",\"tools\":[{\"id\":\"1533\"},{\"id\":\"1534\"},{\"id\":\"1535\"},{\"id\":\"1536\"},{\"id\":\"1537\"}]},\"id\":\"1539\",\"type\":\"Toolbar\"},{\"attributes\":{\"bottom_units\":\"screen\",\"fill_alpha\":0.5,\"fill_color\":\"lightgrey\",\"left_units\":\"screen\",\"level\":\"overlay\",\"line_alpha\":1.0,\"line_color\":\"black\",\"line_dash\":[4,4],\"line_width\":2,\"render_mode\":\"css\",\"right_units\":\"screen\",\"top_units\":\"screen\"},\"id\":\"1538\",\"type\":\"BoxAnnotation\"},{\"attributes\":{\"data\":{\"index\":[0,1,2,3,4,5,6,7,8,9,10,11,12,13,14,15,16,17,18,19,20,21,22,23,24,25,26,27,28,29,30,31,32,33,34,35,36,37,38,39,40,41,42,43,44,45,46,47,48,49,50,51,52,53,54,55,56,57,58,59,60,61,62,63,64,65,66,67,68,69,70,71,72,73,74,75,76,77,78,79,80,81,82,83,84,85,86,87,88,89,90,91,92,93,94,95,96,97,98,99,100,101,102,103,104,105,106,107,108,109,110,111,112,113,114,115,116,117,118,119,120,121,122,123,124,125,126,127,128,129,130,131,132,133,134,135,136,137,138,139,140,141,142,143,144,145,146,147,148,149,150,151,152,153,154,155,156,157,158,159,160,161,162,163,164,165,166,167,168,169,170,171,172,173,174,175,176,177,178,179,180,181,182,183,184,185,186,187,188,189,190,191,192,193,194,195,196,197,198,199,200,201,202,203,204,205,206,207,208,209,210,211,212,213,214,215,216,217,218,219,220,221,222,223,224,225,226,227,228,229,230,231,232,233,234,235,236,237,238,239,240,241,242,243,244,245,246,247,248,249,250,251,252,253,254,255,256,257,258,259,260,261,262,263,264,265,266,267,268,269,270,271,272,273,274,275,276,277,278,279,280,281,282,283,284,285,286,287,288,289,290,291,292,293,294,295,296,297,298,299,300,301,302,303,304,305,306,307,308,309,310,311,312,313,314,315,316,317,318,319,320,321,322,323,324,325,326,327,328,329,330,331,332,333,334,335,336,337,338,339,340,341,342,343,344,345,346,347,348,349,350,351,352,353,354,355,356,357,358,359,360,361,362,363,364,365,366,367,368,369,370,371,372,373,374,375,376,377,378,379,380,381,382,383,384,385,386,387,388,389,390,391,392,393,394,395,396,397,398,399,400,401,402,403,404,405,406,407,408,409,410,411,412,413,414,415,416,417,418,419,420,421,422,423,424,425,426,427,428,429,430,431,432,433,434,435,436,437,438,439,440,441,442,443,444,445,446,447,448,449,450,451,452,453,454,455,456,457,458,459,460,461,462,463,464,465,466,467,468,469,470,471,472,473,474,475,476,477,478,479,480,481,482,483,484,485,486,487,488,489,490,491,492,493,494,495,496,497,498,499,500,501,502,503,504,505,506,507,508,509,510,511,512,513,514,515,516,517,518,519,520,521,522,523,524,525,526,527,528,529,530,531,532,533,534,535,536,537,538,539,540,541,542,543,544,545,546,547,548,549,550,551,552,553,554,555,556,557,558,559,560,561,562,563,564,565,566,567,568,569,570,571,572,573,574,575,576,577,578,579,580,581,582,583,584,585,586,587,588,589,590,591,592,593,594,595,596,597,598,599,600,601,602,603,604,605,606,607,608,609,610,611,612,613,614,615,616,617,618,619,620,621,622,623,624,625,626,627,628,629,630,631,632,633,634,635,636,637,638,639,640,641,642,643,644,645,646,647,648,649,650,651,652,653,654,655,656,657,658,659,660,661,662,663,664,665,666,667,668,669,670,671,672,673,674,675,676,677,678,679,680,681,682,683,684,685,686,687,688,689,690,691,692,693,694,695,696,697,698,699,700,701,702,703,704,705,706,707,708,709,710,711,712,713,714,715,716,717,718,719,720,721,722,723,724,725,726,727,728,729,730,731,732,733,734,735,736,737,738,739,740,741,742,743,744,745,746,747,748,749,750,751,752,753,754,755,756,757,758,759,760,761,762,763,764,765,766,767,768,769,770,771,772,773,774,775,776,777,778,779,780,781,782,783,784,785,786,787,788,789,790,791,792,793,794,795,796,797,798,799,800,801,802,803,804,805,806,807,808,809,810,811,812,813,814,815,816,817,818,819,820,821,822,823,824,825,826,827,828,829,830,831,832,833,834,835,836,837,838,839,840,841,842,843,844,845,846,847,848,849,850,851,852,853,854,855,856,857,858,859,860,861,862,863,864,865,866,867,868,869,870,871,872,873,874,875,876,877,878,879,880,881,882,883,884,885,886,887,888,889,890,891,892,893,894,895,896,897,898,899,900,901,902,903,904,905,906,907,908,909,910,911,912,913,914,915,916,917,918,919,920,921,922,923,924,925,926,927,928,929,930,931,932,933,934,935,936,937,938,939,940,941,942,943,944,945,946,947,948,949,950,951,952,953,954,955,956,957,958,959,960,961,962,963,964,965,966,967,968,969,970,971,972,973,974,975,976,977,978,979,980,981,982,983,984,985,986,987,988,989,990,991,992,993,994,995,996,997,998,999,1000,1001,1002,1003,1004,1005,1006,1007,1008,1009,1010,1011,1012,1013,1014,1015,1016,1017,1018,1019,1020,1021,1022,1023,1024,1025,1026,1027,1028,1029,1030,1031,1032,1033,1034,1035,1036,1037,1038,1039,1040,1041,1042,1043,1044,1045,1046,1047,1048,1049,1050,1051,1052,1053,1054,1055,1056,1057,1058,1059,1060,1061,1062,1063,1064,1065,1066,1067,1068,1069,1070,1071,1072,1073,1074,1075,1076,1077,1078,1079,1080,1081,1082,1083,1084,1085,1086,1087,1088,1089,1090,1091,1092,1093,1094,1095,1096,1097,1098,1099,1100,1101,1102,1103,1104,1105,1106,1107,1108,1109,1110,1111,1112,1113,1114,1115,1116,1117,1118,1119,1120,1121,1122,1123,1124,1125,1126,1127,1128,1129,1130,1131,1132,1133,1134,1135,1136,1137,1138,1139,1140,1141,1142,1143,1144,1145,1146,1147,1148,1149,1150,1151,1152,1153,1154,1155,1156,1157,1158,1159,1160,1161,1162,1163,1164,1165,1166,1167,1168,1169,1170,1171,1172,1173,1174,1175,1176,1177,1178,1179,1180,1181,1182,1183,1184,1185,1186,1187,1188,1189,1190,1191,1192,1193,1194,1195,1196,1197,1198,1199,1200,1201,1202,1203,1204,1205,1206,1207,1208,1209,1210,1211,1212,1213,1214,1215,1216,1217,1218,1219,1220,1221,1222,1223,1224,1225,1226,1227,1228,1229,1230,1231,1232,1233,1234,1235,1236,1237,1238,1239,1240,1241,1242,1243,1244,1245,1246,1247,1248,1249,1250,1251,1252,1253,1254,1255,1256,1257,1258,1259,1260,1261,1262,1263,1264,1265,1266,1267,1268,1269,1270,1271,1272,1273,1274,1275,1276,1277,1278,1279,1280,1281,1282,1283,1284,1285,1286,1287,1288,1289,1290,1291,1292,1293,1294,1295,1296,1297,1298,1299,1300,1301,1302,1303,1304,1305,1306,1307,1308,1309,1310,1311,1312,1313,1314,1315,1316,1317,1318,1319,1320,1321,1322,1323,1324,1325,1326,1327,1328,1329,1330,1331,1332,1333,1334,1335,1336,1337,1338,1339,1340,1341,1342,1343,1344,1345,1346,1347,1348,1349,1350,1351,1352,1353,1354,1355,1356,1357,1358,1359,1360,1361,1362,1363,1364,1365,1366,1367,1368,1369,1370,1371,1372,1373,1374,1375,1376,1377,1378,1379,1380,1381,1382,1383,1384,1385,1386,1387,1388,1389,1390,1391,1392,1393,1394,1395,1396,1397,1398,1399,1400,1401,1402,1403,1404,1405,1406,1407,1408,1409,1410,1411,1412,1413,1414,1415,1416,1417,1418,1419,1420,1421,1422,1423,1424,1425,1426,1427,1428,1429,1430,1431,1432,1433,1434,1435,1436,1437,1438,1439,1440,1441,1442,1443,1444,1445,1446,1447,1448,1449,1450,1451,1452,1453,1454,1455,1456,1457,1458,1459,1460,1461,1462,1463,1464,1465,1466,1467,1468,1469,1470,1471,1472,1473,1474,1475,1476,1477,1478,1479,1480,1481,1482,1483,1484,1485,1486,1487,1488,1489,1490,1491,1492,1493,1494,1495,1496,1497,1498,1499,1500,1501,1502,1503,1504,1505,1506,1507,1508,1509,1510,1511,1512,1513,1514,1515,1516,1517,1518,1519,1520,1521,1522,1523,1524,1525,1526,1527,1528,1529,1530,1531,1532,1533,1534,1535,1536,1537,1538,1539,1540,1541,1542,1543,1544,1545,1546,1547,1548,1549,1550,1551,1552,1553,1554,1555,1556,1557,1558,1559,1560,1561,1562,1563,1564,1565,1566,1567,1568,1569,1570,1571,1572,1573,1574,1575,1576,1577,1578,1579,1580,1581,1582,1583,1584,1585,1586,1587,1588,1589,1590,1591,1592,1593,1594,1595,1596,1597,1598,1599,1600,1601,1602,1603,1604,1605,1606,1607,1608,1609,1610,1611,1612,1613,1614,1615,1616,1617,1618,1619,1620,1621,1622,1623,1624,1625,1626,1627,1628,1629,1630,1631,1632,1633,1634,1635,1636,1637,1638,1639,1640,1641,1642,1643,1644,1645,1646,1647,1648,1649,1650,1651,1652,1653,1654,1655,1656,1657,1658,1659,1660,1661,1662,1663,1664,1665,1666,1667,1668,1669,1670,1671,1672,1673,1674,1675,1676,1677,1678,1679,1680,1681,1682,1683,1684,1685,1686,1687,1688,1689,1690,1691,1692,1693,1694,1695,1696,1697,1698,1699,1700,1701,1702,1703,1704,1705,1706,1707,1708,1709,1710,1711,1712,1713,1714,1715,1716,1717,1718,1719,1720,1721,1722,1723,1724,1725,1726,1727,1728,1729,1730,1731,1732,1733,1734,1735,1736,1737,1738,1739,1740,1741,1742,1743,1744,1745,1746,1747,1748,1749,1750,1751,1752,1753,1754,1755,1756,1757,1758,1759,1760,1761,1762,1763,1764,1765,1766,1767,1768,1769,1770,1771,1772,1773,1774,1775,1776,1777,1778,1779,1780,1781,1782,1783,1784,1785,1786,1787,1788,1789,1790,1791,1792,1793,1794,1795,1796,1797,1798,1799,1800,1801,1802,1803,1804,1805,1806,1807,1808,1809,1810,1811,1812,1813,1814,1815,1816,1817,1818,1819,1820,1821,1822,1823,1824,1825,1826,1827,1828,1829,1830,1831,1832,1833,1834,1835,1836,1837,1838,1839,1840,1841,1842,1843,1844,1845,1846,1847,1848,1849,1850,1851,1852,1853,1854,1855,1856,1857,1858,1859,1860,1861,1862,1863,1864,1865,1866,1867,1868,1869,1870,1871,1872,1873,1874,1875,1876,1877,1878,1879,1880,1881,1882,1883,1884,1885,1886,1887,1888,1889,1890,1891,1892,1893,1894,1895,1896,1897,1898,1899,1900,1901,1902,1903,1904,1905,1906,1907,1908,1909,1910,1911,1912,1913,1914,1915,1916,1917,1918,1919,1920,1921,1922,1923,1924,1925,1926,1927,1928,1929,1930,1931,1932,1933,1934,1935,1936,1937,1938,1939,1940,1941,1942,1943,1944,1945,1946,1947,1948,1949,1950,1951,1952,1953,1954,1955,1956,1957,1958,1959,1960,1961,1962,1963,1964,1965,1966,1967,1968,1969,1970,1971,1972,1973,1974,1975,1976,1977,1978,1979,1980,1981,1982,1983,1984,1985,1986,1987,1988,1989,1990,1991,1992,1993,1994,1995,1996,1997,1998,1999,2000,2001,2002,2003,2004,2005,2006,2007,2008,2009,2010,2011,2012,2013,2014,2015,2016,2017,2018,2019,2020,2021,2022,2023,2024,2025,2026,2027,2028,2029,2030,2031,2032,2033,2034,2035,2036,2037,2038,2039,2040,2041,2042,2043,2044,2045,2046,2047,2048,2049,2050,2051,2052,2053,2054,2055,2056,2057,2058,2059,2060,2061,2062,2063,2064,2065,2066,2067,2068,2069,2070,2071,2072,2073,2074,2075,2076,2077,2078,2079,2080,2081,2082,2083,2084,2085,2086,2087,2088,2089,2090,2091,2092,2093,2094,2095,2096,2097,2098,2099,2100,2101,2102,2103,2104,2105,2106,2107,2108,2109,2110,2111,2112,2113,2114,2115,2116,2117,2118,2119,2120,2121,2122,2123,2124,2125,2126,2127,2128,2129,2130,2131,2132,2133,2134,2135,2136,2137,2138,2139,2140,2141,2142,2143,2144,2145,2146,2147,2148,2149,2150,2151,2152,2153,2154,2155,2156,2157,2158,2159,2160,2161,2162,2163,2164,2165,2166,2167,2168,2169,2170,2171,2172,2173,2174,2175,2176,2177,2178,2179,2180,2181,2182,2183,2184,2185,2186,2187,2188,2189,2190,2191,2192,2193,2194,2195,2196,2197,2198,2199,2200,2201,2202,2203,2204,2205,2206,2207,2208,2209,2210,2211,2212,2213,2214,2215,2216,2217,2218,2219,2220,2221,2222,2223,2224,2225,2226,2227,2228,2229,2230,2231,2232,2233,2234,2235,2236,2237,2238,2239,2240,2241,2242,2243,2244,2245,2246,2247,2248,2249,2250,2251,2252,2253,2254,2255,2256,2257,2258,2259,2260,2261,2262,2263,2264,2265,2266,2267,2268,2269,2270,2271,2272,2273,2274,2275,2276,2277,2278,2279,2280,2281,2282,2283,2284,2285,2286,2287,2288,2289,2290,2291,2292,2293,2294,2295,2296,2297,2298,2299,2300,2301,2302,2303,2304,2305,2306,2307,2308,2309,2310,2311,2312,2313,2314,2315,2316,2317,2318,2319,2320,2321,2322,2323,2324,2325,2326,2327,2328,2329,2330,2331,2332,2333,2334,2335,2336,2337,2338,2339,2340,2341,2342,2343,2344,2345,2346,2347,2348,2349,2350,2351,2352,2353,2354,2355,2356,2357,2358,2359,2360,2361,2362,2363,2364,2365,2366,2367,2368,2369,2370,2371,2372,2373,2374,2375,2376,2377,2378,2379,2380,2381,2382,2383,2384,2385,2386,2387,2388,2389,2390,2391,2392,2393,2394,2395,2396,2397,2398,2399,2400,2401,2402,2403,2404,2405,2406,2407,2408,2409,2410,2411,2412,2413,2414,2415,2416,2417,2418,2419,2420,2421,2422,2423,2424,2425,2426,2427,2428,2429,2430,2431,2432,2433,2434,2435,2436,2437,2438,2439,2440,2441,2442,2443,2444,2445,2446,2447,2448,2449,2450,2451,2452,2453,2454,2455,2456,2457,2458,2459,2460,2461,2462,2463,2464,2465,2466,2467,2468,2469,2470,2471,2472,2473,2474,2475,2476,2477,2478,2479,2480,2481,2482,2483,2484,2485,2486,2487,2488,2489,2490,2491,2492,2493,2494,2495,2496,2497,2498,2499,2500,2501,2502,2503,2504,2505,2506,2507,2508,2509,2510,2511,2512,2513,2514,2515,2516,2517,2518,2519,2520,2521,2522,2523,2524,2525,2526,2527,2528,2529,2530,2531,2532,2533,2534,2535,2536,2537,2538,2539,2540,2541,2542,2543,2544,2545,2546,2547,2548,2549,2550,2551,2552,2553,2554,2555,2556,2557,2558,2559,2560,2561,2562,2563,2564,2565,2566,2567,2568,2569,2570,2571,2572,2573,2574,2575,2576,2577,2578,2579,2580,2581,2582,2583,2584,2585,2586,2587,2588,2589,2590,2591,2592,2593,2594,2595,2596,2597,2598,2599,2600,2601,2602,2603,2604,2605,2606,2607,2608,2609,2610,2611,2612,2613,2614,2615,2616,2617,2618,2619,2620,2621,2622,2623,2624,2625,2626,2627,2628,2629,2630,2631,2632,2633,2634,2635,2636,2637,2638,2639,2640,2641,2642,2643,2644,2645,2646,2647,2648,2649,2650,2651,2652,2653,2654,2655,2656,2657,2658,2659,2660,2661,2662,2663,2664,2665,2666,2667,2668,2669,2670,2671,2672,2673,2674,2675,2676,2677,2678,2679,2680,2681,2682,2683,2684,2685,2686,2687,2688,2689,2690,2691,2692,2693,2694,2695,2696,2697,2698,2699,2700,2701,2702,2703,2704,2705,2706,2707,2708,2709,2710,2711,2712,2713,2714,2715,2716,2717,2718,2719,2720,2721,2722,2723,2724,2725,2726,2727,2728,2729,2730,2731,2732,2733,2734,2735,2736,2737,2738,2739,2740,2741,2742,2743,2744,2745,2746,2747,2748,2749,2750,2751,2752,2753,2754,2755,2756,2757,2758,2759,2760,2761,2762,2763,2764,2765,2766,2767,2768,2769,2770,2771,2772,2773,2774,2775,2776,2777,2778,2779,2780,2781,2782,2783,2784,2785,2786,2787,2788,2789,2790,2791,2792,2793,2794,2795,2796,2797,2798,2799,2800,2801,2802,2803,2804,2805,2806,2807,2808,2809,2810,2811,2812,2813,2814,2815,2816,2817,2818,2819,2820,2821,2822,2823,2824,2825,2826,2827,2828,2829,2830,2831,2832,2833,2834,2835,2836,2837,2838,2839,2840,2841,2842,2843,2844,2845,2846,2847,2848,2849,2850,2851,2852,2853,2854,2855,2856,2857,2858,2859,2860,2861,2862,2863,2864,2865,2866,2867,2868,2869,2870,2871,2872,2873,2874,2875,2876,2877,2878,2879,2880,2881,2882,2883,2884,2885,2886,2887,2888,2889,2890,2891,2892,2893,2894,2895,2896,2897,2898,2899,2900,2901,2902,2903,2904,2905,2906,2907,2908,2909,2910,2911,2912,2913,2914,2915,2916,2917,2918,2919,2920,2921,2922,2923,2924,2925,2926,2927,2928,2929,2930,2931,2932,2933,2934,2935,2936,2937,2938,2939,2940,2941,2942,2943,2944,2945,2946,2947,2948,2949,2950,2951,2952,2953,2954,2955,2956,2957,2958,2959,2960,2961,2962,2963,2964,2965,2966,2967,2968,2969,2970,2971,2972,2973,2974,2975,2976,2977,2978,2979,2980,2981,2982,2983,2984,2985,2986,2987,2988,2989,2990,2991,2992,2993,2994,2995,2996,2997,2998,2999],\"words\":[\"</s>\",\"in\",\"for\",\"that\",\"is\",\"on\",\"##\",\"The\",\"with\",\"said\",\"was\",\"the\",\"at\",\"not\",\"as\",\"it\",\"be\",\"from\",\"by\",\"are\",\"I\",\"have\",\"he\",\"will\",\"has\",\"####\",\"his\",\"an\",\"this\",\"or\",\"their\",\"who\",\"they\",\"but\",\"$\",\"had\",\"year\",\"were\",\"we\",\"more\",\"###\",\"up\",\"been\",\"you\",\"its\",\"one\",\"about\",\"would\",\"which\",\"out\",\"can\",\"It\",\"all\",\"also\",\"two\",\"after\",\"first\",\"He\",\"do\",\"time\",\"than\",\"when\",\"We\",\"over\",\"last\",\"new\",\"other\",\"her\",\"people\",\"into\",\"In\",\"our\",\"there\",\"A\",\"she\",\"could\",\"just\",\"years\",\"some\",\"U.S.\",\"three\",\"million\",\"them\",\"what\",\"But\",\"so\",\"no\",\"like\",\"if\",\"only\",\"percent\",\"get\",\"did\",\"him\",\"game\",\"back\",\"because\",\"now\",\"#.#\",\"before\",\"company\",\"any\",\"team\",\"against\",\"off\",\"This\",\"most\",\"made\",\"through\",\"make\",\"second\",\"state\",\"well\",\"day\",\"season\",\"says\",\"week\",\"where\",\"while\",\"down\",\"being\",\"government\",\"your\",\"#-#\",\"home\",\"going\",\"my\",\"good\",\"They\",\"'re\",\"should\",\"many\",\"way\",\"those\",\"four\",\"during\",\"such\",\"may\",\"very\",\"how\",\"since\",\"work\",\"take\",\"including\",\"high\",\"then\",\"%\",\"next\",\"#,###\",\"By\",\"much\",\"still\",\"go\",\"think\",\"old\",\"even\",\"#.##\",\"world\",\"see\",\"say\",\"business\",\"five\",\"told\",\"under\",\"us\",\"1\",\"these\",\"If\",\"right\",\"And\",\"me\",\"between\",\"play\",\"help\",\"##,###\",\"market\",\"That\",\"know\",\"end\",\"AP\",\"long\",\"information\",\"points\",\"does\",\"both\",\"There\",\"part\",\"around\",\"police\",\"want\",\"'ve\",\"based\",\"For\",\"got\",\"third\",\"school\",\"left\",\"another\",\"country\",\"need\",\"2\",\"best\",\"win\",\"quarter\",\"use\",\"today\",\"##.#\",\"same\",\"public\",\"run\",\"Friday\",\"set\",\"month\",\"top\",\"billion\",\"Tuesday\",\"come\",\"Monday\",\"She\",\"city\",\"place\",\"night\",\"six\",\"each\",\"Thursday\",\"###,###\",\"Wednesday\",\"here\",\"You\",\"group\",\"really\",\"found\",\"As\",\"used\",\"3\",\"lot\",\"'m\",\"money\",\"put\",\"games\",\"support\",\"program\",\"half\",\"report\",\"family\",\"months\",\"number\",\"officials\",\"am\",\"former\",\"own\",\"man\",\"Saturday\",\"too\",\"better\",\"days\",\"came\",\"lead\",\"life\",\"American\",\"##-##\",\"show\",\"past\",\"took\",\"added\",\"expected\",\"called\",\"great\",\"State\",\"services\",\"children\",\"hit\",\"area\",\"system\",\"every\",\"pm\",\"big\",\"service\",\"few\",\"per\",\"members\",\"Sunday\",\"early\",\"point\",\"start\",\"companies\",\"little\",\"&\",\"case\",\"ago\",\"local\",\"according\",\"never\",\"5\",\"without\",\"sales\",\"until\",\"went\",\"players\",\"##th\",\"New_York\",\"won\",\"financial\",\"news\",\"4\",\"When\",\"share\",\"several\",\"free\",\"away\",\"##.##\",\"already\",\"On\",\"industry\",\"'ll\",\"call\",\"With\",\"students\",\"line\",\"available\",\"County\",\"making\",\"held\",\"final\",\"#:##\",\"power\",\"plan\",\"might\",\"least\",\"look\",\"forward\",\"give\",\"At\",\"again\",\"later\",\"full\",\"must\",\"things\",\"major\",\"community\",\"announced\",\"open\",\"record\",\"reported\",\"court\",\"working\",\"able\",\"something\",\"president\",\"meeting\",\"keep\",\"March\",\"future\",\"far\",\"deal\",\"City\",\"May\",\"development\",\"University\",\"find\",\"times\",\"After\",\"office\",\"led\",\"among\",\"June\",\"increase\",\"China\",\"John\",\"whether\",\"cost\",\"security\",\"job\",\"less\",\"head\",\"seven\",\"growth\",\"lost\",\"pay\",\"looking\",\"provide\",\"6\",\"To\",\"plans\",\"products\",\"car\",\"recent\",\"hard\",\"always\",\"include\",\"women\",\"across\",\"tax\",\"water\",\"April\",\"continue\",\"important\",\"different\",\"close\",\"7\",\"One\",\"late\",\"decision\",\"current\",\"law\",\"within\",\"along\",\"played\",\"move\",\"United_States\",\"enough\",\"become\",\"side\",\"national\",\"Inc.\",\"results\",\"level\",\"loss\",\"economic\",\"coach\",\"near\",\"getting\",\"price\",\"Department\",\"event\",\"fourth\",\"change\",\"All\",\"small\",\"board\",\"National\",\"So\",\"goal\",\"taken\",\"field\",\"prices\",\"weeks\",\"men\",\"asked\",\"eight\",\"data\",\"shot\",\"New\",\"started\",\"July\",\"director\",\"President\",\"party\",\"federal\",\"done\",\"political\",\"minutes\",\"taking\",\"Company\",\"technology\",\"project\",\"center\",\"leading\",\"issue\",\"though\",\"having\",\"period\",\"likely\",\"scored\",\"8\",\"strong\",\"series\",\"military\",\"seen\",\"trying\",\"What\",\"coming\",\"process\",\"building\",\"behind\",\"performance\",\"management\",\"Iraq\",\"saying\",\"earlier\",\"believe\",\"oil\",\"given\",\"Police\",\"customers\",\"due\",\"following\",\"term\",\"others\",\"statement\",\"international\",\"economy\",\"health\",\"thing\",\"Obama\",\"return\",\"killed\",\"Washington\",\"further\",\"However\",\"doing\",\"face\",\"low\",\"higher\",\"site\",\"once\",\"yet\",\"hours\",\"America\",\"control\",\"received\",\"rate\",\"career\",\"Bush\",\"teams\",\"known\",\"offer\",\"race\",\"ever\",\"experience\",\"playing\",\"name\",\"possible\",\"countries\",\"Mr.\",\"average\",\"together\",\"using\",\"9\",\"cut\",\"While\",\"total\",\"round\",\"young\",\"nearly\",\"shares\",\"member\",\"campaign\",\"media\",\"needs\",\"why\",\"house\",\"issues\",\"costs\",\"fire\",\"##-#\",\"victory\",\"player\",\"began\",\"sure\",\"story\",\"per_cent\",\"North\",\"His\",\"staff\",\"order\",\"war\",\"large\",\"interest\",\"stock\",\"food\",\"research\",\"key\",\"India\",\"South\",\"morning\",\"conference\",\"senior\",\"global\",\"Center\",\"death\",\"person\",\"thought\",\"gave\",\"feel\",\"energy\",\"history\",\"recently\",\"largest\",\"No.\",\"general\",\"official\",\"released\",\"wanted\",\"meet\",\"short\",\"outside\",\"running\",\"live\",\"ball\",\"online\",\"real\",\"position\",\"fact\",\"fell\",\"nine\",\"December\",\"front\",\"action\",\"defense\",\"problem\",\"problems\",\"Mr\",\"nation\",\"needed\",\"special\",\"January\",\"almost\",\"chance\",\"'d\",\"result\",\"West\",\"September\",\"reports\",\"leader\",\"investment\",\"yesterday\",\"Some\",\"leaders\",\"ahead\",\"production\",\"comes\",\"No\",\"runs\",\"match\",\"role\",\"kind\",\"try\",\"ended\",\"risk\",\"areas\",\"election\",\"workers\",\"visit\",\"bring\",\"road\",\"music\",\"study\",\"makes\",\"often\",\"release\",\"woman\",\"vote\",\"care\",\"town\",\"clear\",\"comment\",\"budget\",\"potential\",\"single\",\"markets\",\"policy\",\"capital\",\"saw\",\"access\",\"weekend\",\"operations\",\"whose\",\"net\",\"House\",\"hand\",\"increased\",\"charges\",\"winning\",\"trade\",\"These\",\"income\",\"value\",\"involved\",\"Bank\",\"November\",\"bill\",\"compared\",\"anything\",\"manager\",\"Texas\",\"property\",\"stop\",\"annual\",\"private\",\"contract\",\"died\",\"Now\",\"hope\",\"product\",\"fans\",\"lower\",\"demand\",\"News\",\"David\",\"club\",\"comments\",\"film\",\"yards\",\"quality\",\"currently\",\"events\",\"addition\",\"couple\",\"schools\",\"attack\",\"region\",\"latest\",\"opportunity\",\"worked\",\"course\",\"bad\",\"fall\",\"Group\",\"October\",\"jobs\",\"list\",\"let\",\"however\",\"chief\",\"summer\",\"programs\",\"According\",\"revenue\",\"Our\",\"rose\",\"previous\",\"TV\",\"football\",\"biggest\",\"employees\",\"changes\",\"residents\",\"means\",\"agreement\",\"includes\",\"post\",\"Canada\",\"probably\",\"related\",\"training\",\"allowed\",\"class\",\"bit\",\"video\",\"Michael\",\"An\",\"sent\",\"education\",\"states\",\"straight\",\"love\",\"beat\",\"hold\",\"turn\",\"finished\",\"network\",\"Smith\",\"buy\",\"foreign\",\"especially\",\"groups\",\"wants\",\"title\",\"included\",\"turned\",\"bank\",\"Florida\",\"efforts\",\"personal\",\"businesses\",\"August\",\"California\",\"situation\",\"district\",\"allow\",\"helped\",\"body\",\"nothing\",\"soon\",\"safety\",\"officer\",\"cents\",\"Europe\",\"St.\",\"additional\",\"spokesman\",\"February\",\"wife\",\"showed\",\"leave\",\"investors\",\"parents\",\"medical\",\"spending\",\"non\",\"London\",\"Council\",\"matter\",\"spent\",\"child\",\"World\",\"effort\",\"opening\",\"either\",\"range\",\"question\",\"European\",\"goals\",\"administration\",\"friends\",\"himself\",\"shows\",\"difficult\",\"kids\",\"paid\",\"create\",\"cash\",\"age\",\"league\",\"form\",\"impact\",\"drive\",\"someone\",\"became\",\"stay\",\"fight\",\"significant\",\"firm\",\"Senate\",\"hospital\",\"charged\",\"operating\",\"main\",\"book\",\"success\",\"son\",\"trading\",\"###-####\",\"focus\",\"room\",\"continued\",\"Congress\",\"everything\",\"Park\",\"agency\",\"brought\",\"talk\",\"break\",\"air\",\"software\",\"decided\",\"Do\",\"ready\",\"arrested\",\"track\",\"provides\",\"mother\",\"base\",\"trial\",\"phone\",\"My\",\"build\",\"conditions\",\"rest\",\"Johnson\",\"terms\",\"expect\",\"England\",\"Israel\",\"despite\",\"closed\",\"starting\",\"provided\",\"pressure\",\"lives\",\"step\",\"remain\",\"similar\",\"charge\",\"date\",\"whole\",\"land\",\"growing\",\"James\",\"Internet\",\"projects\",\"British\",\"cases\",\"ground\",\"legal\",\"International\",\"agreed\",\"tell\",\"test\",\"everyone\",\"pretty\",\"authorities\",\"Two\",\"above\",\"moved\",\"profit\",\"throughout\",\"inside\",\"ability\",\"overall\",\"pass\",\"officers\",\"rather\",\"Australia\",\"actually\",\"county\",\"amount\",\"scheduled\",\"themselves\",\"organization\",\"giving\",\"credit\",\"father\",\"drug\",\"investigation\",\"families\",\"Republican\",\"funds\",\"patients\",\"takes\",\"systems\",\"Japan\",\"complete\",\"sold\",\"practice\",\"calls\",\"\\u2022\",\"UK\",\"force\",\"student\",\"idea\",\"reached\",\"reason\",\"levels\",\"space\",\"competition\",\"forces\",\"sector\",\"Last\",\"tried\",\"common\",\"homes\",\"stage\",\"department\",\"named\",\"earnings\",\"offers\",\"star\",\"certain\",\"double\",\"longer\",\"followed\",\"cause\",\"Association\",\"signed\",\"committee\",\"hour\",\"college\",\"Pakistan\",\"users\",\"Iran\",\"sign\",\"living\",\"failed\",\"reach\",\"quickly\",\"receive\",\"debt\",\"sale\",\"Board\",\"Americans\",\"Road\",\"Brown\",\"insurance\",\"##:##\",\"anyone\",\"tournament\",\"More\",\"gas\",\"talks\",\"serious\",\"required\",\"sell\",\"construction\",\"evidence\",\"remains\",\"black\",\"below\",\"improve\",\"crisis\",\"address\",\"questions\",\"easy\",\"begin\",\"view\",\"School\",\"heard\",\"executive\",\"raised\",\"Paul\",\"store\",\"gets\",\"filed\",\"huge\",\"moving\",\"seems\",\"met\",\"####s\",\"thousands\",\"CEO\",\"solutions\",\"score\",\"content\",\"treatment\",\"offered\",\"built\",\"hits\",\"present\",\"Chicago\",\"attacks\",\"although\",\"social\",\"afternoon\",\"vehicle\",\"read\",\"example\",\"rise\",\"....\",\"minute\",\"banks\",\"council\",\"troops\",\"rates\",\"tough\",\"Chinese\",\"Even\",\"works\",\"fifth\",\"knew\",\"felt\",\"Street\",\"website\",\"fund\",\"issued\",\"immediately\",\"opened\",\"goes\",\"proposed\",\"happy\",\"guys\",\"response\",\"numbers\",\"benefits\",\"happened\",\"###.#\",\"light\",\"positive\",\"chairman\",\"claims\",\"People\",\"details\",\"Williams\",\"East\",\"accused\",\"equipment\",\"dropped\",\"dollars\",\"various\",\"worth\",\"judge\",\"considered\",\"commercial\",\"activities\",\"funding\",\"dollar\",\"plant\",\"mobile\",\"television\",\"rules\",\"rights\",\"review\",\"quite\",\"regular\",\"Dr.\",\"served\",\"kept\",\"marketing\",\"created\",\"heart\",\"wrote\",\"prison\",\"instead\",\"concerns\",\"offering\",\"returned\",\"benefit\",\"designed\",\"approved\",\"foot\",\"search\",\"miles\",\"planned\",\"Health\",\"Government\",\"driving\",\"Indian\",\"entire\",\"First\",\"providing\",\"host\",\"ask\",\"design\",\"hearing\",\"save\",\"looked\",\"Central\",\"travel\",\"_\",\"successful\",\"beginning\",\"movie\",\"adding\",\"forced\",\"toward\",\"ensure\",\"passed\",\"unit\",\"happen\",\"mean\",\"Associated_Press\",\"Many\",\"shooting\",\"gone\",\"winner\",\"hopes\",\"understand\",\"planning\",\"trip\",\"raise\",\"owner\",\"popular\",\"completed\",\"ways\",\"attention\",\"feet\",\"assets\",\"traffic\",\"Mike\",\"Since\",\"environment\",\"Both\",\"interview\",\"consumers\",\"Democrats\",\"Jones\",\"Not\",\"hands\",\"contact\",\"cars\",\"Although\",\"dead\",\"features\",\"challenge\",\"Canadian\",\"particularly\",\"basis\",\"violence\",\"stand\",\"consumer\",\"sense\",\"attorney\",\"driver\",\"highest\",\"\\u00a3\",\"posted\",\"finish\",\"limited\",\"source\",\"Hall\",\"serve\",\"Sept.\",\"spot\",\"Then\",\"advantage\",\"scoring\",\"words\",\"applications\",\"Russia\",\"reduce\",\"How\",\"white\",\"appeared\",\"itself\",\"fuel\",\"During\",\"Afghanistan\",\"simply\",\"fiscal\",\"Jackson\",\"plays\",\"account\",\"follow\",\"statements\",\"organizations\",\"pick\",\"continues\",\"session\",\"nuclear\",\"French\",\"seconds\",\"daughter\",\"co\",\"sports\",\"Most\",\"caused\",\"injury\",\"United\",\"College\",\"effect\",\"selling\",\"middle\",\"cuts\",\"drop\",\"facility\",\"true\",\"target\",\"consider\",\"watch\",\"noted\",\"Other\",\"resources\",\"opportunities\",\"strategy\",\"learn\",\"re\",\"Mexico\",\"message\",\"injured\",\"parties\",\"seeking\",\"missed\",\"wrong\",\"letter\",\"From\",\"looks\",\"individual\",\"approach\",\"damage\",\"else\",\"speed\",\"France\",\"mind\",\"Los_Angeles\",\"bid\",\"subject\",\"ran\",\"send\",\"Mark\",\"existing\",\"fun\",\"innings\",\"press\",\"voters\",\"championship\",\"leaving\",\"earned\",\"effective\",\"poor\",\"friend\",\"customer\",\"solution\",\"corporate\",\"independent\",\"leadership\",\"human\",\"Democratic\",\"shots\",\"believes\",\"computer\",\"s\",\"items\",\"confidence\",\"add\",\"health_care\",\"award\",\"parts\",\"cover\",\"missing\",\"fast\",\"Iraqi\",\"incident\",\"husband\",\"responsible\",\"looking_statements\",\"losses\",\"estimated\",\"approximately\",\"guy\",\"purchase\",\"Australian\",\"helping\",\"finally\",\"spend\",\"scene\",\"opposition\",\"develop\",\"Ohio\",\"certainly\",\"extra\",\"UN\",\"talking\",\"spring\",\"emergency\",\"station\",\"check\",\"Chris\",\"soldiers\",\"vehicles\",\"launch\",\"Business\",\"critical\",\"professional\",\"described\",\"choice\",\"moment\",\"size\",\"changed\",\"holding\",\"door\",\"declined\",\"R\",\"launched\",\"condition\",\"lose\",\"joined\",\"gives\",\"developed\",\"Also\",\"protect\",\"girls\",\"District\",\"operation\",\"necessary\",\"taxes\",\"sites\",\"Day\",\"beyond\",\"African\",\"daily\",\"yard\",\"calling\",\"Those\",\"options\",\"stocks\",\"newspaper\",\"peace\",\"proposal\",\"Jan.\",\"previously\",\"Microsoft\",\"owned\",\"regional\",\"Thomas\",\"hear\",\"housing\",\"owners\",\"exchange\",\"majority\",\"starts\",\"victims\",\"Times\",\"model\",\"struck\",\"tour\",\"basketball\",\"###-###-####\",\"published\",\"twice\",\"candidates\",\"Commission\",\"population\",\"evening\",\"lack\",\"north\",\"fighting\",\"reporters\",\"concerned\",\"south\",\"fine\",\"weather\",\"figures\",\"floor\",\"relationship\",\"activity\",\"remaining\",\"believed\",\"Scott\",\"confirmed\",\"anti\",\"placed\",\"caught\",\"crime\",\"crowd\",\"appear\",\"version\",\"Western\",\"Boston\",\"girl\",\"join\",\"discuss\",\"church\",\"original\",\"Michigan\",\"aid\",\"expectations\",\"White_House\",\"Bill\",\"clients\",\"located\",\"Germany\",\"Israeli\",\"gold\",\"killing\",\"specific\",\"Robert\",\"act\",\"High_School\",\"partner\",\"losing\",\"claim\",\"records\",\"Office\",\"offense\",\"Dec.\",\"Just\",\"alone\",\"Corp.\",\"facilities\",\"Another\",\"division\",\"Oct.\",\"Nov.\",\"retail\",\"worst\",\"legislation\",\"page\",\"Lee\",\"measures\",\"brand\",\"expects\",\"art\",\"Services\",\"standards\",\"application\",\"central\",\"sixth\",\"safe\",\"style\",\"elections\",\"*\",\"primary\",\"greater\",\"progress\",\"managed\",\"supply\",\"gain\",\"prior\",\"Committee\",\"wins\",\"recovery\",\"e_mail\",\"upon\",\"plus\",\"type\",\"paper\",\"attempt\",\"High\",\"focused\",\"claimed\",\"survey\",\"injuries\",\"street\",\"stores\",\"block\",\"analysts\",\"Big\",\"allows\",\"hundreds\",\"avoid\",\"Conference\",\"governor\",\"figure\",\"band\",\"option\",\"lines\",\"sources\",\"domestic\",\"NFL\",\"knows\",\"seem\",\"Open\",\"Republicans\",\"Britain\",\"feature\",\"walk\",\"broke\",\"factors\",\"battle\",\"developing\",\"threat\",\"worldwide\",\"Feb.\",\"written\",\"Christmas\",\"committed\",\"green\",\"agencies\",\"improved\",\"traditional\",\"###.##\",\"fair\",\"border\",\"About\",\"Reuters\",\"concern\",\"mark\",\"allowing\",\"capacity\",\"putting\",\"appears\",\"stories\",\"grow\",\"unique\",\"favorite\",\"nice\",\"Today\",\"vice_president\",\"measure\",\"debate\",\"direct\",\"stopped\",\"index\",\"drugs\",\"tied\",\"rising\",\"risks\",\"League\",\"Despite\",\"mid\",\"arrived\",\"communities\",\"Meanwhile\",\"increasing\",\"presented\",\"Her\",\"boy\",\"Court\",\"standard\",\"prevent\",\"mission\",\"deep\",\"Chief\",\"word\",\"identified\",\"pulled\",\"inning\",\"difference\",\"pair\",\"suffered\",\"perfect\",\"advanced\",\"prepared\",\"fully\",\"blood\",\"signs\",\"showing\",\"English\",\"####-##\",\"interested\",\"material\",\"article\",\"experts\",\"bottom\",\"answer\",\"D\",\"George\",\"usually\",\"wait\",\"spoke\",\"Davis\",\"laws\",\"request\",\"units\",\"loan\",\"directly\",\"union\",\"particular\",\"baseball\",\"loans\",\"pre\",\"born\",\"affected\",\"waiting\",\"simple\",\"Martin\",\"picked\",\"Arizona\",\"faces\",\"Russian\",\"names\",\"EU\",\"generation\",\"responsibility\",\"combined\",\"audience\",\"hurt\",\"seemed\",\"red\",\"revenues\",\"candidate\",\"Under\",\"ranked\",\"cities\",\"places\",\"ruling\",\"Green\",\"speak\",\"strike\",\"documents\",\"Year\",\"sometimes\",\"King\",\"seasons\",\"via\",\"carry\",\"boys\",\"facing\",\"learned\",\"hotel\",\"produced\",\"Google\",\"seeing\",\"seat\",\"produce\",\"millions\",\"box\",\"decisions\",\"coverage\",\"voice\",\"rule\",\"respect\",\"World_Cup\",\"cancer\",\"shown\",\"fired\",\"decades\",\"reasons\",\"tonight\",\"Aug.\",\"commitment\",\"alleged\",\"competitive\",\"rebounds\",\"Miller\",\"individuals\",\"thinking\",\"established\",\"books\",\"approval\",\"deliver\",\"remained\",\"guard\",\"Service\",\"God\",\"infrastructure\",\"appeal\",\"digital\",\"Web\",\"ordered\",\"citizens\",\"Research\",\"speech\",\"push\",\"highly\",\"Army\",\"decline\",\"holiday\",\"self\",\"Three\",\"accident\",\"radio\",\"require\",\"murder\",\"wide\",\"policies\",\"park\",\"Their\",\"champion\",\"platform\",\"pleased\",\"heavy\",\"eventually\",\"crash\",\"minister\",\"hot\",\"serving\",\"asking\",\"Detroit\",\"keeping\",\"provider\",\"partners\",\"remember\",\"seek\",\"manufacturing\",\"teachers\",\"towards\",\"buying\",\"warned\",\"Steve\",\"initial\",\"pounds\",\"brother\",\"panel\",\"becoming\",\"entered\",\"sides\",\"victim\",\"setting\",\"Co.\",\"environmental\",\"bus\",\"Is\",\"Asia\",\"note\",\"IT\",\"carried\",\"consecutive\",\"older\",\"criminal\",\"Richard\",\"bought\",\"Georgia\",\"Institute\",\"announcement\",\"Union\",\"Rs\",\"Division\",\"decade\",\"clean\",\"stated\",\"penalty\",\"boost\",\"attend\",\"separate\",\"enjoy\",\"Web_site\",\"table\",\"analysis\",\"Japanese\",\"German\",\"skills\",\"jail\",\"Valley\",\"protection\",\"analyst\",\"mostly\",\"paying\",\"draw\",\"Director\",\"Taylor\",\"perhaps\",\"reading\",\"cross\",\"commission\",\"drivers\",\"offices\",\"presence\",\"meetings\",\"votes\",\"strength\",\"Of\",\"delivery\",\"location\",\"positions\",\"regarding\",\"hoping\",\"Ryan\",\"offensive\",\"spread\",\"White\",\"whom\",\"deficit\",\"powerful\",\"Club\",\"continuing\",\"natural\",\"revealed\",\"feeling\",\"Jim\",\"grew\",\"watching\",\"suggested\",\"slow\",\"challenges\",\"Writer\",\"larger\",\"quick\",\"definitely\",\"flight\",\"university\",\"junior\",\"inflation\",\"ones\",\"Apple\",\"honor\",\"active\",\"voted\",\"Community\",\"solid\",\"Clinton\",\"Act\",\"determine\",\"reduced\",\"fees\",\"multiple\",\"decide\",\"advertising\",\"language\",\"expressed\",\"steps\",\"easily\",\"bringing\",\"physical\",\"throw\",\"forecast\",\"schedule\",\"denied\",\"finding\",\"ban\",\"Game\",\"agree\",\"section\",\"admitted\",\"actions\",\"normal\",\"devices\",\"Because\",\"squad\",\"creating\",\"walked\",\"chief_executive\",\"streets\",\"clearly\",\"complex\",\"lawyer\",\"elected\",\"increases\",\"Energy\",\"estimates\",\"excited\",\"helps\",\"relief\",\"determined\",\"maybe\",\"suspect\",\"Hill\",\"sound\",\"piece\",\"campus\",\"southern\",\"degree\",\"smaller\",\"status\",\"headed\",\"#-##\",\"healthy\",\"massive\",\"testing\",\"distribution\",\"Why\",\"completely\",\"onto\",\"hitting\",\"closing\",\"lawmakers\",\"fresh\",\"winter\",\"Tom\",\"contest\",\"outstanding\",\"exactly\",\"percentage\",\"Joe\",\"contributed\",\"movement\",\"storm\",\"seventh\",\"fear\",\"weight\",\"Minnesota\",\"McCain\",\"C\",\"secure\",\"conducted\",\"acquisition\",\"Over\",\"maintain\",\"rally\",\"knowledge\",\"recorded\",\"assistant\",\"doctors\",\"proud\",\"advice\",\"Secretary\",\"finance\",\"sex\",\"Peter\",\"WASHINGTON\",\"refused\",\"Miami\",\"agent\",\"draft\",\"pitch\",\"Justice\",\"supporters\",\"General\",\"user\",\"presidential\",\"tie\",\"Africa\",\"New_Zealand\",\"sort\",\"Houston\",\"disease\",\"tomorrow\",\"core\",\"willing\",\"patient\",\"Hospital\",\"considering\",\"firms\",\"Still\",\"technical\",\"trouble\",\"Its\",\"picture\",\"extremely\",\"confident\",\"count\",\"visitors\",\"extended\",\"Once\",\"reality\",\"expand\",\"Christian\",\"expansion\",\"lived\",\"Lake\",\"Palestinian\",\"downtown\",\"doubt\",\"nature\",\"listed\",\"leads\",\"opinion\",\"River\",\"row\",\"fellow\",\"corner\",\"author\",\"Development\",\"screen\",\"shareholders\",\"faced\",\"Illinois\",\"plants\",\"arrest\",\"society\",\"character\",\"labor\",\"gains\",\"science\",\"teacher\",\"web\",\"restaurant\",\"learning\",\"recession\",\"raising\",\"failure\",\"airport\",\"intelligence\",\"selected\",\"zone\",\"buildings\",\"industrial\",\"contracts\",\"advance\",\"fit\",\"assists\",\"tickets\",\"youth\",\"variety\",\"matches\",\"defensive\",\"package\",\"requirements\",\"connection\",\"writing\",\"ongoing\",\"Iowa\",\"explained\",\"accept\",\"lawsuit\",\"Wilson\",\"profile\",\"ending\",\"expenses\",\"employee\",\"resident\",\"myself\",\"stuff\",\"Supreme_Court\",\"Toronto\",\"standing\",\"Corporation\",\"covered\",\"Young\",\"politics\",\"aware\",\"Minister\",\"device\",\"display\",\"culture\",\"train\",\"driven\",\"closer\",\"real_estate\",\"illegal\",\"meant\",\"technologies\",\"card\",\"dog\",\"in.\",\"enter\",\"communications\",\"weapons\",\"gained\",\"supported\",\"eye\",\"NEW_YORK\",\"associated\",\"chances\",\"Instead\",\"centers\",\"dangerous\",\"views\",\"worse\",\"studies\",\"discussion\",\"Colorado\",\"Atlanta\",\"San_Francisco\",\"attended\",\"pace\",\"Virginia\",\"album\",\"entertainment\",\"camp\",\"Before\",\"trust\",\"strategic\",\"falling\",\"favor\",\"retired\",\"removed\",\"army\",\"balance\",\"plane\",\"quarterback\",\"Baghdad\",\"banking\",\"baby\",\"truck\",\"Ford\",\"sought\",\"write\",\"partnership\",\"nearby\",\"image\",\"stars\",\"volume\",\"effects\",\"Cup\",\"tests\",\"South_Africa\",\"Chairman\",\"interests\",\"occurred\",\"Philadelphia\",\"bond\",\"introduced\",\"sport\",\"spokeswoman\",\"behavior\",\"defeat\",\"treated\",\"direction\",\"Only\",\"bigger\",\"crew\",\"allegedly\",\"uses\",\"Avenue\",\"mortgage\",\"miss\",\"Among\",\"catch\",\"appearance\",\"welcome\",\"experienced\",\"ideas\",\"negotiations\",\"Foundation\",\"Asian\",\"authority\",\"slightly\",\"urged\",\"hole\",\"reform\",\"achieve\",\"Education\",\"Brian\",\"assistance\",\"delivered\",\"compete\",\"link\",\"choose\",\"possibility\",\"ruled\",\"interesting\",\"seats\",\"threw\",\"drove\",\"Anderson\",\"B\",\"immediate\",\"investments\",\"payments\",\"northern\",\"relations\",\"license\",\"discovered\",\"prove\",\"registered\",\"perform\",\"governments\",\"debut\",\"researchers\",\"accounts\",\"Well\",\"limit\",\"eyes\",\"deaths\",\"Here\",\"neighborhood\",\"handed\",\"veteran\",\"alternative\",\"basic\",\"manage\",\"tools\",\"negative\",\"Each\",\"secretary\",\"kill\",\"receiving\",\"Jr.\",\"collection\",\"coaches\",\"returns\",\"Black\",\"surgery\",\"gun\",\"replace\",\"fan\",\"institutions\",\"personnel\",\"golf\",\"happens\",\"surprise\",\"changing\",\"kick\",\"ceremony\",\"west\",\"resolution\",\"broken\",\"plenty\",\"nor\",\"easier\",\"passing\",\"pain\",\"Kevin\",\"bar\",\"Bob\",\"Federal\",\"everybody\",\"talent\",\"represent\",\"Former\",\"unless\",\"pull\",\"cast\",\"deals\",\"grade\",\"song\",\"filled\",\"wish\",\"begins\",\"affect\",\"nations\",\"fee\",\"Post\",\"largely\",\"New_Jersey\",\"apparently\",\"email\",\"NBA\",\"Management\",\"portfolio\",\"recognized\",\"speaking\",\"shut\",\"sit\",\"profits\",\"reporting\",\"holds\",\"represents\",\"dozen\",\"practices\",\"declared\",\"rich\",\"thanks\",\"#####\",\"supplies\",\"convicted\",\"native\",\"Dallas\",\"improvement\",\"amid\",\"classes\",\"participate\",\"accepted\",\"jump\",\"village\",\"aircraft\",\"poll\",\"abuse\",\"carrying\",\"east\",\"pro\",\"client\",\"equity\",\"sitting\",\"generally\",\"notes\",\"unable\",\"ice\",\"houses\",\"stake\",\"Carolina\",\"rain\",\"savings\",\"warning\",\"brings\",\"USA\",\"discussed\",\"Fed\",\"adults\",\"GM\",\"file\",\"Spain\",\"responded\",\"parking\",\"Let\",\"returning\",\"Sun\",\"orders\",\"telling\",\"encourage\",\"Like\",\"identify\",\"William\",\"pushed\",\"joint\",\"conduct\",\"suspended\",\"wind\",\"Tigers\",\"edge\",\"roads\",\"female\",\"sentence\",\"Wall_Street\",\"Oklahoma\",\"backed\",\"promote\",\"eighth\",\"influence\",\"organized\",\"Seattle\",\"cold\",\"bills\",\"payment\",\"properties\",\"scale\",\"Your\",\"rival\",\"religious\",\"retirement\",\"possibly\",\"turning\",\"civil\",\"moves\",\"currency\",\"Team\",\"aimed\",\"Italy\",\"breaking\",\"alcohol\",\"awards\",\"talked\",\"grant\",\"wall\",\"allegations\",\"requires\",\"Indiana\",\"mayor\",\"races\",\"struggling\",\"whatever\",\"readers\",\"appointed\",\"Matt\",\"voting\",\"Will\",\"Home\",\"significantly\",\"heat\",\"Information\",\"structure\",\"transfer\",\"supporting\",\"trend\",\"increasingly\",\"networks\",\"otherwise\",\"conflict\",\"cutting\",\"modern\",\"wearing\",\"executives\",\"entry\",\"Beijing\",\"playoff\",\"wireless\",\"T\",\"Fire\",\"Every\",\"M\",\"Centre\",\"meaning\",\"leg\",\"intended\",\"appropriate\",\"excellent\",\"North_Carolina\",\"involving\",\"stood\",\"heads\",\"rescue\",\"walking\",\"locations\",\"materials\",\"sending\",\"bodies\",\"snow\",\"fish\",\"feels\",\"Mayor\",\"deputy\",\"mile\",\"Olympic\",\"passengers\",\"except\",\"Fox\",\"Senior\",\"storage\",\"shop\",\"Lewis\",\"Middle_East\",\"supposed\",\"numerous\",\"songs\",\"awarded\",\"traded\",\"sister\",\"possession\",\"realize\",\"understanding\",\"ten\",\"justice\",\"rating\",\"expensive\",\"jumped\",\"improving\",\"fraud\",\"animals\",\"Howard\",\"Technology\",\"dedicated\",\"tight\",\"lawyers\",\"sets\",\"linked\",\"providers\",\"investigators\",\"stands\",\"terrorism\",\"arm\",\"freedom\",\"notice\",\"sentenced\",\"coalition\",\"touch\",\"Women\",\"exercise\",\"Global\",\"settlement\",\"disaster\",\"assist\",\"electronic\",\"playoffs\",\"combination\",\"apply\",\"shared\",\"doctor\",\"US\",\"comprehensive\",\"Andrew\",\"earn\",\"fill\",\"rock\",\"Fund\",\"giant\",\"please\",\"suit\",\"Life\",\"owns\",\"electricity\",\"exciting\",\"winners\",\"beating\",\"protest\",\"Though\",\"rejected\",\"ticket\",\"Church\",\"Charles\",\"farmers\",\"ride\",\"maker\",\"heading\",\"Yet\",\"regulations\",\"Kelly\",\"models\",\"ends\",\"Sports\",\"innovative\",\"Earlier\",\"upcoming\",\"writer\",\"performed\",\"films\",\"arms\",\"married\",\"prosecutors\",\"agents\",\"##s\",\"handle\",\"Market\",\"duty\",\"captain\",\"securities\",\"employment\",\"surprised\",\"Securities\",\"worried\",\"ninth\",\"Muslim\",\"Sen.\",\"pointed\",\"magazine\",\"threatened\",\"headquarters\",\"Italian\",\"participants\",\"visiting\",\"Oregon\",\"press_release\",\"fly\",\"Wisconsin\",\"Jordan\",\"primarily\",\"respectively\",\"Spanish\",\"New_Orleans\",\"transportation\",\"younger\",\"Media\",\"jury\",\"respond\",\"rural\",\"Ministry\",\"acting\",\"Party\",\"factor\",\"update\",\"island\",\"Afghan\",\"flat\",\"remove\",\"photo\",\"Mary\",\"selection\",\"scheme\",\"Facebook\",\"impressive\",\"becomes\",\"P\",\"indicated\",\"Yankees\",\"Jeff\",\"Financial\",\"photos\",\"professionals\",\"fewer\",\"shopping\",\"split\",\"San_Diego\",\"Public\",\"initiative\",\"Moore\",\"stretch\",\"monthly\",\"stronger\",\"bench\",\"racing\",\"Tennessee\",\"none\",\"values\",\"farm\",\"producer\",\"reduction\",\"famous\",\"Pennsylvania\",\"Brazil\",\"broadcast\",\"promised\",\"operate\",\"Allen\",\"acquired\",\"goods\",\"Paris\",\"relatively\",\"passes\",\"purpose\",\"movies\",\"directors\",\"Southern\",\"SEC\",\"clubs\",\"conservative\",\"Delhi\",\"Call\",\"comfortable\",\"replaced\",\"Clark\",\"matters\",\"hospitals\",\"Top\",\"Hollywood\",\"Democrat\",\"opponents\",\"targets\",\"suffering\",\"festival\",\"Network\",\"compensation\",\"guilty\",\"efficient\",\"managers\",\"truly\",\"faith\",\"scores\",\"busy\",\"extend\",\"faster\",\"yourself\",\"weak\",\"rare\",\"initially\",\"importance\",\"waste\",\"suspected\",\"margin\",\"watched\",\"meters\",\"Ireland\",\"franchise\",\"fashion\",\"pound\",\"professor\",\"Alabama\",\"multi\",\"grown\",\"Officials\",\"estimate\",\"document\",\"register\",\"cable\",\"obviously\",\"familiar\",\"scientists\",\"Cleveland\",\"artists\",\"invited\",\"#,###,###\",\"vs.\",\"crimes\",\"Gulf\",\"Hamas\",\"prepare\",\"volunteers\",\"cool\",\"financing\",\"images\",\"fixed\",\"hired\",\"enable\",\"camera\",\"Food\",\"memory\",\"historic\",\"dinner\",\"proved\",\"Arab\",\"sees\",\"telephone\",\"vision\",\"reportedly\",\"soccer\",\".###\",\"Irish\",\"ship\",\"path\",\"actor\",\"circumstances\",\"severe\",\"expert\",\"traveling\",\"engineering\",\"Manchester\",\"Four\",\"dance\",\"Taliban\",\"Jason\",\"Turkey\",\"Several\",\"overseas\",\"Thompson\",\"bridge\",\"lowest\",\"auto\",\"counts\",\"attempts\",\"reflect\",\"color\",\"Tim\",\"wounded\",\"secret\",\"visited\",\"greatest\",\"leaves\",\"types\",\"representatives\",\"worry\",\"internal\",\"Bay\",\"adds\",\"athletes\",\"Harris\",\"mix\",\"industries\",\"ministry\",\"signing\",\"Woods\",\"targeted\",\"tells\",\"Please\",\"serves\",\"interest_rates\",\"AP_Photo\",\"Local\",\"graduate\",\"quoted\",\"argued\",\"association\",\"lots\",\"announce\",\"shortly\",\"featured\",\"marriage\",\"contained\",\"Man\",\"priority\",\"terrorist\",\"Commerce\",\"Oil\",\"Pittsburgh\",\"unlikely\",\"causing\",\"directed\",\"code\",\"die\",\"category\",\"chosen\",\"shift\",\"Rangers\",\"Gaza\",\"maintenance\",\"apartment\",\"theater\",\"effectively\",\"Denver\",\"mine\",\"upset\",\"western\",\"nationwide\",\"GOP\",\"thinks\",\"Pacific\",\"euro\",\"Joseph\",\"Sales\",\"closely\",\"friendly\",\"channel\",\"brain\",\"custody\",\"barrel\",\"afford\",\"Who\",\"Yes\",\"dogs\",\"residential\",\"dream\",\"actual\",\"reaching\",\"transaction\",\"Kentucky\",\"finals\",\"#.###\",\"cooperation\",\"boat\",\"investigating\",\"communication\",\"freshman\",\"outlook\",\"deadline\",\"surface\",\"parent\",\"phase\",\"eat\",\"asset\",\"truth\",\"delay\",\"enjoyed\",\"shape\",\"anticipated\",\"representing\",\"purchased\",\"hoped\",\"Judge\",\"Rep.\",\"portion\",\"opposed\",\"Security\",\"enterprise\",\"animal\",\"controlled\",\"politicians\",\"Power\",\"North_Korea\",\"Dan\",\"cards\",\"suggest\",\"Family\",\"concert\",\"uncertainties\",\"Free\",\"granted\",\"beautiful\",\"recognize\",\"joining\",\"####-####\",\"flights\",\"absolutely\",\"Hamilton\",\"dealing\",\"cap\",\"turns\",\"Capital\",\"ties\",\"informed\",\"Jack\",\"#,###.##\",\"window\",\"'##\",\"Best\",\"pool\",\"Hong_Kong\",\"coaching\",\"titles\",\"blue\",\"amazing\",\"fears\",\"demands\",\"Missouri\",\"cited\",\"behalf\",\"Edwards\",\"bonds\",\"shoulder\",\"seriously\",\"districts\",\"aggressive\",\"alive\",\"Utah\",\"bomb\",\"suspects\",\"dark\",\"sea\",\"therefore\",\"overtime\",\"submitted\",\"agenda\",\"establish\",\"Kansas\",\"engine\",\"Program\",\"mainly\",\"NCAA\",\"maximum\",\"male\",\"pushing\",\"airline\",\"principal\",\"library\",\"pieces\",\"dispute\",\"corruption\",\"reserve\",\"Children\",\"sponsored\",\"militants\",\"reducing\",\"Massachusetts\",\"originally\",\"Championship\",\"sharing\",\"mixed\",\"complaint\",\"J.\",\"realized\",\"crucial\",\"province\",\"ultimately\",\"brands\",\"capabilities\",\"acknowledged\",\"distance\",\"struggle\",\"Or\",\"stations\",\"discussions\",\"judges\",\"Maybe\",\"extensive\",\"Award\",\"Giants\",\"manufacturers\",\"Jewish\",\"Egypt\",\"United_Nations\",\"achieved\",\"defeated\",\"assault\",\"worker\",\"criticism\",\"usual\",\"Patrick\",\"presentation\",\"improvements\",\"Of_course\",\"Anthony\",\"represented\",\"Such\",\"Shares\",\"Any\",\"findings\",\"counties\",\"stolen\",\"K\",\"expense\",\"Daniel\",\"Dr\",\"editor\",\"herself\",\"Drive\",\"complaints\",\"buyers\",\"A.\",\"mentioned\",\"stayed\",\"efficiency\",\"democracy\",\"knee\",\"connected\",\"Islamic\",\"Q\",\"terror\",\"operates\",\"law_enforcement\",\"prime_minister\",\"Series\",\"neighbors\",\"successfully\",\"permanent\",\"Tony\",\"parliament\",\"adult\",\"ages\",\"Eagles\",\"consistent\",\"proposals\",\"explain\",\"formed\",\"weekly\",\"supports\",\"coast\",\"broad\",\"iPhone\",\"relevant\",\"opener\",\"detailed\",\"Walker\",\"human_rights\",\"Iranian\",\"letters\",\"guess\",\"internet\",\"struggled\",\"entering\",\"widely\",\"recovered\",\"Law\",\"happening\",\"par\",\"protests\",\"II\",\"colleagues\",\"tool\",\"trees\",\"text\",\"capable\",\"Phoenix\",\"monitoring\",\"limits\",\"eligible\",\"#\",\"passenger\",\"expanded\",\"Ms.\",\"reputation\",\"brief\",\"motion\",\"St._Louis\"],\"x\":{\"__ndarray__\":\"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\",\"dtype\":\"float32\",\"shape\":[3000]},\"y\":{\"__ndarray__\":\"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\",\"dtype\":\"float32\",\"shape\":[3000]}},\"selected\":{\"id\":\"1553\"},\"selection_policy\":{\"id\":\"1552\"}},\"id\":\"1545\",\"type\":\"ColumnDataSource\"},{\"attributes\":{\"fill_color\":{\"value\":\"#1f77b4\"},\"line_color\":{\"value\":\"#1f77b4\"},\"x\":{\"field\":\"x\"},\"y\":{\"field\":\"y\"}},\"id\":\"1547\",\"type\":\"Scatter\"}],\"root_ids\":[\"1522\"]},\"title\":\"Bokeh Application\",\"version\":\"2.0.1\"}};\n",
       "  var render_items = [{\"docid\":\"92b53027-a44a-4a10-8db5-2faa9bb52a0d\",\"root_ids\":[\"1522\"],\"roots\":{\"1522\":\"f4d06179-cbf3-43bc-9ce3-4cbea0790c29\"}}];\n",
       "  root.Bokeh.embed.embed_items_notebook(docs_json, render_items);\n",
       "\n",
       "  }\n",
       "  if (root.Bokeh !== undefined) {\n",
       "    embed_document(root);\n",
       "  } else {\n",
       "    var attempts = 0;\n",
       "    var timer = setInterval(function(root) {\n",
       "      if (root.Bokeh !== undefined) {\n",
       "        clearInterval(timer);\n",
       "        embed_document(root);\n",
       "      } else {\n",
       "        attempts++;\n",
       "        if (attempts > 100) {\n",
       "          clearInterval(timer);\n",
       "          console.log(\"Bokeh: ERROR: Unable to run BokehJS code because BokehJS library is missing\");\n",
       "        }\n",
       "      }\n",
       "    }, 10, root)\n",
       "  }\n",
       "})(window);"
      ],
      "application/vnd.bokehjs_exec.v0+json": ""
     },
     "metadata": {
      "application/vnd.bokehjs_exec.v0+json": {
       "id": "1522"
      }
     },
     "output_type": "display_data"
    }
   ],
   "source": [
    "# Importing bokeh libraries for showing how words of similar context are grouped together\n",
    "import bokeh.plotting as bp\n",
    "import pandas as pd\n",
    "from bokeh.models import HoverTool, BoxSelectTool,LabelSet,ColumnDataSource\n",
    "from bokeh.plotting import figure, show, output_notebook\n",
    "voc_size=3000\n",
    "#Defining the chart\n",
    "output_notebook()\n",
    "plot_chart = bp.figure(plot_width=700, plot_height=600, title=\"A map/plot of 3000 word vectors\",\n",
    "    tools=\"pan,wheel_zoom,box_zoom,reset,hover\",\n",
    "    x_axis_type=None, y_axis_type=None, min_border=1)\n",
    "\n",
    "#Extracting the list of word vectors, limiting to 1000, each is of 200 dimensions\n",
    "word_vectors = [model[w] for w in list(model.wv.vocab.keys())[:voc_size]]\n",
    "\n",
    "# Reducing dimensionality by converting the vectors to 2d vectors\n",
    "from sklearn.manifold import TSNE\n",
    "tsne_model = TSNE(n_components=2, verbose=1, random_state=0)\n",
    "tsne_w2v = tsne_model.fit_transform(word_vectors)\n",
    "\n",
    "# Storing data in a dataframe\n",
    "tsne_df = pd.DataFrame(tsne_w2v, columns=['x', 'y'])\n",
    "tsne_df['words'] = list(model.wv.vocab.keys())[:voc_size]\n",
    "\n",
    "# Corresponding word appears when you hover on the data point.\n",
    "plot_chart.scatter(x='x', y='y',source=tsne_df)\n",
    "hover = plot_chart.select(dict(type=HoverTool))\n",
    "hover.tooltips={\"word\": \"@words\"}\n",
    "show(plot_chart)"
   ]
  },
  {
   "cell_type": "code",
   "execution_count": null,
   "metadata": {},
   "outputs": [],
   "source": []
  }
 ],
 "metadata": {
  "kernelspec": {
   "display_name": "Python 3",
   "language": "python",
   "name": "python3"
  },
  "language_info": {
   "codemirror_mode": {
    "name": "ipython",
    "version": 3
   },
   "file_extension": ".py",
   "mimetype": "text/x-python",
   "name": "python",
   "nbconvert_exporter": "python",
   "pygments_lexer": "ipython3",
   "version": "3.7.1"
  }
 },
 "nbformat": 4,
 "nbformat_minor": 2
}
