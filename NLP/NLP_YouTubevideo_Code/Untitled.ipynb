{
 "cells": [
  {
   "cell_type": "code",
   "execution_count": 12,
   "metadata": {},
   "outputs": [
    {
     "ename": "IndentationError",
     "evalue": "expected an indented block (<ipython-input-12-252f48cc6df2>, line 14)",
     "output_type": "error",
     "traceback": [
      "\u001b[1;36m  File \u001b[1;32m\"<ipython-input-12-252f48cc6df2>\"\u001b[1;36m, line \u001b[1;32m14\u001b[0m\n\u001b[1;33m    val = str(val)\u001b[0m\n\u001b[1;37m      ^\u001b[0m\n\u001b[1;31mIndentationError\u001b[0m\u001b[1;31m:\u001b[0m expected an indented block\n"
     ]
    }
   ],
   "source": [
    "# Python program to generate WordCloud \n",
    "# importing all necessery modules \n",
    "from wordcloud import WordCloud, STOPWORDS \n",
    "import matplotlib.pyplot as plt \n",
    "import pandas as pd \n",
    "\n",
    "# Reads 'Youtube04-Eminem.csv' file \n",
    "df = pd.read_csv(r\"C:\\Users\\shashi.singh\\Downloads\\YouTube-Spam-Collection-v1\\Youtube04-Eminem.csv\", encoding =\"latin-1\") \n",
    "comment_words = ' '\n",
    "stopwords = set(STOPWORDS) \n",
    "\n",
    "# iterate through the csv file \n",
    "for val in df.CONTENT: \n",
    "val = str(val) \n",
    "tokens = val.split() "
   ]
  },
  {
   "cell_type": "code",
   "execution_count": 6,
   "metadata": {},
   "outputs": [
    {
     "ename": "IndentationError",
     "evalue": "expected an indented block (<ipython-input-6-eef1ffb86cdf>, line 18)",
     "output_type": "error",
     "traceback": [
      "\u001b[1;36m  File \u001b[1;32m\"<ipython-input-6-eef1ffb86cdf>\"\u001b[1;36m, line \u001b[1;32m18\u001b[0m\n\u001b[1;33m    comment_words = comment_words + words + ' '\u001b[0m\n\u001b[1;37m                ^\u001b[0m\n\u001b[1;31mIndentationError\u001b[0m\u001b[1;31m:\u001b[0m expected an indented block\n"
     ]
    }
   ],
   "source": [
    "\n",
    "\n",
    "# Reads 'Youtube04-Eminem.csv' file \n",
    "df = pd.read_csv(r\"Youtube04-Eminem.csv\", encoding =\"latin-1\") \n",
    "\n",
    "comment_words = ' '\n",
    "stopwords = set(STOPWORDS) \n",
    "\n",
    "# iterate through the csv file \n",
    "for val in df.CONTENT: \n",
    "\t\n",
    "\t# typecaste each val to string \n",
    "\tval = str(val) \n",
    "\n",
    "\t# split the value \n",
    "\ttokens = val.split() \n",
    "\t\n",
    "\t# Converts each token into lowercase \n",
    "\tfor i in range(len(tokens)): \n",
    "\t\ttokens[i] = tokens[i].lower() \n",
    "\t\t\n",
    "\tfor words in tokens: \n",
    "\tcomment_words = comment_words + words + ' '\n",
    "\n",
    "\n",
    "wordcloud = WordCloud(width = 800, height = 800, \n",
    "\t\t\t\tbackground_color ='white', \n",
    "\t\t\t\tstopwords = stopwords, \n",
    "\t\t\t\tmin_font_size = 10).generate(comment_words) \n",
    "\n",
    "# plot the WordCloud image\t\t\t\t\t \n",
    "plt.figure(figsize = (8, 8), facecolor = None) \n",
    "plt.imshow(wordcloud) \n",
    "plt.axis(\"off\") \n",
    "plt.tight_layout(pad = 0) \n",
    "\n",
    "plt.show() "
   ]
  },
  {
   "cell_type": "code",
   "execution_count": null,
   "metadata": {},
   "outputs": [],
   "source": []
  }
 ],
 "metadata": {
  "kernelspec": {
   "display_name": "Python 3",
   "language": "python",
   "name": "python3"
  },
  "language_info": {
   "codemirror_mode": {
    "name": "ipython",
    "version": 3
   },
   "file_extension": ".py",
   "mimetype": "text/x-python",
   "name": "python",
   "nbconvert_exporter": "python",
   "pygments_lexer": "ipython3",
   "version": "3.7.3"
  }
 },
 "nbformat": 4,
 "nbformat_minor": 4
}
